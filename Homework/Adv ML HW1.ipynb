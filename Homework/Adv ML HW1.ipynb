{
 "cells": [
  {
   "cell_type": "markdown",
   "id": "65fa5c44",
   "metadata": {},
   "source": [
    "# ADV ML HW1"
   ]
  },
  {
   "cell_type": "markdown",
   "id": "7c0515e2",
   "metadata": {},
   "source": [
    "# Estelle Chan"
   ]
  },
  {
   "cell_type": "code",
   "execution_count": 1,
   "id": "43ebc368",
   "metadata": {},
   "outputs": [
    {
     "name": "stdout",
     "output_type": "stream",
     "text": [
      "Requirement already satisfied: aimodelshare in /Users/chenbaiying/opt/anaconda3/lib/python3.9/site-packages (0.0.178)\n",
      "Requirement already satisfied: torch>=1.8.1 in /Users/chenbaiying/opt/anaconda3/lib/python3.9/site-packages (from aimodelshare) (1.13.1)\n",
      "Requirement already satisfied: shortuuid>=1.0.8 in /Users/chenbaiying/opt/anaconda3/lib/python3.9/site-packages (from aimodelshare) (1.0.11)\n",
      "Requirement already satisfied: onnx==1.12.0 in /Users/chenbaiying/opt/anaconda3/lib/python3.9/site-packages (from aimodelshare) (1.12.0)\n",
      "Requirement already satisfied: pathlib>=1.0.1 in /Users/chenbaiying/opt/anaconda3/lib/python3.9/site-packages (from aimodelshare) (1.0.1)\n",
      "Requirement already satisfied: scikit-learn==0.24.2 in /Users/chenbaiying/opt/anaconda3/lib/python3.9/site-packages (from aimodelshare) (0.24.2)\n",
      "Requirement already satisfied: seaborn>=0.11.2 in /Users/chenbaiying/opt/anaconda3/lib/python3.9/site-packages (from aimodelshare) (0.11.2)\n",
      "Requirement already satisfied: tf2onnx in /Users/chenbaiying/opt/anaconda3/lib/python3.9/site-packages (from aimodelshare) (1.13.0)\n",
      "Requirement already satisfied: skl2onnx>=1.8.0 in /Users/chenbaiying/opt/anaconda3/lib/python3.9/site-packages (from aimodelshare) (1.13)\n",
      "Requirement already satisfied: Pympler==0.9 in /Users/chenbaiying/opt/anaconda3/lib/python3.9/site-packages (from aimodelshare) (0.9)\n",
      "Requirement already satisfied: onnxruntime>=1.7.0 in /Users/chenbaiying/opt/anaconda3/lib/python3.9/site-packages (from aimodelshare) (1.13.1)\n",
      "Requirement already satisfied: botocore==1.24.20 in /Users/chenbaiying/opt/anaconda3/lib/python3.9/site-packages (from aimodelshare) (1.24.20)\n",
      "Requirement already satisfied: onnxconverter-common>=1.7.0 in /Users/chenbaiying/opt/anaconda3/lib/python3.9/site-packages (from aimodelshare) (1.13.0)\n",
      "Requirement already satisfied: wget==3.2 in /Users/chenbaiying/opt/anaconda3/lib/python3.9/site-packages (from aimodelshare) (3.2)\n",
      "Requirement already satisfied: onnxmltools>=1.6.1 in /Users/chenbaiying/opt/anaconda3/lib/python3.9/site-packages (from aimodelshare) (1.11.1)\n",
      "Requirement already satisfied: astunparse==1.6.3 in /Users/chenbaiying/opt/anaconda3/lib/python3.9/site-packages (from aimodelshare) (1.6.3)\n",
      "Requirement already satisfied: psutil>=5.9.1 in /Users/chenbaiying/opt/anaconda3/lib/python3.9/site-packages (from aimodelshare) (5.9.4)\n",
      "Requirement already satisfied: docker==5.0.0 in /Users/chenbaiying/opt/anaconda3/lib/python3.9/site-packages (from aimodelshare) (5.0.0)\n",
      "Requirement already satisfied: keras2onnx>=1.7.0 in /Users/chenbaiying/opt/anaconda3/lib/python3.9/site-packages (from aimodelshare) (1.7.0)\n",
      "Requirement already satisfied: pydot==1.3.0 in /Users/chenbaiying/opt/anaconda3/lib/python3.9/site-packages (from aimodelshare) (1.3.0)\n",
      "Requirement already satisfied: boto3==1.21.20 in /Users/chenbaiying/opt/anaconda3/lib/python3.9/site-packages (from aimodelshare) (1.21.20)\n",
      "Requirement already satisfied: tensorflow==2.9.2 in /Users/chenbaiying/opt/anaconda3/lib/python3.9/site-packages (from aimodelshare) (2.9.2)\n",
      "Requirement already satisfied: regex in /Users/chenbaiying/opt/anaconda3/lib/python3.9/site-packages (from aimodelshare) (2022.3.15)\n",
      "Requirement already satisfied: importlib-resources==5.10.0 in /Users/chenbaiying/opt/anaconda3/lib/python3.9/site-packages (from aimodelshare) (5.10.0)\n",
      "Requirement already satisfied: PyJWT>=2.4.0 in /Users/chenbaiying/opt/anaconda3/lib/python3.9/site-packages (from aimodelshare) (2.6.0)\n",
      "Requirement already satisfied: six<2.0,>=1.6.1 in /Users/chenbaiying/opt/anaconda3/lib/python3.9/site-packages (from astunparse==1.6.3->aimodelshare) (1.16.0)\n",
      "Requirement already satisfied: wheel<1.0,>=0.23.0 in /Users/chenbaiying/opt/anaconda3/lib/python3.9/site-packages (from astunparse==1.6.3->aimodelshare) (0.37.1)\n",
      "Requirement already satisfied: jmespath<1.0.0,>=0.7.1 in /Users/chenbaiying/opt/anaconda3/lib/python3.9/site-packages (from boto3==1.21.20->aimodelshare) (0.10.0)\n",
      "Requirement already satisfied: s3transfer<0.6.0,>=0.5.0 in /Users/chenbaiying/opt/anaconda3/lib/python3.9/site-packages (from boto3==1.21.20->aimodelshare) (0.5.0)\n",
      "Requirement already satisfied: urllib3<1.27,>=1.25.4 in /Users/chenbaiying/opt/anaconda3/lib/python3.9/site-packages (from botocore==1.24.20->aimodelshare) (1.26.9)\n",
      "Requirement already satisfied: python-dateutil<3.0.0,>=2.1 in /Users/chenbaiying/opt/anaconda3/lib/python3.9/site-packages (from botocore==1.24.20->aimodelshare) (2.8.2)\n",
      "Requirement already satisfied: websocket-client>=0.32.0 in /Users/chenbaiying/opt/anaconda3/lib/python3.9/site-packages (from docker==5.0.0->aimodelshare) (0.58.0)\n",
      "Requirement already satisfied: requests!=2.18.0,>=2.14.2 in /Users/chenbaiying/opt/anaconda3/lib/python3.9/site-packages (from docker==5.0.0->aimodelshare) (2.27.1)\n",
      "Requirement already satisfied: zipp>=3.1.0 in /Users/chenbaiying/opt/anaconda3/lib/python3.9/site-packages (from importlib-resources==5.10.0->aimodelshare) (3.7.0)\n",
      "Requirement already satisfied: protobuf<=3.20.1,>=3.12.2 in /Users/chenbaiying/opt/anaconda3/lib/python3.9/site-packages (from onnx==1.12.0->aimodelshare) (3.19.1)\n",
      "Requirement already satisfied: typing-extensions>=3.6.2.1 in /Users/chenbaiying/opt/anaconda3/lib/python3.9/site-packages (from onnx==1.12.0->aimodelshare) (4.1.1)\n",
      "Requirement already satisfied: numpy>=1.16.6 in /Users/chenbaiying/opt/anaconda3/lib/python3.9/site-packages (from onnx==1.12.0->aimodelshare) (1.22.4)\n",
      "Requirement already satisfied: pyparsing>=2.1.4 in /Users/chenbaiying/opt/anaconda3/lib/python3.9/site-packages (from pydot==1.3.0->aimodelshare) (3.0.4)\n",
      "Requirement already satisfied: scipy>=0.19.1 in /Users/chenbaiying/opt/anaconda3/lib/python3.9/site-packages (from scikit-learn==0.24.2->aimodelshare) (1.7.3)\n",
      "Requirement already satisfied: threadpoolctl>=2.0.0 in /Users/chenbaiying/opt/anaconda3/lib/python3.9/site-packages (from scikit-learn==0.24.2->aimodelshare) (2.2.0)\n",
      "Requirement already satisfied: joblib>=0.11 in /Users/chenbaiying/opt/anaconda3/lib/python3.9/site-packages (from scikit-learn==0.24.2->aimodelshare) (1.1.0)\n",
      "Requirement already satisfied: grpcio<2.0,>=1.24.3 in /Users/chenbaiying/opt/anaconda3/lib/python3.9/site-packages (from tensorflow==2.9.2->aimodelshare) (1.42.0)\n",
      "Requirement already satisfied: google-pasta>=0.1.1 in /Users/chenbaiying/opt/anaconda3/lib/python3.9/site-packages (from tensorflow==2.9.2->aimodelshare) (0.2.0)\n",
      "Requirement already satisfied: gast<=0.4.0,>=0.2.1 in /Users/chenbaiying/opt/anaconda3/lib/python3.9/site-packages (from tensorflow==2.9.2->aimodelshare) (0.4.0)\n",
      "Requirement already satisfied: setuptools in /Users/chenbaiying/opt/anaconda3/lib/python3.9/site-packages (from tensorflow==2.9.2->aimodelshare) (61.2.0)\n",
      "Requirement already satisfied: libclang>=13.0.0 in /Users/chenbaiying/opt/anaconda3/lib/python3.9/site-packages (from tensorflow==2.9.2->aimodelshare) (15.0.6.1)\n",
      "Requirement already satisfied: tensorflow-estimator<2.10.0,>=2.9.0rc0 in /Users/chenbaiying/opt/anaconda3/lib/python3.9/site-packages (from tensorflow==2.9.2->aimodelshare) (2.9.0)\n",
      "Requirement already satisfied: tensorflow-io-gcs-filesystem>=0.23.1 in /Users/chenbaiying/opt/anaconda3/lib/python3.9/site-packages (from tensorflow==2.9.2->aimodelshare) (0.30.0)\n",
      "Requirement already satisfied: wrapt>=1.11.0 in /Users/chenbaiying/opt/anaconda3/lib/python3.9/site-packages (from tensorflow==2.9.2->aimodelshare) (1.12.1)\n",
      "Requirement already satisfied: h5py>=2.9.0 in /Users/chenbaiying/opt/anaconda3/lib/python3.9/site-packages (from tensorflow==2.9.2->aimodelshare) (3.6.0)\n",
      "Requirement already satisfied: absl-py>=1.0.0 in /Users/chenbaiying/opt/anaconda3/lib/python3.9/site-packages (from tensorflow==2.9.2->aimodelshare) (1.4.0)\n",
      "Requirement already satisfied: keras-preprocessing>=1.1.1 in /Users/chenbaiying/opt/anaconda3/lib/python3.9/site-packages (from tensorflow==2.9.2->aimodelshare) (1.1.2)\n",
      "Requirement already satisfied: opt-einsum>=2.3.2 in /Users/chenbaiying/opt/anaconda3/lib/python3.9/site-packages (from tensorflow==2.9.2->aimodelshare) (3.3.0)\n",
      "Requirement already satisfied: packaging in /Users/chenbaiying/opt/anaconda3/lib/python3.9/site-packages (from tensorflow==2.9.2->aimodelshare) (21.3)\n",
      "Requirement already satisfied: tensorboard<2.10,>=2.9 in /Users/chenbaiying/opt/anaconda3/lib/python3.9/site-packages (from tensorflow==2.9.2->aimodelshare) (2.9.1)\n",
      "Requirement already satisfied: termcolor>=1.1.0 in /Users/chenbaiying/opt/anaconda3/lib/python3.9/site-packages (from tensorflow==2.9.2->aimodelshare) (2.2.0)\n",
      "Requirement already satisfied: flatbuffers<2,>=1.12 in /Users/chenbaiying/opt/anaconda3/lib/python3.9/site-packages (from tensorflow==2.9.2->aimodelshare) (1.12)\n",
      "Requirement already satisfied: keras<2.10.0,>=2.9.0rc0 in /Users/chenbaiying/opt/anaconda3/lib/python3.9/site-packages (from tensorflow==2.9.2->aimodelshare) (2.9.0)\n",
      "Requirement already satisfied: fire in /Users/chenbaiying/opt/anaconda3/lib/python3.9/site-packages (from keras2onnx>=1.7.0->aimodelshare) (0.5.0)\n",
      "Requirement already satisfied: coloredlogs in /Users/chenbaiying/opt/anaconda3/lib/python3.9/site-packages (from onnxruntime>=1.7.0->aimodelshare) (15.0.1)\n",
      "Requirement already satisfied: sympy in /Users/chenbaiying/opt/anaconda3/lib/python3.9/site-packages (from onnxruntime>=1.7.0->aimodelshare) (1.10.1)\n",
      "Requirement already satisfied: idna<4,>=2.5 in /Users/chenbaiying/opt/anaconda3/lib/python3.9/site-packages (from requests!=2.18.0,>=2.14.2->docker==5.0.0->aimodelshare) (3.3)\n",
      "Requirement already satisfied: certifi>=2017.4.17 in /Users/chenbaiying/opt/anaconda3/lib/python3.9/site-packages (from requests!=2.18.0,>=2.14.2->docker==5.0.0->aimodelshare) (2021.10.8)\n",
      "Requirement already satisfied: charset-normalizer~=2.0.0 in /Users/chenbaiying/opt/anaconda3/lib/python3.9/site-packages (from requests!=2.18.0,>=2.14.2->docker==5.0.0->aimodelshare) (2.0.4)\n",
      "Requirement already satisfied: matplotlib>=2.2 in /Users/chenbaiying/opt/anaconda3/lib/python3.9/site-packages (from seaborn>=0.11.2->aimodelshare) (3.5.1)\n",
      "Requirement already satisfied: pandas>=0.23 in /Users/chenbaiying/opt/anaconda3/lib/python3.9/site-packages (from seaborn>=0.11.2->aimodelshare) (1.4.2)\n",
      "Requirement already satisfied: cycler>=0.10 in /Users/chenbaiying/opt/anaconda3/lib/python3.9/site-packages (from matplotlib>=2.2->seaborn>=0.11.2->aimodelshare) (0.11.0)\n",
      "Requirement already satisfied: kiwisolver>=1.0.1 in /Users/chenbaiying/opt/anaconda3/lib/python3.9/site-packages (from matplotlib>=2.2->seaborn>=0.11.2->aimodelshare) (1.3.2)\n",
      "Requirement already satisfied: pillow>=6.2.0 in /Users/chenbaiying/opt/anaconda3/lib/python3.9/site-packages (from matplotlib>=2.2->seaborn>=0.11.2->aimodelshare) (9.0.1)\n",
      "Requirement already satisfied: fonttools>=4.22.0 in /Users/chenbaiying/opt/anaconda3/lib/python3.9/site-packages (from matplotlib>=2.2->seaborn>=0.11.2->aimodelshare) (4.25.0)\n",
      "Requirement already satisfied: pytz>=2020.1 in /Users/chenbaiying/opt/anaconda3/lib/python3.9/site-packages (from pandas>=0.23->seaborn>=0.11.2->aimodelshare) (2021.3)\n",
      "Requirement already satisfied: markdown>=2.6.8 in /Users/chenbaiying/opt/anaconda3/lib/python3.9/site-packages (from tensorboard<2.10,>=2.9->tensorflow==2.9.2->aimodelshare) (3.3.4)\n",
      "Requirement already satisfied: tensorboard-data-server<0.7.0,>=0.6.0 in /Users/chenbaiying/opt/anaconda3/lib/python3.9/site-packages (from tensorboard<2.10,>=2.9->tensorflow==2.9.2->aimodelshare) (0.6.1)\n",
      "Requirement already satisfied: google-auth<3,>=1.6.3 in /Users/chenbaiying/opt/anaconda3/lib/python3.9/site-packages (from tensorboard<2.10,>=2.9->tensorflow==2.9.2->aimodelshare) (1.33.0)\n",
      "Requirement already satisfied: tensorboard-plugin-wit>=1.6.0 in /Users/chenbaiying/opt/anaconda3/lib/python3.9/site-packages (from tensorboard<2.10,>=2.9->tensorflow==2.9.2->aimodelshare) (1.8.1)\n",
      "Requirement already satisfied: werkzeug>=1.0.1 in /Users/chenbaiying/opt/anaconda3/lib/python3.9/site-packages (from tensorboard<2.10,>=2.9->tensorflow==2.9.2->aimodelshare) (2.0.3)\n",
      "Requirement already satisfied: google-auth-oauthlib<0.5,>=0.4.1 in /Users/chenbaiying/opt/anaconda3/lib/python3.9/site-packages (from tensorboard<2.10,>=2.9->tensorflow==2.9.2->aimodelshare) (0.4.6)\n",
      "Requirement already satisfied: pyasn1-modules>=0.2.1 in /Users/chenbaiying/opt/anaconda3/lib/python3.9/site-packages (from google-auth<3,>=1.6.3->tensorboard<2.10,>=2.9->tensorflow==2.9.2->aimodelshare) (0.2.8)\n",
      "Requirement already satisfied: cachetools<5.0,>=2.0.0 in /Users/chenbaiying/opt/anaconda3/lib/python3.9/site-packages (from google-auth<3,>=1.6.3->tensorboard<2.10,>=2.9->tensorflow==2.9.2->aimodelshare) (4.2.2)\n",
      "Requirement already satisfied: rsa<5,>=3.1.4 in /Users/chenbaiying/opt/anaconda3/lib/python3.9/site-packages (from google-auth<3,>=1.6.3->tensorboard<2.10,>=2.9->tensorflow==2.9.2->aimodelshare) (4.7.2)\n",
      "Requirement already satisfied: requests-oauthlib>=0.7.0 in /Users/chenbaiying/opt/anaconda3/lib/python3.9/site-packages (from google-auth-oauthlib<0.5,>=0.4.1->tensorboard<2.10,>=2.9->tensorflow==2.9.2->aimodelshare) (1.3.1)\n",
      "Requirement already satisfied: pyasn1<0.5.0,>=0.4.6 in /Users/chenbaiying/opt/anaconda3/lib/python3.9/site-packages (from pyasn1-modules>=0.2.1->google-auth<3,>=1.6.3->tensorboard<2.10,>=2.9->tensorflow==2.9.2->aimodelshare) (0.4.8)\n",
      "Requirement already satisfied: oauthlib>=3.0.0 in /Users/chenbaiying/opt/anaconda3/lib/python3.9/site-packages (from requests-oauthlib>=0.7.0->google-auth-oauthlib<0.5,>=0.4.1->tensorboard<2.10,>=2.9->tensorflow==2.9.2->aimodelshare) (3.2.2)\n",
      "Requirement already satisfied: humanfriendly>=9.1 in /Users/chenbaiying/opt/anaconda3/lib/python3.9/site-packages (from coloredlogs->onnxruntime>=1.7.0->aimodelshare) (10.0)\n",
      "Requirement already satisfied: mpmath>=0.19 in /Users/chenbaiying/opt/anaconda3/lib/python3.9/site-packages (from sympy->onnxruntime>=1.7.0->aimodelshare) (1.2.1)\n"
     ]
    }
   ],
   "source": [
    "#install aimodelshare library\n",
    "! pip install aimodelshare --upgrade"
   ]
  },
  {
   "cell_type": "code",
   "execution_count": 2,
   "id": "6f761e43",
   "metadata": {},
   "outputs": [],
   "source": [
    "#Get competition data from course folder and unzip\n",
    "# importing the zipfile module\n",
    "from zipfile import ZipFile\n",
    "  \n",
    "# loading the temp.zip and creating a zip object\n",
    "with ZipFile(\"world_happiness_competition_data.zip\", 'r') as zObject:\n",
    "  \n",
    "    # Extracting all the members of the zip \n",
    "    # into a specific location.\n",
    "    zObject.extractall()"
   ]
  },
  {
   "cell_type": "code",
   "execution_count": 3,
   "id": "1666e9d3",
   "metadata": {},
   "outputs": [
    {
     "data": {
      "text/html": [
       "<div>\n",
       "<style scoped>\n",
       "    .dataframe tbody tr th:only-of-type {\n",
       "        vertical-align: middle;\n",
       "    }\n",
       "\n",
       "    .dataframe tbody tr th {\n",
       "        vertical-align: top;\n",
       "    }\n",
       "\n",
       "    .dataframe thead th {\n",
       "        text-align: right;\n",
       "    }\n",
       "</style>\n",
       "<table border=\"1\" class=\"dataframe\">\n",
       "  <thead>\n",
       "    <tr style=\"text-align: right;\">\n",
       "      <th></th>\n",
       "      <th>Country or region</th>\n",
       "      <th>GDP per capita</th>\n",
       "      <th>Social support</th>\n",
       "      <th>Healthy life expectancy</th>\n",
       "      <th>Freedom to make life choices</th>\n",
       "      <th>Generosity</th>\n",
       "      <th>Perceptions of corruption</th>\n",
       "      <th>name</th>\n",
       "      <th>region</th>\n",
       "      <th>sub-region</th>\n",
       "      <th>Terrorist_attacks</th>\n",
       "    </tr>\n",
       "  </thead>\n",
       "  <tbody>\n",
       "    <tr>\n",
       "      <th>0</th>\n",
       "      <td>Peru</td>\n",
       "      <td>0.960</td>\n",
       "      <td>1.274</td>\n",
       "      <td>0.854</td>\n",
       "      <td>0.455</td>\n",
       "      <td>0.083</td>\n",
       "      <td>0.027</td>\n",
       "      <td>Peru</td>\n",
       "      <td>Americas</td>\n",
       "      <td>Latin America and the Caribbean</td>\n",
       "      <td>18.000000</td>\n",
       "    </tr>\n",
       "    <tr>\n",
       "      <th>1</th>\n",
       "      <td>Nicaragua</td>\n",
       "      <td>0.694</td>\n",
       "      <td>1.325</td>\n",
       "      <td>0.835</td>\n",
       "      <td>0.435</td>\n",
       "      <td>0.200</td>\n",
       "      <td>0.127</td>\n",
       "      <td>Nicaragua</td>\n",
       "      <td>Americas</td>\n",
       "      <td>Latin America and the Caribbean</td>\n",
       "      <td>125.611111</td>\n",
       "    </tr>\n",
       "    <tr>\n",
       "      <th>2</th>\n",
       "      <td>Greece</td>\n",
       "      <td>1.181</td>\n",
       "      <td>1.156</td>\n",
       "      <td>0.999</td>\n",
       "      <td>0.067</td>\n",
       "      <td>0.000</td>\n",
       "      <td>0.034</td>\n",
       "      <td>Greece</td>\n",
       "      <td>Europe</td>\n",
       "      <td>Southern Europe</td>\n",
       "      <td>112.000000</td>\n",
       "    </tr>\n",
       "    <tr>\n",
       "      <th>3</th>\n",
       "      <td>Qatar</td>\n",
       "      <td>1.684</td>\n",
       "      <td>1.313</td>\n",
       "      <td>0.871</td>\n",
       "      <td>0.555</td>\n",
       "      <td>0.220</td>\n",
       "      <td>0.167</td>\n",
       "      <td>Qatar</td>\n",
       "      <td>Asia</td>\n",
       "      <td>Western Asia</td>\n",
       "      <td>57.333333</td>\n",
       "    </tr>\n",
       "    <tr>\n",
       "      <th>4</th>\n",
       "      <td>Uzbekistan</td>\n",
       "      <td>0.745</td>\n",
       "      <td>1.529</td>\n",
       "      <td>0.756</td>\n",
       "      <td>0.631</td>\n",
       "      <td>0.322</td>\n",
       "      <td>0.240</td>\n",
       "      <td>Uzbekistan</td>\n",
       "      <td>Asia</td>\n",
       "      <td>Central Asia</td>\n",
       "      <td>125.611111</td>\n",
       "    </tr>\n",
       "  </tbody>\n",
       "</table>\n",
       "</div>"
      ],
      "text/plain": [
       "  Country or region  GDP per capita  Social support  Healthy life expectancy  \\\n",
       "0              Peru           0.960           1.274                    0.854   \n",
       "1         Nicaragua           0.694           1.325                    0.835   \n",
       "2            Greece           1.181           1.156                    0.999   \n",
       "3             Qatar           1.684           1.313                    0.871   \n",
       "4        Uzbekistan           0.745           1.529                    0.756   \n",
       "\n",
       "   Freedom to make life choices  Generosity  Perceptions of corruption  \\\n",
       "0                         0.455       0.083                      0.027   \n",
       "1                         0.435       0.200                      0.127   \n",
       "2                         0.067       0.000                      0.034   \n",
       "3                         0.555       0.220                      0.167   \n",
       "4                         0.631       0.322                      0.240   \n",
       "\n",
       "         name    region                       sub-region  Terrorist_attacks  \n",
       "0        Peru  Americas  Latin America and the Caribbean          18.000000  \n",
       "1   Nicaragua  Americas  Latin America and the Caribbean         125.611111  \n",
       "2      Greece    Europe                  Southern Europe         112.000000  \n",
       "3       Qatar      Asia                     Western Asia          57.333333  \n",
       "4  Uzbekistan      Asia                     Central Asia         125.611111  "
      ]
     },
     "execution_count": 3,
     "metadata": {},
     "output_type": "execute_result"
    }
   ],
   "source": [
    "# Load data\n",
    "import pandas as pd\n",
    "X_train = pd.read_csv('world_happiness_competition_data/X_train.csv')\n",
    "X_test = pd.read_csv('world_happiness_competition_data/X_test.csv')\n",
    "y_train = pd.read_csv('world_happiness_competition_data/y_train.csv')\n",
    "y_train_labels = y_train.idxmax(axis=1)\n",
    "\n",
    "X_train.head()"
   ]
  },
  {
   "cell_type": "code",
   "execution_count": 4,
   "id": "e4925394",
   "metadata": {},
   "outputs": [
    {
     "data": {
      "text/html": [
       "<div>\n",
       "<style scoped>\n",
       "    .dataframe tbody tr th:only-of-type {\n",
       "        vertical-align: middle;\n",
       "    }\n",
       "\n",
       "    .dataframe tbody tr th {\n",
       "        vertical-align: top;\n",
       "    }\n",
       "\n",
       "    .dataframe thead th {\n",
       "        text-align: right;\n",
       "    }\n",
       "</style>\n",
       "<table border=\"1\" class=\"dataframe\">\n",
       "  <thead>\n",
       "    <tr style=\"text-align: right;\">\n",
       "      <th></th>\n",
       "      <th>Average</th>\n",
       "      <th>High</th>\n",
       "      <th>Low</th>\n",
       "      <th>Very High</th>\n",
       "      <th>Very Low</th>\n",
       "    </tr>\n",
       "  </thead>\n",
       "  <tbody>\n",
       "    <tr>\n",
       "      <th>0</th>\n",
       "      <td>1</td>\n",
       "      <td>0</td>\n",
       "      <td>0</td>\n",
       "      <td>0</td>\n",
       "      <td>0</td>\n",
       "    </tr>\n",
       "    <tr>\n",
       "      <th>1</th>\n",
       "      <td>0</td>\n",
       "      <td>1</td>\n",
       "      <td>0</td>\n",
       "      <td>0</td>\n",
       "      <td>0</td>\n",
       "    </tr>\n",
       "    <tr>\n",
       "      <th>2</th>\n",
       "      <td>1</td>\n",
       "      <td>0</td>\n",
       "      <td>0</td>\n",
       "      <td>0</td>\n",
       "      <td>0</td>\n",
       "    </tr>\n",
       "    <tr>\n",
       "      <th>3</th>\n",
       "      <td>0</td>\n",
       "      <td>0</td>\n",
       "      <td>0</td>\n",
       "      <td>1</td>\n",
       "      <td>0</td>\n",
       "    </tr>\n",
       "    <tr>\n",
       "      <th>4</th>\n",
       "      <td>0</td>\n",
       "      <td>1</td>\n",
       "      <td>0</td>\n",
       "      <td>0</td>\n",
       "      <td>0</td>\n",
       "    </tr>\n",
       "  </tbody>\n",
       "</table>\n",
       "</div>"
      ],
      "text/plain": [
       "   Average  High  Low  Very High  Very Low\n",
       "0        1     0    0          0         0\n",
       "1        0     1    0          0         0\n",
       "2        1     0    0          0         0\n",
       "3        0     0    0          1         0\n",
       "4        0     1    0          0         0"
      ]
     },
     "execution_count": 4,
     "metadata": {},
     "output_type": "execute_result"
    }
   ],
   "source": [
    "y_train.head()"
   ]
  },
  {
   "cell_type": "code",
   "execution_count": 5,
   "id": "14d688ec",
   "metadata": {},
   "outputs": [],
   "source": [
    "from sklearn.preprocessing import StandardScaler, OneHotEncoder\n",
    "from sklearn.compose import ColumnTransformer, make_column_transformer\n",
    "from sklearn.pipeline import Pipeline\n",
    "from sklearn.impute import SimpleImputer\n",
    "from sklearn.preprocessing import StandardScaler, OneHotEncoder\n",
    "\n",
    "# We create the preprocessing pipelines for both numeric and categorical data.\n",
    "\n",
    "numeric_features = X_train.drop(['Country or region', 'name', 'region', 'sub-region'], axis=1)\n",
    "numeric_features=numeric_features.columns.tolist()\n",
    "\n",
    "numeric_transformer = Pipeline(steps=[\n",
    "    ('imputer', SimpleImputer(strategy='median')),\n",
    "    ('scaler', StandardScaler())])\n",
    "\n",
    "categorical_features = ['region', 'sub-region']\n",
    "\n",
    "#Replacing missing values with Modal value and then one hot encoding.\n",
    "categorical_transformer = Pipeline(steps=[\n",
    "    ('imputer', SimpleImputer(strategy='most_frequent')),\n",
    "    ('onehot', OneHotEncoder(handle_unknown='ignore'))])\n",
    "\n",
    "# final preprocessor object set up with ColumnTransformer\n",
    "preprocessor = ColumnTransformer(\n",
    "    transformers=[\n",
    "        ('num', numeric_transformer, numeric_features),\n",
    "        ('cat', categorical_transformer, categorical_features)])\n",
    "\n",
    "#Fit your preprocessor object\n",
    "preprocess=preprocessor.fit(X_train) "
   ]
  },
  {
   "cell_type": "code",
   "execution_count": 6,
   "id": "a68b5e7d",
   "metadata": {},
   "outputs": [],
   "source": [
    "# Write function to transform data with preprocessor\n",
    "\n",
    "def preprocessor(data):\n",
    "    data.drop(['Country or region', 'name'], axis=1)\n",
    "    preprocessed_data=preprocess.transform(data)\n",
    "    return preprocessed_data"
   ]
  },
  {
   "cell_type": "code",
   "execution_count": 7,
   "id": "f5a32147",
   "metadata": {},
   "outputs": [
    {
     "data": {
      "text/plain": [
       "(88, 26)"
      ]
     },
     "execution_count": 7,
     "metadata": {},
     "output_type": "execute_result"
    }
   ],
   "source": [
    "# check shape of X data after preprocessing it using our new function\n",
    "preprocessor(X_train).shape"
   ]
  },
  {
   "cell_type": "markdown",
   "id": "a86697cb",
   "metadata": {},
   "source": [
    "## Q1.Explore bivariate results (Use visualizations)"
   ]
  },
  {
   "cell_type": "code",
   "execution_count": 8,
   "id": "2d6d3427",
   "metadata": {},
   "outputs": [],
   "source": [
    "df = pd.concat([X_train, y_train])"
   ]
  },
  {
   "cell_type": "code",
   "execution_count": 9,
   "id": "76e4489e",
   "metadata": {},
   "outputs": [
    {
     "data": {
      "image/png": "[encoded data removed]",
      "text/plain": [
       "<Figure size 432x288 with 1 Axes>"
      ]
     },
     "metadata": {
      "needs_background": "light"
     },
     "output_type": "display_data"
    }
   ],
   "source": [
    "import seaborn as sns\n",
    "plot1 = sns.regplot(x=\"Healthy life expectancy\", y= \"Social support\", data=X_train, color='g')"
   ]
  },
  {
   "cell_type": "markdown",
   "id": "6b4a7903",
   "metadata": {},
   "source": []
  },
  {
   "cell_type": "code",
   "execution_count": 10,
   "id": "3dfc5331",
   "metadata": {},
   "outputs": [
    {
     "data": {
      "image/png": "[encoded data removed]",
      "text/plain": [
       "<Figure size 432x288 with 1 Axes>"
      ]
     },
     "metadata": {
      "needs_background": "light"
     },
     "output_type": "display_data"
    }
   ],
   "source": [
    "plot2= sns.regplot(x=\"Freedom to make life choices\", y=\"GDP per capita\", data=X_train, color='b')"
   ]
  },
  {
   "cell_type": "markdown",
   "id": "1235a9ef",
   "metadata": {},
   "source": [
    "## Q2. Examine features that predict happiness categories using one or more models that allow for automatic feature selection"
   ]
  },
  {
   "cell_type": "code",
   "execution_count": 11,
   "id": "7f1bcf62",
   "metadata": {},
   "outputs": [],
   "source": [
    "import pandas as pd\n",
    "import numpy as np\n",
    "from sklearn.ensemble import RandomForestClassifier\n",
    "from sklearn.feature_selection import SelectFromModel"
   ]
  },
  {
   "cell_type": "code",
   "execution_count": 12,
   "id": "fea118c6",
   "metadata": {},
   "outputs": [],
   "source": [
    "x = X_train.iloc[:,1:7]\n",
    "y = y_train.iloc[:,0]"
   ]
  },
  {
   "cell_type": "code",
   "execution_count": 13,
   "id": "d8ced478",
   "metadata": {},
   "outputs": [
    {
     "data": {
      "text/plain": [
       "SelectFromModel(estimator=RandomForestClassifier())"
      ]
     },
     "execution_count": 13,
     "metadata": {},
     "output_type": "execute_result"
    }
   ],
   "source": [
    "sel = SelectFromModel(RandomForestClassifier(n_estimators = 100))\n",
    "sel.fit(x, y)"
   ]
  },
  {
   "cell_type": "code",
   "execution_count": 14,
   "id": "f0fb32fe",
   "metadata": {},
   "outputs": [
    {
     "data": {
      "text/plain": [
       "3"
      ]
     },
     "execution_count": 14,
     "metadata": {},
     "output_type": "execute_result"
    }
   ],
   "source": [
    "selected_feat= x.columns[(sel.get_support())]\n",
    "len(selected_feat)"
   ]
  },
  {
   "cell_type": "code",
   "execution_count": 15,
   "id": "975af796",
   "metadata": {},
   "outputs": [
    {
     "name": "stdout",
     "output_type": "stream",
     "text": [
      "Index(['Social support', 'Generosity', 'Perceptions of corruption'], dtype='object')\n"
     ]
    }
   ],
   "source": [
    "print(selected_feat)"
   ]
  },
  {
   "cell_type": "markdown",
   "id": "91b2895a",
   "metadata": {},
   "source": [
    "## Q3.Experiment with different prediction models to try to predict World Happiness well (Fit and compare, at minimum, three models)"
   ]
  },
  {
   "cell_type": "code",
   "execution_count": 16,
   "id": "a4ebdbb9",
   "metadata": {},
   "outputs": [
    {
     "data": {
      "text/plain": [
       "0.8522727272727273"
      ]
     },
     "execution_count": 16,
     "metadata": {},
     "output_type": "execute_result"
    }
   ],
   "source": [
    "from sklearn.ensemble import RandomForestClassifier\n",
    "\n",
    "model = RandomForestClassifier(n_estimators=300, max_depth=3)\n",
    "model.fit(preprocessor(X_train), y_train_labels) # Fitting to the training set.\n",
    "model.score(preprocessor(X_train), y_train_labels) # Fit score, 0-1 scale."
   ]
  },
  {
   "cell_type": "code",
   "execution_count": null,
   "id": "36e8093f",
   "metadata": {},
   "outputs": [],
   "source": []
  }
 ],
 "metadata": {
  "kernelspec": {
   "display_name": "Python 3 (ipykernel)",
   "language": "python",
   "name": "python3"
  },
  "language_info": {
   "codemirror_mode": {
    "name": "ipython",
    "version": 3
   },
   "file_extension": ".py",
   "mimetype": "text/x-python",
   "name": "python",
   "nbconvert_exporter": "python",
   "pygments_lexer": "ipython3",
   "version": "3.9.12"
  }
 },
 "nbformat": 4,
 "nbformat_minor": 5
}
