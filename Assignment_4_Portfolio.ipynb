{
  "nbformat": 4,
  "nbformat_minor": 0,
  "metadata": {
    "colab": {
      "provenance": []
    },
    "kernelspec": {
      "name": "python3",
      "display_name": "Python 3"
    },
    "language_info": {
      "name": "python"
    }
  },
  "cells": [
    {
      "cell_type": "markdown",
      "source": [
        "# Project 1: U.N. World Happiness Data\n",
        "# Link: https://github.com/Estelleccc/ADV-ML-Project/blob/main/Project%201/Adv_ML_HW%231.ipynb"
      ],
      "metadata": {
        "id": "aO16AzoOQVmH"
      }
    },
    {
      "cell_type": "markdown",
      "source": [
        "## Description of the dataset"
      ],
      "metadata": {
        "id": "CLcGniXlQo5y"
      }
    },
    {
      "cell_type": "markdown",
      "source": [
        "The dataset measures and analyzes the level of happiness of people in different countries. dataset contains data on happiness levels, economic, social and health related indicators for 149 countries. rows in the dataset represent countries, while columns represent information on relevant variables. Examples include GDP per capita, social support, life expectancy, freedom, and corruption. The analysis and study of this dataset can further help the government to understand which indicators are effective in influencing people's happiness levels and to implement relevant actions and policies."
      ],
      "metadata": {
        "id": "_P6JgvwvRghG"
      }
    },
    {
      "cell_type": "markdown",
      "source": [
        "## Types of predictive models"
      ],
      "metadata": {
        "id": "Gqi0vkTzQ2vP"
      }
    },
    {
      "cell_type": "markdown",
      "source": [
        "In this project, I use Random Forest Classifier, Gradient Boosting Classifier, and Deep Learning Sequential model.\n",
        "\n",
        "\n",
        "*   In my Random Forest Model, the max_depth is 5 and the n_estimator is 100, and the score is 0.95.\n",
        "*   In my Gradient Boosting model, the max_depth is 1 and the n_estimator is 100, the score is 1.0.\n",
        "*   In my Deep Learning Sequential model, the number of neurons in each layer are 128, 64, 64, 32, 5. The epochs are 300 and the validation split is 0.25. The acurracy is 0.97 when epochs = 300.\n",
        "\n",
        "\n",
        "\n",
        "\n",
        "\n",
        "\n",
        "\n"
      ],
      "metadata": {
        "id": "Kv67rE-dRiJR"
      }
    },
    {
      "cell_type": "markdown",
      "source": [
        "## Comparison to the work of others on related competition leaderboards"
      ],
      "metadata": {
        "id": "NXoNqwRdRiuQ"
      }
    },
    {
      "cell_type": "markdown",
      "source": [
        "In the competition leaderboards, the best performing model is Gradient Boosting model, then the deep learning sequential model, and the Random Forest model. The depth is 10, and the dense layers are 10."
      ],
      "metadata": {
        "id": "4PdFVP7jRsR_"
      }
    },
    {
      "cell_type": "markdown",
      "source": [
        "# Project 2:COVID positive X-Ray Image Data\n",
        "# Link:https://github.com/Estelleccc/ADV-ML-Project/blob/main/Project%202/Assignment%20%232.ipynb"
      ],
      "metadata": {
        "id": "F9YTXe29TD74"
      }
    },
    {
      "cell_type": "markdown",
      "source": [
        "## Description of the dataset"
      ],
      "metadata": {
        "id": "pd16cEWOTP39"
      }
    },
    {
      "cell_type": "markdown",
      "source": [
        "This dataset is the collection of X-ray images that have been categorzied into three categories - COVID 19, pneumonia, and normal. The dataset has 4914 images. There are 1219 images in the COVID-19 category, 3133 images in the pneumonia category, and 562 images in the normal category. The x ray image shows how lungs look like in different conditions. Building a predictive data using this data might be practically useful because it can show how well these x ray image predicts different conditions. Doctors and society will BENEFIT from a model like this.Everyone in society will benefit from doctors being able to more accurately distinguish between COVID, Normal or pneumonia with x-ray images and treat patients more specifically and efficiently. "
      ],
      "metadata": {
        "id": "2YDVl22yTUL_"
      }
    },
    {
      "cell_type": "markdown",
      "source": [
        "## Types of predictive models"
      ],
      "metadata": {
        "id": "K2rfHizTTVkA"
      }
    },
    {
      "cell_type": "markdown",
      "source": [
        "The models I use are CNN, VGG 16, and Inception model. After discussed with my team, I tried out Neural Network model.  \n",
        "* CNN: I use 5 layers with kernel sizes of 3 and 1, and filters ranging from 32 to 512, 4 layers with pool sizes of 2, the optimizer is Adam, and the epoch =1, the accuracy is 0.6.\n",
        "* VGG 16: Dense hidden layer with 1024 units and ReLU activation function, and a Dense output layer with 3 units (corresponding to the 3 output classes) and softmax activation function. The model accuracy is 0.87 when epoch =10.\n",
        "* Inception model: The model is compiled using the \"adam\" optimizer, \"categorical_crossentropy\" loss function, the \"verbose\" parameter is set to 1, and the \"validation_split\" parameter is set to 0.2.\n",
        "* Neural Network: The model architecture consists of a Sequential() class with five Dense layers, each with a different number of units and activation function. The first Dense layer has 128 units and uses the ReLU activation function. The next three Dense layers have 256 units and also use the ReLU activation function. The fifth Dense layer has 64 units and uses the ReLU activation function. The output layer is a Dense layer with 3 units (corresponding to the 3 output classes) and uses the softmax activation function. The accuracy is 0.87 when epoch =5.\n",
        "\n",
        "\n",
        "\n"
      ],
      "metadata": {
        "id": "VLOw09VjTZy1"
      }
    },
    {
      "cell_type": "markdown",
      "source": [
        "## Comparison to the work of others on related competition leaderboards"
      ],
      "metadata": {
        "id": "LvF604s9TjWD"
      }
    },
    {
      "cell_type": "markdown",
      "source": [
        "According to the competition leaderboards, others CNN model which have 10 conventional layers (filters: 16,16,32,32,64,64,128,128,128,128) with the accuracy of 0.92. It performs better than mine."
      ],
      "metadata": {
        "id": "n_PH8XpWToG-"
      }
    },
    {
      "cell_type": "markdown",
      "source": [
        "# Project 3:Text Classification Using the Stanford SST Sentiment Dataset\n",
        "# Link:https://github.com/Estelleccc/ADV-ML-Project/blob/main/Project%203/Assignment%20%233.ipynb"
      ],
      "metadata": {
        "id": "hhpzd2ncTozx"
      }
    },
    {
      "cell_type": "markdown",
      "source": [
        "## Description of the dataset"
      ],
      "metadata": {
        "id": "wDxwjMXWTymU"
      }
    },
    {
      "cell_type": "markdown",
      "source": [
        "This dataset is a collection of reviews of movies with binary sentiment labels, classified as positive and negative. The dataset contains 67,349 movie reviews. Using this dataset to build predictive models can be used for sentiment analysis. Movie production companies and video sites can benefit from models like this one. Film companies can use sentiment analysis to determine audience preferences for a movie, so that they can provide feedback on negative reviews or create movies that cater to market preferences. Video sites can use this model to help users find movies that match their preferred moods."
      ],
      "metadata": {
        "id": "NcSIX3ViT3OJ"
      }
    },
    {
      "cell_type": "markdown",
      "source": [
        "## Types of predictive models"
      ],
      "metadata": {
        "id": "tOke2L7TT3vP"
      }
    },
    {
      "cell_type": "markdown",
      "source": [
        "The model I use\n",
        "* Sequential neural network model with LSTM layer, the first layer is an embedding layer, the input length for each sequence is set to 40. The next two layers are LSTM layers with 32 units each. A flatten layer is and a dense layer with a softmax activation function is added. Accuracy is 0.62. \n",
        "* Sequential neural network model with CONV1D. The first layer is an embedding layer, the next layer is a 1D convolutional layer with 32 filters, a kernel size of 2, and a softmax activation function. This layer is followed by a max pooling layer with a pool size of 5. Another 1D convolutional layer with 32 filters and a kernel size of 2, also with a softmax activation function, is added. A global max pooling layer is added and a dense layer with 2 units is added. Accuracy is 0.61 when epoch=5\n",
        "* Sequential neural network model with glove embedding. The Embedding layer is initialized with the pre-trained GloVe embeddings, the Conv1D layers use a softmax activation function with 32 filters and kernel size of 2. A MaxPooling1D layer with pool size of 5 is added to the model, followed by another Conv1D layer with 32 filters and kernel size of 2. A GlobalMaxPooling1D layer is then added to the model to produce a single output vector. Finally, a dense layer with 2 units is added. Accuracy is 0.527.\n",
        "\n"
      ],
      "metadata": {
        "id": "QKF5PYGPUBBA"
      }
    },
    {
      "cell_type": "markdown",
      "source": [
        "## Comparison to the work of others on related competition leaderboards"
      ],
      "metadata": {
        "id": "SENtB0w3UBeI"
      }
    },
    {
      "cell_type": "markdown",
      "source": [
        "Comparing to others work in competition leaderboards, which accuracy is 82.99%, the model is Sequential model with depth=6, embedding layer=1, dropout layer=1, bidirectional layer =1, globalmaxpooling1d_layers=1, dense_layers=1, softmax_act=1, and optimizer is Adam."
      ],
      "metadata": {
        "id": "YuT8wxKwUFCA"
      }
    }
  ]
}