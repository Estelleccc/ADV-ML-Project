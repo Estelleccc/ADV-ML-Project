{
  "cells": [
    {
      "cell_type": "markdown",
      "id": "65fa5c44",
      "metadata": {
        "id": "65fa5c44"
      },
      "source": [
        "# ADV ML HW1"
      ]
    },
    {
      "cell_type": "markdown",
      "id": "7c0515e2",
      "metadata": {
        "id": "7c0515e2"
      },
      "source": [
        "# Estelle Chan"
      ]
    },
    {
      "cell_type": "code",
      "execution_count": null,
      "id": "43ebc368",
      "metadata": {
        "id": "43ebc368"
      },
      "outputs": [],
      "source": [
        "#install aimodelshare library\n",
        "! pip install aimodelshare --upgrade"
      ]
    },
    {
      "cell_type": "code",
      "execution_count": null,
      "id": "6f761e43",
      "metadata": {
        "id": "6f761e43"
      },
      "outputs": [],
      "source": [
        "#Get competition data from course folder and unzip\n",
        "# importing the zipfile module\n",
        "from zipfile import ZipFile\n",
        "  \n",
        "# loading the temp.zip and creating a zip object\n",
        "with ZipFile(\"world_happiness_competition_data.zip\", 'r') as zObject:\n",
        "  \n",
        "    # Extracting all the members of the zip \n",
        "    # into a specific location.\n",
        "    zObject.extractall()"
      ]
    },
    {
      "cell_type": "code",
      "execution_count": null,
      "id": "1666e9d3",
      "metadata": {
        "id": "1666e9d3",
        "colab": {
          "base_uri": "https://localhost:8080/",
          "height": 458
        },
        "outputId": "6c078dcf-a7ef-4b0a-e14e-caa026954bdd"
      },
      "outputs": [
        {
          "output_type": "execute_result",
          "data": {
            "text/plain": [
              "  Country or region  GDP per capita  Social support  Healthy life expectancy  \\\n",
              "0              Peru           0.960           1.274                    0.854   \n",
              "1         Nicaragua           0.694           1.325                    0.835   \n",
              "2            Greece           1.181           1.156                    0.999   \n",
              "3             Qatar           1.684           1.313                    0.871   \n",
              "4        Uzbekistan           0.745           1.529                    0.756   \n",
              "\n",
              "   Freedom to make life choices  Generosity  Perceptions of corruption  \\\n",
              "0                         0.455       0.083                      0.027   \n",
              "1                         0.435       0.200                      0.127   \n",
              "2                         0.067       0.000                      0.034   \n",
              "3                         0.555       0.220                      0.167   \n",
              "4                         0.631       0.322                      0.240   \n",
              "\n",
              "         name    region                       sub-region  Terrorist_attacks  \n",
              "0        Peru  Americas  Latin America and the Caribbean          18.000000  \n",
              "1   Nicaragua  Americas  Latin America and the Caribbean         125.611111  \n",
              "2      Greece    Europe                  Southern Europe         112.000000  \n",
              "3       Qatar      Asia                     Western Asia          57.333333  \n",
              "4  Uzbekistan      Asia                     Central Asia         125.611111  "
            ],
            "text/html": [
              "\n",
              "  <div id=\"df-deb33f4c-82ae-451b-9c35-ffdbd9e169ea\">\n",
              "    <div class=\"colab-df-container\">\n",
              "      <div>\n",
              "<style scoped>\n",
              "    .dataframe tbody tr th:only-of-type {\n",
              "        vertical-align: middle;\n",
              "    }\n",
              "\n",
              "    .dataframe tbody tr th {\n",
              "        vertical-align: top;\n",
              "    }\n",
              "\n",
              "    .dataframe thead th {\n",
              "        text-align: right;\n",
              "    }\n",
              "</style>\n",
              "<table border=\"1\" class=\"dataframe\">\n",
              "  <thead>\n",
              "    <tr style=\"text-align: right;\">\n",
              "      <th></th>\n",
              "      <th>Country or region</th>\n",
              "      <th>GDP per capita</th>\n",
              "      <th>Social support</th>\n",
              "      <th>Healthy life expectancy</th>\n",
              "      <th>Freedom to make life choices</th>\n",
              "      <th>Generosity</th>\n",
              "      <th>Perceptions of corruption</th>\n",
              "      <th>name</th>\n",
              "      <th>region</th>\n",
              "      <th>sub-region</th>\n",
              "      <th>Terrorist_attacks</th>\n",
              "    </tr>\n",
              "  </thead>\n",
              "  <tbody>\n",
              "    <tr>\n",
              "      <th>0</th>\n",
              "      <td>Peru</td>\n",
              "      <td>0.960</td>\n",
              "      <td>1.274</td>\n",
              "      <td>0.854</td>\n",
              "      <td>0.455</td>\n",
              "      <td>0.083</td>\n",
              "      <td>0.027</td>\n",
              "      <td>Peru</td>\n",
              "      <td>Americas</td>\n",
              "      <td>Latin America and the Caribbean</td>\n",
              "      <td>18.000000</td>\n",
              "    </tr>\n",
              "    <tr>\n",
              "      <th>1</th>\n",
              "      <td>Nicaragua</td>\n",
              "      <td>0.694</td>\n",
              "      <td>1.325</td>\n",
              "      <td>0.835</td>\n",
              "      <td>0.435</td>\n",
              "      <td>0.200</td>\n",
              "      <td>0.127</td>\n",
              "      <td>Nicaragua</td>\n",
              "      <td>Americas</td>\n",
              "      <td>Latin America and the Caribbean</td>\n",
              "      <td>125.611111</td>\n",
              "    </tr>\n",
              "    <tr>\n",
              "      <th>2</th>\n",
              "      <td>Greece</td>\n",
              "      <td>1.181</td>\n",
              "      <td>1.156</td>\n",
              "      <td>0.999</td>\n",
              "      <td>0.067</td>\n",
              "      <td>0.000</td>\n",
              "      <td>0.034</td>\n",
              "      <td>Greece</td>\n",
              "      <td>Europe</td>\n",
              "      <td>Southern Europe</td>\n",
              "      <td>112.000000</td>\n",
              "    </tr>\n",
              "    <tr>\n",
              "      <th>3</th>\n",
              "      <td>Qatar</td>\n",
              "      <td>1.684</td>\n",
              "      <td>1.313</td>\n",
              "      <td>0.871</td>\n",
              "      <td>0.555</td>\n",
              "      <td>0.220</td>\n",
              "      <td>0.167</td>\n",
              "      <td>Qatar</td>\n",
              "      <td>Asia</td>\n",
              "      <td>Western Asia</td>\n",
              "      <td>57.333333</td>\n",
              "    </tr>\n",
              "    <tr>\n",
              "      <th>4</th>\n",
              "      <td>Uzbekistan</td>\n",
              "      <td>0.745</td>\n",
              "      <td>1.529</td>\n",
              "      <td>0.756</td>\n",
              "      <td>0.631</td>\n",
              "      <td>0.322</td>\n",
              "      <td>0.240</td>\n",
              "      <td>Uzbekistan</td>\n",
              "      <td>Asia</td>\n",
              "      <td>Central Asia</td>\n",
              "      <td>125.611111</td>\n",
              "    </tr>\n",
              "  </tbody>\n",
              "</table>\n",
              "</div>\n",
              "      <button class=\"colab-df-convert\" onclick=\"convertToInteractive('df-deb33f4c-82ae-451b-9c35-ffdbd9e169ea')\"\n",
              "              title=\"Convert this dataframe to an interactive table.\"\n",
              "              style=\"display:none;\">\n",
              "        \n",
              "  <svg xmlns=\"http://www.w3.org/2000/svg\" height=\"24px\"viewBox=\"0 0 24 24\"\n",
              "       width=\"24px\">\n",
              "    <path d=\"M0 0h24v24H0V0z\" fill=\"none\"/>\n",
              "    <path d=\"M18.56 5.44l.94 2.06.94-2.06 2.06-.94-2.06-.94-.94-2.06-.94 2.06-2.06.94zm-11 1L8.5 8.5l.94-2.06 2.06-.94-2.06-.94L8.5 2.5l-.94 2.06-2.06.94zm10 10l.94 2.06.94-2.06 2.06-.94-2.06-.94-.94-2.06-.94 2.06-2.06.94z\"/><path d=\"M17.41 7.96l-1.37-1.37c-.4-.4-.92-.59-1.43-.59-.52 0-1.04.2-1.43.59L10.3 9.45l-7.72 7.72c-.78.78-.78 2.05 0 2.83L4 21.41c.39.39.9.59 1.41.59.51 0 1.02-.2 1.41-.59l7.78-7.78 2.81-2.81c.8-.78.8-2.07 0-2.86zM5.41 20L4 18.59l7.72-7.72 1.47 1.35L5.41 20z\"/>\n",
              "  </svg>\n",
              "      </button>\n",
              "      \n",
              "  <style>\n",
              "    .colab-df-container {\n",
              "      display:flex;\n",
              "      flex-wrap:wrap;\n",
              "      gap: 12px;\n",
              "    }\n",
              "\n",
              "    .colab-df-convert {\n",
              "      background-color: #E8F0FE;\n",
              "      border: none;\n",
              "      border-radius: 50%;\n",
              "      cursor: pointer;\n",
              "      display: none;\n",
              "      fill: #1967D2;\n",
              "      height: 32px;\n",
              "      padding: 0 0 0 0;\n",
              "      width: 32px;\n",
              "    }\n",
              "\n",
              "    .colab-df-convert:hover {\n",
              "      background-color: #E2EBFA;\n",
              "      box-shadow: 0px 1px 2px rgba(60, 64, 67, 0.3), 0px 1px 3px 1px rgba(60, 64, 67, 0.15);\n",
              "      fill: #174EA6;\n",
              "    }\n",
              "\n",
              "    [theme=dark] .colab-df-convert {\n",
              "      background-color: #3B4455;\n",
              "      fill: #D2E3FC;\n",
              "    }\n",
              "\n",
              "    [theme=dark] .colab-df-convert:hover {\n",
              "      background-color: #434B5C;\n",
              "      box-shadow: 0px 1px 3px 1px rgba(0, 0, 0, 0.15);\n",
              "      filter: drop-shadow(0px 1px 2px rgba(0, 0, 0, 0.3));\n",
              "      fill: #FFFFFF;\n",
              "    }\n",
              "  </style>\n",
              "\n",
              "      <script>\n",
              "        const buttonEl =\n",
              "          document.querySelector('#df-deb33f4c-82ae-451b-9c35-ffdbd9e169ea button.colab-df-convert');\n",
              "        buttonEl.style.display =\n",
              "          google.colab.kernel.accessAllowed ? 'block' : 'none';\n",
              "\n",
              "        async function convertToInteractive(key) {\n",
              "          const element = document.querySelector('#df-deb33f4c-82ae-451b-9c35-ffdbd9e169ea');\n",
              "          const dataTable =\n",
              "            await google.colab.kernel.invokeFunction('convertToInteractive',\n",
              "                                                     [key], {});\n",
              "          if (!dataTable) return;\n",
              "\n",
              "          const docLinkHtml = 'Like what you see? Visit the ' +\n",
              "            '<a target=\"_blank\" href=https://colab.research.google.com/notebooks/data_table.ipynb>data table notebook</a>'\n",
              "            + ' to learn more about interactive tables.';\n",
              "          element.innerHTML = '';\n",
              "          dataTable['output_type'] = 'display_data';\n",
              "          await google.colab.output.renderOutput(dataTable, element);\n",
              "          const docLink = document.createElement('div');\n",
              "          docLink.innerHTML = docLinkHtml;\n",
              "          element.appendChild(docLink);\n",
              "        }\n",
              "      </script>\n",
              "    </div>\n",
              "  </div>\n",
              "  "
            ]
          },
          "metadata": {},
          "execution_count": 58
        }
      ],
      "source": [
        "# Load data\n",
        "import pandas as pd\n",
        "X_train = pd.read_csv('world_happiness_competition_data/X_train.csv')\n",
        "X_test = pd.read_csv('world_happiness_competition_data/X_test.csv')\n",
        "y_train = pd.read_csv('world_happiness_competition_data/y_train.csv')\n",
        "y_train_labels = y_train.idxmax(axis=1)\n",
        "\n",
        "X_train.head()"
      ]
    },
    {
      "cell_type": "code",
      "execution_count": null,
      "id": "14d688ec",
      "metadata": {
        "id": "14d688ec"
      },
      "outputs": [],
      "source": [
        "from sklearn.preprocessing import StandardScaler, OneHotEncoder\n",
        "from sklearn.compose import ColumnTransformer, make_column_transformer\n",
        "from sklearn.pipeline import Pipeline\n",
        "from sklearn.impute import SimpleImputer\n",
        "from sklearn.preprocessing import StandardScaler, OneHotEncoder\n",
        "\n",
        "# We create the preprocessing pipelines for both numeric and categorical data.\n",
        "\n",
        "numeric_features = X_train.drop(['Country or region', 'name', 'region', 'sub-region'], axis=1)\n",
        "numeric_features=numeric_features.columns.tolist()\n",
        "\n",
        "numeric_transformer = Pipeline(steps=[\n",
        "    ('imputer', SimpleImputer(strategy='median')),\n",
        "    ('scaler', StandardScaler())])\n",
        "\n",
        "categorical_features = ['region', 'sub-region']\n",
        "\n",
        "#Replacing missing values with Modal value and then one hot encoding.\n",
        "categorical_transformer = Pipeline(steps=[\n",
        "    ('imputer', SimpleImputer(strategy='most_frequent')),\n",
        "    ('onehot', OneHotEncoder(handle_unknown='ignore'))])\n",
        "\n",
        "# final preprocessor object set up with ColumnTransformer\n",
        "preprocessor = ColumnTransformer(\n",
        "    transformers=[\n",
        "        ('num', numeric_transformer, numeric_features),\n",
        "        ('cat', categorical_transformer, categorical_features)])\n",
        "\n",
        "#Fit your preprocessor object\n",
        "preprocess=preprocessor.fit(X_train) "
      ]
    },
    {
      "cell_type": "code",
      "execution_count": null,
      "id": "a68b5e7d",
      "metadata": {
        "id": "a68b5e7d"
      },
      "outputs": [],
      "source": [
        "# Write function to transform data with preprocessor\n",
        "\n",
        "def preprocessor(data):\n",
        "    data.drop(['Country or region', 'name'], axis=1)\n",
        "    preprocessed_data=preprocess.transform(data)\n",
        "    return preprocessed_data"
      ]
    },
    {
      "cell_type": "code",
      "execution_count": null,
      "id": "f5a32147",
      "metadata": {
        "id": "f5a32147",
        "colab": {
          "base_uri": "https://localhost:8080/"
        },
        "outputId": "f7b17751-d080-4e11-889f-8829bc0be416"
      },
      "outputs": [
        {
          "output_type": "execute_result",
          "data": {
            "text/plain": [
              "(88, 26)"
            ]
          },
          "metadata": {},
          "execution_count": 62
        }
      ],
      "source": [
        "# check shape of X data after preprocessing it using our new function\n",
        "preprocessor(X_train).shape"
      ]
    },
    {
      "cell_type": "markdown",
      "id": "a86697cb",
      "metadata": {
        "id": "a86697cb"
      },
      "source": [
        "## Q1.Explore bivariate results (Use visualizations)"
      ]
    },
    {
      "cell_type": "code",
      "execution_count": null,
      "id": "76e4489e",
      "metadata": {
        "id": "76e4489e",
        "colab": {
          "base_uri": "https://localhost:8080/",
          "height": 285
        },
        "outputId": "80a3e454-0065-496c-fa3c-025ae22787d0"
      },
      "outputs": [
        {
          "output_type": "display_data",
          "data": {
            "text/plain": [
              "<Figure size 432x288 with 1 Axes>"
            ],
            "image/png": "[encoded data removed]"
          },
          "metadata": {}
        }
      ],
      "source": [
        "import seaborn as sns\n",
        "plot1 = sns.regplot(x=\"Healthy life expectancy\", y= y_train.iloc[:,0], data=X_train, color='g')"
      ]
    },
    {
      "cell_type": "markdown",
      "id": "6b4a7903",
      "metadata": {
        "id": "6b4a7903"
      },
      "source": [
        "From the first plot we can find out there are positive relationship between 'Health Life Expectancy' and 'Average Life Evaluation'. When the 'Health Life Expectancy'increases, 'Average Life Evaluation' will increase."
      ]
    },
    {
      "cell_type": "code",
      "execution_count": null,
      "id": "3dfc5331",
      "metadata": {
        "id": "3dfc5331",
        "colab": {
          "base_uri": "https://localhost:8080/",
          "height": 285
        },
        "outputId": "8a2efe27-ce47-4c1f-d002-1133ce18b119"
      },
      "outputs": [
        {
          "output_type": "display_data",
          "data": {
            "text/plain": [
              "<Figure size 432x288 with 1 Axes>"
            ],
            "image/png": "[encoded data removed]"
          },
          "metadata": {}
        }
      ],
      "source": [
        "plot2= sns.regplot(x=\"Freedom to make life choices\", y= y_train.iloc[:,0], data=X_train, color='b')"
      ]
    },
    {
      "cell_type": "markdown",
      "source": [
        "From the second plot, we can find out there are negative relationship between 'Freedom to make life choices' and 'Average Life Evaluation'. When'Freedom to make life choices' increase, 'Average Life Evaluation' will decrease."
      ],
      "metadata": {
        "id": "bfdTnbDae60Q"
      },
      "id": "bfdTnbDae60Q"
    },
    {
      "cell_type": "markdown",
      "id": "1235a9ef",
      "metadata": {
        "id": "1235a9ef"
      },
      "source": [
        "## Q2. Examine features that predict happiness categories using one or more models that allow for automatic feature selection"
      ]
    },
    {
      "cell_type": "code",
      "execution_count": null,
      "id": "7f1bcf62",
      "metadata": {
        "id": "7f1bcf62"
      },
      "outputs": [],
      "source": [
        "import pandas as pd\n",
        "import numpy as np\n",
        "from sklearn.ensemble import RandomForestClassifier\n",
        "from sklearn.feature_selection import SelectFromModel"
      ]
    },
    {
      "cell_type": "code",
      "execution_count": null,
      "id": "fea118c6",
      "metadata": {
        "id": "fea118c6"
      },
      "outputs": [],
      "source": [
        "x = X_train.iloc[:,1:7]\n",
        "y = y_train.iloc[:,0]"
      ]
    },
    {
      "cell_type": "code",
      "execution_count": null,
      "id": "d8ced478",
      "metadata": {
        "id": "d8ced478",
        "colab": {
          "base_uri": "https://localhost:8080/"
        },
        "outputId": "e49531cc-7eea-4a6b-e09c-ab8206ef2666"
      },
      "outputs": [
        {
          "output_type": "execute_result",
          "data": {
            "text/plain": [
              "SelectFromModel(estimator=RandomForestClassifier())"
            ]
          },
          "metadata": {},
          "execution_count": 68
        }
      ],
      "source": [
        "sel = SelectFromModel(RandomForestClassifier(n_estimators = 100))\n",
        "sel.fit(x, y)"
      ]
    },
    {
      "cell_type": "code",
      "execution_count": null,
      "id": "f0fb32fe",
      "metadata": {
        "id": "f0fb32fe",
        "colab": {
          "base_uri": "https://localhost:8080/"
        },
        "outputId": "00ed4baf-5055-4da4-8977-2ca2ac04f7b4"
      },
      "outputs": [
        {
          "output_type": "execute_result",
          "data": {
            "text/plain": [
              "3"
            ]
          },
          "metadata": {},
          "execution_count": 69
        }
      ],
      "source": [
        "selected_feat= x.columns[(sel.get_support())]\n",
        "len(selected_feat)"
      ]
    },
    {
      "cell_type": "code",
      "execution_count": null,
      "id": "975af796",
      "metadata": {
        "id": "975af796",
        "colab": {
          "base_uri": "https://localhost:8080/"
        },
        "outputId": "15563f1f-69a5-4eb1-eac4-31556d4e1e38"
      },
      "outputs": [
        {
          "output_type": "stream",
          "name": "stdout",
          "text": [
            "Index(['GDP per capita', 'Generosity', 'Perceptions of corruption'], dtype='object')\n"
          ]
        }
      ],
      "source": [
        "print(selected_feat)"
      ]
    },
    {
      "cell_type": "markdown",
      "source": [
        "I use Random Forest Classifier to select features, 'GDP per capita', 'Generosity', and 'Perceptions of corruption' are automatically selected."
      ],
      "metadata": {
        "id": "SfC7zwU1H0T2"
      },
      "id": "SfC7zwU1H0T2"
    },
    {
      "cell_type": "markdown",
      "id": "91b2895a",
      "metadata": {
        "id": "91b2895a"
      },
      "source": [
        "## Q3.Experiment with different prediction models to try to predict World Happiness well (Fit and compare, at minimum, three models)"
      ]
    },
    {
      "cell_type": "markdown",
      "source": [
        "## Before discussion"
      ],
      "metadata": {
        "id": "8tBwiPc5GZEO"
      },
      "id": "8tBwiPc5GZEO"
    },
    {
      "cell_type": "markdown",
      "source": [
        "### Model 1: Random Forest"
      ],
      "metadata": {
        "id": "Pwhmy7Bz5A9C"
      },
      "id": "Pwhmy7Bz5A9C"
    },
    {
      "cell_type": "code",
      "source": [
        "from sklearn.ensemble import RandomForestClassifier\n",
        "from sklearn.model_selection import GridSearchCV\n",
        "import numpy as np\n",
        "\n",
        "param_grid = {'n_estimators': np.arange(100, 300, 500),'max_depth':[1, 3, 5]} #np.arange creates sequence of numbers for each k value\n",
        "\n",
        "gridmodel = GridSearchCV(RandomForestClassifier(), param_grid=param_grid, cv=10)\n",
        "\n",
        "#use meta model methods to fit score and predict model:\n",
        "gridmodel.fit(preprocessor(X_train), y_train_labels)\n",
        "\n",
        "#extract best score and parameter by calling objects \"best_score_\" and \"best_params_\"\n",
        "print(\"best mean cross-validation score: {:.3f}\".format(gridmodel.best_score_))\n",
        "print(\"best parameters: {}\".format(gridmodel.best_params_))"
      ],
      "metadata": {
        "colab": {
          "base_uri": "https://localhost:8080/"
        },
        "id": "toxlFkoQBGYh",
        "outputId": "967ce66e-a9b8-4e19-be36-3b32e83f4d9e"
      },
      "id": "toxlFkoQBGYh",
      "execution_count": null,
      "outputs": [
        {
          "output_type": "stream",
          "name": "stdout",
          "text": [
            "best mean cross-validation score: 0.669\n",
            "best parameters: {'max_depth': 5, 'n_estimators': 100}\n"
          ]
        }
      ]
    },
    {
      "cell_type": "code",
      "source": [
        "model_1 = RandomForestClassifier(n_estimators=100, max_depth=5)\n",
        "model_1.fit(preprocessor(X_train), y_train_labels) # Fitting to the training set.\n",
        "model_1.score(preprocessor(X_train), y_train_labels)"
      ],
      "metadata": {
        "colab": {
          "base_uri": "https://localhost:8080/"
        },
        "id": "-fTOhmoZIlxA",
        "outputId": "48e00f68-230a-4321-e843-9bd4e1d65944"
      },
      "id": "-fTOhmoZIlxA",
      "execution_count": null,
      "outputs": [
        {
          "output_type": "execute_result",
          "data": {
            "text/plain": [
              "0.9545454545454546"
            ]
          },
          "metadata": {},
          "execution_count": 100
        }
      ]
    },
    {
      "cell_type": "code",
      "source": [
        "import aimodelshare as ai\n",
        "ai.export_preprocessor(preprocessor,\"\") "
      ],
      "metadata": {
        "colab": {
          "base_uri": "https://localhost:8080/"
        },
        "id": "T5rafyBAIzPf",
        "outputId": "78040345-ef22-402f-e65b-87aa25a21f50"
      },
      "id": "T5rafyBAIzPf",
      "execution_count": null,
      "outputs": [
        {
          "output_type": "stream",
          "name": "stdout",
          "text": [
            "Your preprocessor is now saved to 'preprocessor.zip'\n"
          ]
        }
      ]
    },
    {
      "cell_type": "code",
      "source": [
        "# Save sklearn model to local ONNX file\n",
        "from aimodelshare.aimsonnx import model_to_onnx\n",
        "\n",
        "# Check how many preprocessed input features are there?\n",
        "from skl2onnx.common.data_types import FloatTensorType\n",
        "\n",
        "feature_count=preprocessor(X_test).shape[1] #Get count of preprocessed features\n",
        "initial_type = [('float_input', FloatTensorType([None, feature_count]))]  #Insert correct number of preprocessed features\n",
        "\n",
        "onnx_model = model_to_onnx(model_1, framework='sklearn',\n",
        "                          initial_types=initial_type,\n",
        "                          transfer_learning=False,\n",
        "                          deep_learning=False)\n",
        "\n",
        "with open(\"model.onnx\", \"wb\") as f:\n",
        "    f.write(onnx_model.SerializeToString())"
      ],
      "metadata": {
        "id": "72AzjCNcI0bR"
      },
      "id": "72AzjCNcI0bR",
      "execution_count": null,
      "outputs": []
    },
    {
      "cell_type": "code",
      "source": [
        "#Set credentials using modelshare.org username/password\n",
        "\n",
        "from aimodelshare.aws import set_credentials\n",
        "\n",
        "#This is the unique rest api that powers this World Happiness Classification Playground -- make sure to update the apiurl for new competition deployments\n",
        "apiurl=\"https://e2w6gh3id1.execute-api.us-east-2.amazonaws.com/prod/m\"\n",
        "\n",
        "set_credentials(apiurl=apiurl)"
      ],
      "metadata": {
        "colab": {
          "base_uri": "https://localhost:8080/"
        },
        "id": "Yjgtv8nwI6Lz",
        "outputId": "106736cf-f2c5-470a-dc04-17ce5118b3f1"
      },
      "id": "Yjgtv8nwI6Lz",
      "execution_count": null,
      "outputs": [
        {
          "output_type": "stream",
          "name": "stdout",
          "text": [
            "AI Modelshare Username:··········\n",
            "AI Modelshare Password:··········\n",
            "AI Model Share login credentials set successfully.\n"
          ]
        }
      ]
    },
    {
      "cell_type": "code",
      "source": [
        "#Instantiate Competition\n",
        "import aimodelshare as ai\n",
        "mycompetition= ai.Competition(apiurl)"
      ],
      "metadata": {
        "id": "hNsaT46qI-VE"
      },
      "id": "hNsaT46qI-VE",
      "execution_count": null,
      "outputs": []
    },
    {
      "cell_type": "code",
      "source": [
        "#Submit Model 1: \n",
        "\n",
        "#-- Generate predicted values (Model 1)\n",
        "prediction_labels = model_1.predict(preprocessor(X_test))\n",
        "\n",
        "# Submit Model 1 to Competition Leaderboard\n",
        "mycompetition.submit_model(model_filepath = \"model.onnx\",\n",
        "                                 preprocessor_filepath=\"preprocessor.zip\",\n",
        "                                 prediction_submission=prediction_labels, custom_metadata={\"team\":\"1\"})"
      ],
      "metadata": {
        "colab": {
          "base_uri": "https://localhost:8080/"
        },
        "id": "6YL9Rr4TJC3F",
        "outputId": "96d68907-bfce-4a13-9af7-56da865c3537"
      },
      "id": "6YL9Rr4TJC3F",
      "execution_count": null,
      "outputs": [
        {
          "output_type": "stream",
          "name": "stdout",
          "text": [
            "Insert search tags to help users find your model (optional): \n",
            "Provide any useful notes about your model (optional): \n",
            "\n",
            "Your model has been submitted as model version 817\n",
            "\n",
            "To submit code used to create this model or to view current leaderboard navigate to Model Playground: \n",
            "\n",
            " https://www.modelshare.org/detail/model:3164\n"
          ]
        }
      ]
    },
    {
      "cell_type": "markdown",
      "source": [
        "## Model 2: Gradient Boosting Classifier"
      ],
      "metadata": {
        "id": "Xck_1shsJNRq"
      },
      "id": "Xck_1shsJNRq"
    },
    {
      "cell_type": "code",
      "source": [
        "from sklearn.ensemble import GradientBoostingClassifier\n",
        "param_grid_2 = {'n_estimators': np.arange(100, 300, 500),'max_depth':[1, 3, 5]} #np.arange creates sequence of numbers for each k value\n",
        "\n",
        "gridmodel_2 = GridSearchCV(GradientBoostingClassifier(), param_grid=param_grid, cv=10)\n",
        "\n",
        "#use meta model methods to fit score and predict model:\n",
        "gridmodel_2.fit(preprocessor(X_train), y_train_labels)\n",
        "\n",
        "#extract best score and parameter by calling objects \"best_score_\" and \"best_params_\"\n",
        "print(\"best mean cross-validation score: {:.3f}\".format(gridmodel_2.best_score_))\n",
        "print(\"best parameters: {}\".format(gridmodel_2.best_params_))\n"
      ],
      "metadata": {
        "colab": {
          "base_uri": "https://localhost:8080/"
        },
        "id": "F44tlDlxJWDC",
        "outputId": "88edf81e-ca90-4cd6-b522-5327d1f97595"
      },
      "id": "F44tlDlxJWDC",
      "execution_count": null,
      "outputs": [
        {
          "output_type": "stream",
          "name": "stdout",
          "text": [
            "best mean cross-validation score: 0.626\n",
            "best parameters: {'max_depth': 1, 'n_estimators': 100}\n"
          ]
        }
      ]
    },
    {
      "cell_type": "code",
      "source": [
        "model_2 = GradientBoostingClassifier(n_estimators=100, learning_rate=1.0,\n",
        "    max_depth=1, random_state=0).fit(preprocessor(X_train), y_train_labels)\n",
        "model_2.score(preprocessor(X_train), y_train_labels)"
      ],
      "metadata": {
        "colab": {
          "base_uri": "https://localhost:8080/"
        },
        "id": "0aDUG6WOK5Q8",
        "outputId": "32bae689-4b25-45f8-ba8a-d63ec9741437"
      },
      "id": "0aDUG6WOK5Q8",
      "execution_count": null,
      "outputs": [
        {
          "output_type": "execute_result",
          "data": {
            "text/plain": [
              "1.0"
            ]
          },
          "metadata": {},
          "execution_count": 107
        }
      ]
    },
    {
      "cell_type": "code",
      "source": [
        "# Save sklearn model to local ONNX file\n",
        "from aimodelshare.aimsonnx import model_to_onnx\n",
        "\n",
        "feature_count=preprocessor(X_test).shape[1] #Get count of preprocessed features\n",
        "initial_type = [('float_input', FloatTensorType([None, feature_count]))]  # Insert correct number of preprocessed features\n",
        "\n",
        "onnx_model = model_to_onnx(model_2, framework='sklearn',\n",
        "                          initial_types=initial_type,\n",
        "                          transfer_learning=False,\n",
        "                          deep_learning=False)\n",
        "\n",
        "with open(\"model.onnx\", \"wb\") as f:\n",
        "    f.write(onnx_model.SerializeToString())"
      ],
      "metadata": {
        "id": "iR1Dx2ypK_uu"
      },
      "id": "iR1Dx2ypK_uu",
      "execution_count": null,
      "outputs": []
    },
    {
      "cell_type": "code",
      "source": [
        "#-- Generate predicted values \n",
        "prediction_labels = model_2.predict(preprocessor(X_test))"
      ],
      "metadata": {
        "id": "11Bsi7F3LPHX"
      },
      "id": "11Bsi7F3LPHX",
      "execution_count": null,
      "outputs": []
    },
    {
      "cell_type": "code",
      "source": [
        "# Submit model to Competition Leaderboard\n",
        "mycompetition.submit_model(model_filepath = \"model.onnx\",\n",
        "                                 preprocessor_filepath=\"preprocessor.zip\",\n",
        "                                 prediction_submission=prediction_labels, custom_metadata={\"team\":\"1\"})"
      ],
      "metadata": {
        "colab": {
          "base_uri": "https://localhost:8080/"
        },
        "id": "QWQuOVpyLQGB",
        "outputId": "888da28b-4fc1-471a-9212-cc9a49b8b40e"
      },
      "id": "QWQuOVpyLQGB",
      "execution_count": null,
      "outputs": [
        {
          "output_type": "stream",
          "name": "stdout",
          "text": [
            "Insert search tags to help users find your model (optional): \n",
            "Provide any useful notes about your model (optional): \n",
            "\n",
            "Your model has been submitted as model version 818\n",
            "\n",
            "To submit code used to create this model or to view current leaderboard navigate to Model Playground: \n",
            "\n",
            " https://www.modelshare.org/detail/model:3164\n"
          ]
        }
      ]
    },
    {
      "cell_type": "markdown",
      "source": [
        "## Model 3: Deep Learning"
      ],
      "metadata": {
        "id": "4px4rdu-Lgtb"
      },
      "id": "4px4rdu-Lgtb"
    },
    {
      "cell_type": "code",
      "source": [
        "import keras\n",
        "from keras.models import Sequential\n",
        "from keras.layers import Dense, Activation\n",
        "\n",
        "feature_count=preprocessor(X_train).shape[1] #count features in input data\n",
        "\n",
        "keras_model = Sequential()\n",
        "keras_model.add(Dense(128, input_dim=feature_count, activation='relu'))\n",
        "keras_model.add(Dense(64, activation='relu'))\n",
        "keras_model.add(Dense(64, activation='relu'))\n",
        "keras_model.add(Dense(32, activation='relu'))\n",
        "\n",
        "keras_model.add(Dense(5, activation='softmax')) \n",
        "                                            \n",
        "# Compile model\n",
        "keras_model.compile(loss='categorical_crossentropy', optimizer='sgd', metrics=['accuracy'])\n",
        "\n",
        "# Fitting the NN to the Training set\n",
        "keras_model.fit(preprocessor(X_train), y_train, ## Note that keras models require a one-hot-encoded y_train object\n",
        "               batch_size = 20, \n",
        "               epochs = 300, validation_split=0.25)  "
      ],
      "metadata": {
        "colab": {
          "base_uri": "https://localhost:8080/"
        },
        "id": "E2j57rcaQdLS",
        "outputId": "e4543706-c0bc-4f97-f2f6-a670e859b3d0"
      },
      "id": "E2j57rcaQdLS",
      "execution_count": null,
      "outputs": [
        {
          "output_type": "stream",
          "name": "stdout",
          "text": [
            "Epoch 1/300\n",
            "4/4 [==============================] - 1s 74ms/step - loss: 1.5801 - accuracy: 0.2879 - val_loss: 1.5905 - val_accuracy: 0.2273\n",
            "Epoch 2/300\n",
            "4/4 [==============================] - 0s 15ms/step - loss: 1.5671 - accuracy: 0.3333 - val_loss: 1.5835 - val_accuracy: 0.2273\n",
            "Epoch 3/300\n",
            "4/4 [==============================] - 0s 16ms/step - loss: 1.5561 - accuracy: 0.3333 - val_loss: 1.5753 - val_accuracy: 0.2273\n",
            "Epoch 4/300\n",
            "4/4 [==============================] - 0s 13ms/step - loss: 1.5428 - accuracy: 0.3485 - val_loss: 1.5682 - val_accuracy: 0.2273\n",
            "Epoch 5/300\n",
            "4/4 [==============================] - 0s 18ms/step - loss: 1.5323 - accuracy: 0.3636 - val_loss: 1.5610 - val_accuracy: 0.2727\n",
            "Epoch 6/300\n",
            "4/4 [==============================] - 0s 12ms/step - loss: 1.5199 - accuracy: 0.3939 - val_loss: 1.5556 - val_accuracy: 0.2273\n",
            "Epoch 7/300\n",
            "4/4 [==============================] - 0s 11ms/step - loss: 1.5074 - accuracy: 0.4697 - val_loss: 1.5491 - val_accuracy: 0.2727\n",
            "Epoch 8/300\n",
            "4/4 [==============================] - 0s 13ms/step - loss: 1.4957 - accuracy: 0.4697 - val_loss: 1.5400 - val_accuracy: 0.2727\n",
            "Epoch 9/300\n",
            "4/4 [==============================] - 0s 12ms/step - loss: 1.4816 - accuracy: 0.4848 - val_loss: 1.5324 - val_accuracy: 0.2727\n",
            "Epoch 10/300\n",
            "4/4 [==============================] - 0s 12ms/step - loss: 1.4706 - accuracy: 0.4848 - val_loss: 1.5264 - val_accuracy: 0.2727\n",
            "Epoch 11/300\n",
            "4/4 [==============================] - 0s 13ms/step - loss: 1.4591 - accuracy: 0.4848 - val_loss: 1.5175 - val_accuracy: 0.2727\n",
            "Epoch 12/300\n",
            "4/4 [==============================] - 0s 12ms/step - loss: 1.4462 - accuracy: 0.4848 - val_loss: 1.5102 - val_accuracy: 0.3182\n",
            "Epoch 13/300\n",
            "4/4 [==============================] - 0s 12ms/step - loss: 1.4350 - accuracy: 0.5152 - val_loss: 1.5023 - val_accuracy: 0.3182\n",
            "Epoch 14/300\n",
            "4/4 [==============================] - 0s 12ms/step - loss: 1.4236 - accuracy: 0.5455 - val_loss: 1.4926 - val_accuracy: 0.3182\n",
            "Epoch 15/300\n",
            "4/4 [==============================] - 0s 21ms/step - loss: 1.4096 - accuracy: 0.5606 - val_loss: 1.4828 - val_accuracy: 0.3636\n",
            "Epoch 16/300\n",
            "4/4 [==============================] - 0s 13ms/step - loss: 1.3959 - accuracy: 0.5606 - val_loss: 1.4730 - val_accuracy: 0.3636\n",
            "Epoch 17/300\n",
            "4/4 [==============================] - 0s 13ms/step - loss: 1.3833 - accuracy: 0.5909 - val_loss: 1.4647 - val_accuracy: 0.3636\n",
            "Epoch 18/300\n",
            "4/4 [==============================] - 0s 12ms/step - loss: 1.3720 - accuracy: 0.5909 - val_loss: 1.4547 - val_accuracy: 0.3636\n",
            "Epoch 19/300\n",
            "4/4 [==============================] - 0s 12ms/step - loss: 1.3577 - accuracy: 0.5758 - val_loss: 1.4442 - val_accuracy: 0.4091\n",
            "Epoch 20/300\n",
            "4/4 [==============================] - 0s 13ms/step - loss: 1.3438 - accuracy: 0.6061 - val_loss: 1.4344 - val_accuracy: 0.4091\n",
            "Epoch 21/300\n",
            "4/4 [==============================] - 0s 12ms/step - loss: 1.3303 - accuracy: 0.6061 - val_loss: 1.4266 - val_accuracy: 0.4091\n",
            "Epoch 22/300\n",
            "4/4 [==============================] - 0s 12ms/step - loss: 1.3182 - accuracy: 0.6061 - val_loss: 1.4163 - val_accuracy: 0.4091\n",
            "Epoch 23/300\n",
            "4/4 [==============================] - 0s 14ms/step - loss: 1.3055 - accuracy: 0.6364 - val_loss: 1.4055 - val_accuracy: 0.4091\n",
            "Epoch 24/300\n",
            "4/4 [==============================] - 0s 14ms/step - loss: 1.2912 - accuracy: 0.6212 - val_loss: 1.3951 - val_accuracy: 0.4091\n",
            "Epoch 25/300\n",
            "4/4 [==============================] - 0s 12ms/step - loss: 1.2778 - accuracy: 0.6667 - val_loss: 1.3876 - val_accuracy: 0.4091\n",
            "Epoch 26/300\n",
            "4/4 [==============================] - 0s 12ms/step - loss: 1.2643 - accuracy: 0.6667 - val_loss: 1.3765 - val_accuracy: 0.4545\n",
            "Epoch 27/300\n",
            "4/4 [==============================] - 0s 14ms/step - loss: 1.2511 - accuracy: 0.6667 - val_loss: 1.3672 - val_accuracy: 0.4091\n",
            "Epoch 28/300\n",
            "4/4 [==============================] - 0s 12ms/step - loss: 1.2364 - accuracy: 0.6667 - val_loss: 1.3554 - val_accuracy: 0.4545\n",
            "Epoch 29/300\n",
            "4/4 [==============================] - 0s 12ms/step - loss: 1.2228 - accuracy: 0.6667 - val_loss: 1.3474 - val_accuracy: 0.4545\n",
            "Epoch 30/300\n",
            "4/4 [==============================] - 0s 14ms/step - loss: 1.2105 - accuracy: 0.6667 - val_loss: 1.3385 - val_accuracy: 0.4545\n",
            "Epoch 31/300\n",
            "4/4 [==============================] - 0s 12ms/step - loss: 1.1974 - accuracy: 0.6667 - val_loss: 1.3307 - val_accuracy: 0.4545\n",
            "Epoch 32/300\n",
            "4/4 [==============================] - 0s 18ms/step - loss: 1.1857 - accuracy: 0.6667 - val_loss: 1.3236 - val_accuracy: 0.4545\n",
            "Epoch 33/300\n",
            "4/4 [==============================] - 0s 13ms/step - loss: 1.1753 - accuracy: 0.6667 - val_loss: 1.3118 - val_accuracy: 0.4545\n",
            "Epoch 34/300\n",
            "4/4 [==============================] - 0s 11ms/step - loss: 1.1617 - accuracy: 0.6970 - val_loss: 1.3036 - val_accuracy: 0.4545\n",
            "Epoch 35/300\n",
            "4/4 [==============================] - 0s 13ms/step - loss: 1.1496 - accuracy: 0.6818 - val_loss: 1.2969 - val_accuracy: 0.4545\n",
            "Epoch 36/300\n",
            "4/4 [==============================] - 0s 13ms/step - loss: 1.1376 - accuracy: 0.6818 - val_loss: 1.2892 - val_accuracy: 0.4545\n",
            "Epoch 37/300\n",
            "4/4 [==============================] - 0s 11ms/step - loss: 1.1275 - accuracy: 0.6818 - val_loss: 1.2811 - val_accuracy: 0.4545\n",
            "Epoch 38/300\n",
            "4/4 [==============================] - 0s 12ms/step - loss: 1.1165 - accuracy: 0.6818 - val_loss: 1.2712 - val_accuracy: 0.4545\n",
            "Epoch 39/300\n",
            "4/4 [==============================] - 0s 12ms/step - loss: 1.1053 - accuracy: 0.6970 - val_loss: 1.2637 - val_accuracy: 0.4091\n",
            "Epoch 40/300\n",
            "4/4 [==============================] - 0s 11ms/step - loss: 1.0954 - accuracy: 0.6970 - val_loss: 1.2539 - val_accuracy: 0.4091\n",
            "Epoch 41/300\n",
            "4/4 [==============================] - 0s 17ms/step - loss: 1.0846 - accuracy: 0.6970 - val_loss: 1.2453 - val_accuracy: 0.4091\n",
            "Epoch 42/300\n",
            "4/4 [==============================] - 0s 14ms/step - loss: 1.0741 - accuracy: 0.6970 - val_loss: 1.2405 - val_accuracy: 0.4091\n",
            "Epoch 43/300\n",
            "4/4 [==============================] - 0s 12ms/step - loss: 1.0640 - accuracy: 0.6970 - val_loss: 1.2375 - val_accuracy: 0.4545\n",
            "Epoch 44/300\n",
            "4/4 [==============================] - 0s 13ms/step - loss: 1.0523 - accuracy: 0.6818 - val_loss: 1.2342 - val_accuracy: 0.4545\n",
            "Epoch 45/300\n",
            "4/4 [==============================] - 0s 12ms/step - loss: 1.0430 - accuracy: 0.6818 - val_loss: 1.2276 - val_accuracy: 0.4545\n",
            "Epoch 46/300\n",
            "4/4 [==============================] - 0s 12ms/step - loss: 1.0332 - accuracy: 0.6818 - val_loss: 1.2231 - val_accuracy: 0.4545\n",
            "Epoch 47/300\n",
            "4/4 [==============================] - 0s 11ms/step - loss: 1.0230 - accuracy: 0.6818 - val_loss: 1.2190 - val_accuracy: 0.4545\n",
            "Epoch 48/300\n",
            "4/4 [==============================] - 0s 11ms/step - loss: 1.0140 - accuracy: 0.6818 - val_loss: 1.2103 - val_accuracy: 0.4545\n",
            "Epoch 49/300\n",
            "4/4 [==============================] - 0s 11ms/step - loss: 1.0058 - accuracy: 0.6818 - val_loss: 1.2076 - val_accuracy: 0.4545\n",
            "Epoch 50/300\n",
            "4/4 [==============================] - 0s 25ms/step - loss: 0.9961 - accuracy: 0.6818 - val_loss: 1.2001 - val_accuracy: 0.4545\n",
            "Epoch 51/300\n",
            "4/4 [==============================] - 0s 24ms/step - loss: 0.9875 - accuracy: 0.6818 - val_loss: 1.1949 - val_accuracy: 0.4545\n",
            "Epoch 52/300\n",
            "4/4 [==============================] - 0s 29ms/step - loss: 0.9779 - accuracy: 0.6818 - val_loss: 1.1856 - val_accuracy: 0.4545\n",
            "Epoch 53/300\n",
            "4/4 [==============================] - 0s 30ms/step - loss: 0.9712 - accuracy: 0.6818 - val_loss: 1.1788 - val_accuracy: 0.4545\n",
            "Epoch 54/300\n",
            "4/4 [==============================] - 0s 24ms/step - loss: 0.9622 - accuracy: 0.6818 - val_loss: 1.1750 - val_accuracy: 0.4545\n",
            "Epoch 55/300\n",
            "4/4 [==============================] - 0s 35ms/step - loss: 0.9532 - accuracy: 0.6818 - val_loss: 1.1672 - val_accuracy: 0.4545\n",
            "Epoch 56/300\n",
            "4/4 [==============================] - 0s 32ms/step - loss: 0.9448 - accuracy: 0.6818 - val_loss: 1.1630 - val_accuracy: 0.4545\n",
            "Epoch 57/300\n",
            "4/4 [==============================] - 0s 42ms/step - loss: 0.9370 - accuracy: 0.6818 - val_loss: 1.1552 - val_accuracy: 0.4545\n",
            "Epoch 58/300\n",
            "4/4 [==============================] - 0s 23ms/step - loss: 0.9304 - accuracy: 0.6970 - val_loss: 1.1478 - val_accuracy: 0.4545\n",
            "Epoch 59/300\n",
            "4/4 [==============================] - 0s 19ms/step - loss: 0.9216 - accuracy: 0.6970 - val_loss: 1.1427 - val_accuracy: 0.4545\n",
            "Epoch 60/300\n",
            "4/4 [==============================] - 0s 21ms/step - loss: 0.9142 - accuracy: 0.7121 - val_loss: 1.1377 - val_accuracy: 0.5000\n",
            "Epoch 61/300\n",
            "4/4 [==============================] - 0s 25ms/step - loss: 0.9071 - accuracy: 0.6970 - val_loss: 1.1332 - val_accuracy: 0.5000\n",
            "Epoch 62/300\n",
            "4/4 [==============================] - 0s 27ms/step - loss: 0.9003 - accuracy: 0.6970 - val_loss: 1.1253 - val_accuracy: 0.5455\n",
            "Epoch 63/300\n",
            "4/4 [==============================] - 0s 24ms/step - loss: 0.8925 - accuracy: 0.6970 - val_loss: 1.1243 - val_accuracy: 0.5000\n",
            "Epoch 64/300\n",
            "4/4 [==============================] - 0s 25ms/step - loss: 0.8835 - accuracy: 0.7424 - val_loss: 1.1158 - val_accuracy: 0.5000\n",
            "Epoch 65/300\n",
            "4/4 [==============================] - 0s 28ms/step - loss: 0.8772 - accuracy: 0.7424 - val_loss: 1.1077 - val_accuracy: 0.5455\n",
            "Epoch 66/300\n",
            "4/4 [==============================] - 0s 23ms/step - loss: 0.8701 - accuracy: 0.7273 - val_loss: 1.1073 - val_accuracy: 0.5000\n",
            "Epoch 67/300\n",
            "4/4 [==============================] - 0s 24ms/step - loss: 0.8621 - accuracy: 0.7576 - val_loss: 1.1047 - val_accuracy: 0.5000\n",
            "Epoch 68/300\n",
            "4/4 [==============================] - 0s 34ms/step - loss: 0.8559 - accuracy: 0.7576 - val_loss: 1.1006 - val_accuracy: 0.5455\n",
            "Epoch 69/300\n",
            "4/4 [==============================] - 0s 39ms/step - loss: 0.8491 - accuracy: 0.7879 - val_loss: 1.0924 - val_accuracy: 0.5455\n",
            "Epoch 70/300\n",
            "4/4 [==============================] - 0s 24ms/step - loss: 0.8428 - accuracy: 0.7576 - val_loss: 1.0860 - val_accuracy: 0.5455\n",
            "Epoch 71/300\n",
            "4/4 [==============================] - 0s 33ms/step - loss: 0.8342 - accuracy: 0.7576 - val_loss: 1.0775 - val_accuracy: 0.5909\n",
            "Epoch 72/300\n",
            "4/4 [==============================] - 0s 38ms/step - loss: 0.8291 - accuracy: 0.7727 - val_loss: 1.0717 - val_accuracy: 0.5455\n",
            "Epoch 73/300\n",
            "4/4 [==============================] - 0s 25ms/step - loss: 0.8228 - accuracy: 0.7727 - val_loss: 1.0674 - val_accuracy: 0.5455\n",
            "Epoch 74/300\n",
            "4/4 [==============================] - 0s 38ms/step - loss: 0.8163 - accuracy: 0.7576 - val_loss: 1.0625 - val_accuracy: 0.5455\n",
            "Epoch 75/300\n",
            "4/4 [==============================] - 0s 40ms/step - loss: 0.8095 - accuracy: 0.7576 - val_loss: 1.0614 - val_accuracy: 0.5909\n",
            "Epoch 76/300\n",
            "4/4 [==============================] - 0s 25ms/step - loss: 0.8034 - accuracy: 0.7576 - val_loss: 1.0576 - val_accuracy: 0.5909\n",
            "Epoch 77/300\n",
            "4/4 [==============================] - 0s 26ms/step - loss: 0.7987 - accuracy: 0.7576 - val_loss: 1.0540 - val_accuracy: 0.5909\n",
            "Epoch 78/300\n",
            "4/4 [==============================] - 0s 24ms/step - loss: 0.7919 - accuracy: 0.7727 - val_loss: 1.0604 - val_accuracy: 0.5455\n",
            "Epoch 79/300\n",
            "4/4 [==============================] - 0s 26ms/step - loss: 0.7859 - accuracy: 0.8030 - val_loss: 1.0559 - val_accuracy: 0.5455\n",
            "Epoch 80/300\n",
            "4/4 [==============================] - 0s 47ms/step - loss: 0.7796 - accuracy: 0.7879 - val_loss: 1.0508 - val_accuracy: 0.6364\n",
            "Epoch 81/300\n",
            "4/4 [==============================] - 0s 26ms/step - loss: 0.7728 - accuracy: 0.8030 - val_loss: 1.0447 - val_accuracy: 0.5909\n",
            "Epoch 82/300\n",
            "4/4 [==============================] - 0s 45ms/step - loss: 0.7696 - accuracy: 0.8030 - val_loss: 1.0405 - val_accuracy: 0.5909\n",
            "Epoch 83/300\n",
            "4/4 [==============================] - 0s 19ms/step - loss: 0.7633 - accuracy: 0.8030 - val_loss: 1.0386 - val_accuracy: 0.5909\n",
            "Epoch 84/300\n",
            "4/4 [==============================] - 0s 36ms/step - loss: 0.7578 - accuracy: 0.8030 - val_loss: 1.0383 - val_accuracy: 0.5909\n",
            "Epoch 85/300\n",
            "4/4 [==============================] - 0s 17ms/step - loss: 0.7518 - accuracy: 0.8030 - val_loss: 1.0368 - val_accuracy: 0.5909\n",
            "Epoch 86/300\n",
            "4/4 [==============================] - 0s 16ms/step - loss: 0.7465 - accuracy: 0.8030 - val_loss: 1.0269 - val_accuracy: 0.6364\n",
            "Epoch 87/300\n",
            "4/4 [==============================] - 0s 15ms/step - loss: 0.7422 - accuracy: 0.8030 - val_loss: 1.0232 - val_accuracy: 0.6364\n",
            "Epoch 88/300\n",
            "4/4 [==============================] - 0s 14ms/step - loss: 0.7369 - accuracy: 0.8030 - val_loss: 1.0252 - val_accuracy: 0.6364\n",
            "Epoch 89/300\n",
            "4/4 [==============================] - 0s 13ms/step - loss: 0.7307 - accuracy: 0.8030 - val_loss: 1.0349 - val_accuracy: 0.5455\n",
            "Epoch 90/300\n",
            "4/4 [==============================] - 0s 17ms/step - loss: 0.7274 - accuracy: 0.7727 - val_loss: 1.0348 - val_accuracy: 0.5000\n",
            "Epoch 91/300\n",
            "4/4 [==============================] - 0s 16ms/step - loss: 0.7208 - accuracy: 0.7879 - val_loss: 1.0274 - val_accuracy: 0.5000\n",
            "Epoch 92/300\n",
            "4/4 [==============================] - 0s 15ms/step - loss: 0.7149 - accuracy: 0.7879 - val_loss: 1.0233 - val_accuracy: 0.5000\n",
            "Epoch 93/300\n",
            "4/4 [==============================] - 0s 20ms/step - loss: 0.7102 - accuracy: 0.7879 - val_loss: 1.0221 - val_accuracy: 0.5000\n",
            "Epoch 94/300\n",
            "4/4 [==============================] - 0s 14ms/step - loss: 0.7046 - accuracy: 0.7879 - val_loss: 1.0148 - val_accuracy: 0.5909\n",
            "Epoch 95/300\n",
            "4/4 [==============================] - 0s 13ms/step - loss: 0.6995 - accuracy: 0.8030 - val_loss: 1.0162 - val_accuracy: 0.5455\n",
            "Epoch 96/300\n",
            "4/4 [==============================] - 0s 12ms/step - loss: 0.6930 - accuracy: 0.7879 - val_loss: 1.0152 - val_accuracy: 0.5455\n",
            "Epoch 97/300\n",
            "4/4 [==============================] - 0s 12ms/step - loss: 0.6885 - accuracy: 0.7879 - val_loss: 1.0098 - val_accuracy: 0.5455\n",
            "Epoch 98/300\n",
            "4/4 [==============================] - 0s 13ms/step - loss: 0.6837 - accuracy: 0.7879 - val_loss: 1.0135 - val_accuracy: 0.5455\n",
            "Epoch 99/300\n",
            "4/4 [==============================] - 0s 24ms/step - loss: 0.6810 - accuracy: 0.7879 - val_loss: 1.0136 - val_accuracy: 0.5455\n",
            "Epoch 100/300\n",
            "4/4 [==============================] - 0s 24ms/step - loss: 0.6751 - accuracy: 0.7879 - val_loss: 0.9995 - val_accuracy: 0.5909\n",
            "Epoch 101/300\n",
            "4/4 [==============================] - 0s 21ms/step - loss: 0.6721 - accuracy: 0.8030 - val_loss: 1.0021 - val_accuracy: 0.5909\n",
            "Epoch 102/300\n",
            "4/4 [==============================] - 0s 17ms/step - loss: 0.6662 - accuracy: 0.7879 - val_loss: 0.9965 - val_accuracy: 0.5909\n",
            "Epoch 103/300\n",
            "4/4 [==============================] - 0s 21ms/step - loss: 0.6609 - accuracy: 0.8182 - val_loss: 0.9942 - val_accuracy: 0.5909\n",
            "Epoch 104/300\n",
            "4/4 [==============================] - 0s 20ms/step - loss: 0.6571 - accuracy: 0.8182 - val_loss: 0.9961 - val_accuracy: 0.5909\n",
            "Epoch 105/300\n",
            "4/4 [==============================] - 0s 23ms/step - loss: 0.6531 - accuracy: 0.8182 - val_loss: 0.9946 - val_accuracy: 0.5909\n",
            "Epoch 106/300\n",
            "4/4 [==============================] - 0s 18ms/step - loss: 0.6475 - accuracy: 0.8182 - val_loss: 0.9901 - val_accuracy: 0.5909\n",
            "Epoch 107/300\n",
            "4/4 [==============================] - 0s 19ms/step - loss: 0.6442 - accuracy: 0.8182 - val_loss: 0.9825 - val_accuracy: 0.5909\n",
            "Epoch 108/300\n",
            "4/4 [==============================] - 0s 17ms/step - loss: 0.6406 - accuracy: 0.8182 - val_loss: 0.9902 - val_accuracy: 0.5909\n",
            "Epoch 109/300\n",
            "4/4 [==============================] - 0s 21ms/step - loss: 0.6352 - accuracy: 0.8182 - val_loss: 0.9945 - val_accuracy: 0.5909\n",
            "Epoch 110/300\n",
            "4/4 [==============================] - 0s 26ms/step - loss: 0.6329 - accuracy: 0.7879 - val_loss: 0.9947 - val_accuracy: 0.5909\n",
            "Epoch 111/300\n",
            "4/4 [==============================] - 0s 18ms/step - loss: 0.6281 - accuracy: 0.8030 - val_loss: 0.9886 - val_accuracy: 0.5909\n",
            "Epoch 112/300\n",
            "4/4 [==============================] - 0s 19ms/step - loss: 0.6239 - accuracy: 0.7879 - val_loss: 0.9897 - val_accuracy: 0.5909\n",
            "Epoch 113/300\n",
            "4/4 [==============================] - 0s 17ms/step - loss: 0.6260 - accuracy: 0.8030 - val_loss: 0.9891 - val_accuracy: 0.6364\n",
            "Epoch 114/300\n",
            "4/4 [==============================] - 0s 22ms/step - loss: 0.6184 - accuracy: 0.8333 - val_loss: 0.9890 - val_accuracy: 0.6364\n",
            "Epoch 115/300\n",
            "4/4 [==============================] - 0s 25ms/step - loss: 0.6125 - accuracy: 0.8182 - val_loss: 0.9821 - val_accuracy: 0.6364\n",
            "Epoch 116/300\n",
            "4/4 [==============================] - 0s 18ms/step - loss: 0.6104 - accuracy: 0.8182 - val_loss: 0.9894 - val_accuracy: 0.5455\n",
            "Epoch 117/300\n",
            "4/4 [==============================] - 0s 22ms/step - loss: 0.6049 - accuracy: 0.8333 - val_loss: 0.9992 - val_accuracy: 0.5455\n",
            "Epoch 118/300\n",
            "4/4 [==============================] - 0s 26ms/step - loss: 0.6031 - accuracy: 0.8182 - val_loss: 0.9931 - val_accuracy: 0.5455\n",
            "Epoch 119/300\n",
            "4/4 [==============================] - 0s 16ms/step - loss: 0.5992 - accuracy: 0.8182 - val_loss: 0.9969 - val_accuracy: 0.5455\n",
            "Epoch 120/300\n",
            "4/4 [==============================] - 0s 15ms/step - loss: 0.5932 - accuracy: 0.8182 - val_loss: 0.9888 - val_accuracy: 0.5455\n",
            "Epoch 121/300\n",
            "4/4 [==============================] - 0s 24ms/step - loss: 0.5902 - accuracy: 0.8333 - val_loss: 0.9831 - val_accuracy: 0.5455\n",
            "Epoch 122/300\n",
            "4/4 [==============================] - 0s 24ms/step - loss: 0.5842 - accuracy: 0.8333 - val_loss: 0.9829 - val_accuracy: 0.5455\n",
            "Epoch 123/300\n",
            "4/4 [==============================] - 0s 23ms/step - loss: 0.5805 - accuracy: 0.8182 - val_loss: 0.9697 - val_accuracy: 0.6364\n",
            "Epoch 124/300\n",
            "4/4 [==============================] - 0s 27ms/step - loss: 0.5779 - accuracy: 0.8485 - val_loss: 0.9664 - val_accuracy: 0.5909\n",
            "Epoch 125/300\n",
            "4/4 [==============================] - 0s 17ms/step - loss: 0.5751 - accuracy: 0.8485 - val_loss: 0.9619 - val_accuracy: 0.6364\n",
            "Epoch 126/300\n",
            "4/4 [==============================] - 0s 17ms/step - loss: 0.5708 - accuracy: 0.8333 - val_loss: 0.9594 - val_accuracy: 0.6364\n",
            "Epoch 127/300\n",
            "4/4 [==============================] - 0s 17ms/step - loss: 0.5678 - accuracy: 0.8333 - val_loss: 0.9606 - val_accuracy: 0.6364\n",
            "Epoch 128/300\n",
            "4/4 [==============================] - 0s 17ms/step - loss: 0.5626 - accuracy: 0.8333 - val_loss: 0.9608 - val_accuracy: 0.6364\n",
            "Epoch 129/300\n",
            "4/4 [==============================] - 0s 21ms/step - loss: 0.5638 - accuracy: 0.8333 - val_loss: 0.9632 - val_accuracy: 0.6364\n",
            "Epoch 130/300\n",
            "4/4 [==============================] - 0s 25ms/step - loss: 0.5583 - accuracy: 0.8485 - val_loss: 0.9670 - val_accuracy: 0.6364\n",
            "Epoch 131/300\n",
            "4/4 [==============================] - 0s 23ms/step - loss: 0.5530 - accuracy: 0.8333 - val_loss: 0.9721 - val_accuracy: 0.6364\n",
            "Epoch 132/300\n",
            "4/4 [==============================] - 0s 16ms/step - loss: 0.5499 - accuracy: 0.8333 - val_loss: 0.9814 - val_accuracy: 0.5909\n",
            "Epoch 133/300\n",
            "4/4 [==============================] - 0s 25ms/step - loss: 0.5454 - accuracy: 0.8333 - val_loss: 0.9695 - val_accuracy: 0.6364\n",
            "Epoch 134/300\n",
            "4/4 [==============================] - 0s 25ms/step - loss: 0.5426 - accuracy: 0.8485 - val_loss: 0.9653 - val_accuracy: 0.6364\n",
            "Epoch 135/300\n",
            "4/4 [==============================] - 0s 18ms/step - loss: 0.5398 - accuracy: 0.8333 - val_loss: 0.9708 - val_accuracy: 0.5909\n",
            "Epoch 136/300\n",
            "4/4 [==============================] - 0s 22ms/step - loss: 0.5344 - accuracy: 0.8333 - val_loss: 0.9716 - val_accuracy: 0.5909\n",
            "Epoch 137/300\n",
            "4/4 [==============================] - 0s 17ms/step - loss: 0.5361 - accuracy: 0.8333 - val_loss: 0.9643 - val_accuracy: 0.6364\n",
            "Epoch 138/300\n",
            "4/4 [==============================] - 0s 20ms/step - loss: 0.5298 - accuracy: 0.8333 - val_loss: 0.9648 - val_accuracy: 0.6364\n",
            "Epoch 139/300\n",
            "4/4 [==============================] - 0s 25ms/step - loss: 0.5283 - accuracy: 0.8333 - val_loss: 0.9660 - val_accuracy: 0.6364\n",
            "Epoch 140/300\n",
            "4/4 [==============================] - 0s 18ms/step - loss: 0.5238 - accuracy: 0.8485 - val_loss: 0.9656 - val_accuracy: 0.6364\n",
            "Epoch 141/300\n",
            "4/4 [==============================] - 0s 19ms/step - loss: 0.5243 - accuracy: 0.8485 - val_loss: 0.9739 - val_accuracy: 0.5909\n",
            "Epoch 142/300\n",
            "4/4 [==============================] - 0s 19ms/step - loss: 0.5157 - accuracy: 0.8485 - val_loss: 0.9717 - val_accuracy: 0.6364\n",
            "Epoch 143/300\n",
            "4/4 [==============================] - 0s 26ms/step - loss: 0.5144 - accuracy: 0.8485 - val_loss: 0.9778 - val_accuracy: 0.6364\n",
            "Epoch 144/300\n",
            "4/4 [==============================] - 0s 25ms/step - loss: 0.5111 - accuracy: 0.8485 - val_loss: 0.9835 - val_accuracy: 0.6364\n",
            "Epoch 145/300\n",
            "4/4 [==============================] - 0s 18ms/step - loss: 0.5054 - accuracy: 0.8485 - val_loss: 0.9729 - val_accuracy: 0.6364\n",
            "Epoch 146/300\n",
            "4/4 [==============================] - 0s 18ms/step - loss: 0.5024 - accuracy: 0.8333 - val_loss: 0.9771 - val_accuracy: 0.5909\n",
            "Epoch 147/300\n",
            "4/4 [==============================] - 0s 19ms/step - loss: 0.4967 - accuracy: 0.8333 - val_loss: 0.9820 - val_accuracy: 0.5909\n",
            "Epoch 148/300\n",
            "4/4 [==============================] - 0s 29ms/step - loss: 0.4944 - accuracy: 0.8636 - val_loss: 0.9853 - val_accuracy: 0.6364\n",
            "Epoch 149/300\n",
            "4/4 [==============================] - 0s 21ms/step - loss: 0.4920 - accuracy: 0.8485 - val_loss: 0.9837 - val_accuracy: 0.6364\n",
            "Epoch 150/300\n",
            "4/4 [==============================] - 0s 18ms/step - loss: 0.4879 - accuracy: 0.8485 - val_loss: 0.9844 - val_accuracy: 0.6364\n",
            "Epoch 151/300\n",
            "4/4 [==============================] - 0s 24ms/step - loss: 0.4855 - accuracy: 0.8485 - val_loss: 0.9894 - val_accuracy: 0.6364\n",
            "Epoch 152/300\n",
            "4/4 [==============================] - 0s 18ms/step - loss: 0.4843 - accuracy: 0.8636 - val_loss: 1.0034 - val_accuracy: 0.5909\n",
            "Epoch 153/300\n",
            "4/4 [==============================] - 0s 23ms/step - loss: 0.4839 - accuracy: 0.8485 - val_loss: 0.9921 - val_accuracy: 0.5909\n",
            "Epoch 154/300\n",
            "4/4 [==============================] - 0s 20ms/step - loss: 0.4782 - accuracy: 0.8939 - val_loss: 0.9831 - val_accuracy: 0.5909\n",
            "Epoch 155/300\n",
            "4/4 [==============================] - 0s 25ms/step - loss: 0.4747 - accuracy: 0.8485 - val_loss: 0.9947 - val_accuracy: 0.5909\n",
            "Epoch 156/300\n",
            "4/4 [==============================] - 0s 20ms/step - loss: 0.4703 - accuracy: 0.8485 - val_loss: 0.9976 - val_accuracy: 0.5909\n",
            "Epoch 157/300\n",
            "4/4 [==============================] - 0s 24ms/step - loss: 0.4667 - accuracy: 0.8788 - val_loss: 0.9891 - val_accuracy: 0.6364\n",
            "Epoch 158/300\n",
            "4/4 [==============================] - 0s 19ms/step - loss: 0.4648 - accuracy: 0.8485 - val_loss: 0.9838 - val_accuracy: 0.5455\n",
            "Epoch 159/300\n",
            "4/4 [==============================] - 0s 17ms/step - loss: 0.4599 - accuracy: 0.8788 - val_loss: 0.9890 - val_accuracy: 0.5909\n",
            "Epoch 160/300\n",
            "4/4 [==============================] - 0s 19ms/step - loss: 0.4576 - accuracy: 0.8788 - val_loss: 0.9937 - val_accuracy: 0.6364\n",
            "Epoch 161/300\n",
            "4/4 [==============================] - 0s 24ms/step - loss: 0.4557 - accuracy: 0.8636 - val_loss: 0.9992 - val_accuracy: 0.6364\n",
            "Epoch 162/300\n",
            "4/4 [==============================] - 0s 17ms/step - loss: 0.4527 - accuracy: 0.8788 - val_loss: 1.0086 - val_accuracy: 0.5909\n",
            "Epoch 163/300\n",
            "4/4 [==============================] - 0s 18ms/step - loss: 0.4509 - accuracy: 0.8636 - val_loss: 1.0165 - val_accuracy: 0.5455\n",
            "Epoch 164/300\n",
            "4/4 [==============================] - 0s 23ms/step - loss: 0.4487 - accuracy: 0.8485 - val_loss: 1.0302 - val_accuracy: 0.5909\n",
            "Epoch 165/300\n",
            "4/4 [==============================] - 0s 22ms/step - loss: 0.4435 - accuracy: 0.8485 - val_loss: 1.0129 - val_accuracy: 0.6364\n",
            "Epoch 166/300\n",
            "4/4 [==============================] - 0s 21ms/step - loss: 0.4459 - accuracy: 0.8636 - val_loss: 1.0077 - val_accuracy: 0.6364\n",
            "Epoch 167/300\n",
            "4/4 [==============================] - 0s 20ms/step - loss: 0.4390 - accuracy: 0.8788 - val_loss: 1.0014 - val_accuracy: 0.5909\n",
            "Epoch 168/300\n",
            "4/4 [==============================] - 0s 25ms/step - loss: 0.4374 - accuracy: 0.8939 - val_loss: 1.0033 - val_accuracy: 0.5909\n",
            "Epoch 169/300\n",
            "4/4 [==============================] - 0s 25ms/step - loss: 0.4333 - accuracy: 0.8788 - val_loss: 1.0004 - val_accuracy: 0.5455\n",
            "Epoch 170/300\n",
            "4/4 [==============================] - 0s 24ms/step - loss: 0.4295 - accuracy: 0.8636 - val_loss: 0.9979 - val_accuracy: 0.5909\n",
            "Epoch 171/300\n",
            "4/4 [==============================] - 0s 17ms/step - loss: 0.4271 - accuracy: 0.8636 - val_loss: 0.9897 - val_accuracy: 0.5909\n",
            "Epoch 172/300\n",
            "4/4 [==============================] - 0s 21ms/step - loss: 0.4246 - accuracy: 0.8636 - val_loss: 0.9798 - val_accuracy: 0.6364\n",
            "Epoch 173/300\n",
            "4/4 [==============================] - 0s 24ms/step - loss: 0.4242 - accuracy: 0.8485 - val_loss: 0.9927 - val_accuracy: 0.5909\n",
            "Epoch 174/300\n",
            "4/4 [==============================] - 0s 24ms/step - loss: 0.4207 - accuracy: 0.8636 - val_loss: 1.0117 - val_accuracy: 0.5909\n",
            "Epoch 175/300\n",
            "4/4 [==============================] - 0s 22ms/step - loss: 0.4189 - accuracy: 0.9091 - val_loss: 1.0167 - val_accuracy: 0.5909\n",
            "Epoch 176/300\n",
            "4/4 [==============================] - 0s 20ms/step - loss: 0.4111 - accuracy: 0.8939 - val_loss: 1.0324 - val_accuracy: 0.5455\n",
            "Epoch 177/300\n",
            "4/4 [==============================] - 0s 14ms/step - loss: 0.4106 - accuracy: 0.9091 - val_loss: 1.0273 - val_accuracy: 0.5455\n",
            "Epoch 178/300\n",
            "4/4 [==============================] - 0s 14ms/step - loss: 0.4073 - accuracy: 0.8636 - val_loss: 1.0097 - val_accuracy: 0.5909\n",
            "Epoch 179/300\n",
            "4/4 [==============================] - 0s 13ms/step - loss: 0.4047 - accuracy: 0.8636 - val_loss: 1.0015 - val_accuracy: 0.5909\n",
            "Epoch 180/300\n",
            "4/4 [==============================] - 0s 12ms/step - loss: 0.4022 - accuracy: 0.9242 - val_loss: 0.9958 - val_accuracy: 0.5909\n",
            "Epoch 181/300\n",
            "4/4 [==============================] - 0s 16ms/step - loss: 0.3978 - accuracy: 0.8788 - val_loss: 0.9954 - val_accuracy: 0.5909\n",
            "Epoch 182/300\n",
            "4/4 [==============================] - 0s 12ms/step - loss: 0.3974 - accuracy: 0.8788 - val_loss: 0.9929 - val_accuracy: 0.6364\n",
            "Epoch 183/300\n",
            "4/4 [==============================] - 0s 13ms/step - loss: 0.3932 - accuracy: 0.8788 - val_loss: 1.0106 - val_accuracy: 0.5909\n",
            "Epoch 184/300\n",
            "4/4 [==============================] - 0s 12ms/step - loss: 0.3927 - accuracy: 0.8636 - val_loss: 1.0116 - val_accuracy: 0.5909\n",
            "Epoch 185/300\n",
            "4/4 [==============================] - 0s 20ms/step - loss: 0.3870 - accuracy: 0.8939 - val_loss: 1.0184 - val_accuracy: 0.5909\n",
            "Epoch 186/300\n",
            "4/4 [==============================] - 0s 13ms/step - loss: 0.3818 - accuracy: 0.9091 - val_loss: 1.0139 - val_accuracy: 0.5909\n",
            "Epoch 187/300\n",
            "4/4 [==============================] - 0s 12ms/step - loss: 0.3798 - accuracy: 0.8939 - val_loss: 1.0202 - val_accuracy: 0.5909\n",
            "Epoch 188/300\n",
            "4/4 [==============================] - 0s 12ms/step - loss: 0.3767 - accuracy: 0.8788 - val_loss: 1.0096 - val_accuracy: 0.5909\n",
            "Epoch 189/300\n",
            "4/4 [==============================] - 0s 13ms/step - loss: 0.3772 - accuracy: 0.8788 - val_loss: 1.0315 - val_accuracy: 0.6364\n",
            "Epoch 190/300\n",
            "4/4 [==============================] - 0s 12ms/step - loss: 0.3766 - accuracy: 0.9242 - val_loss: 1.0248 - val_accuracy: 0.5909\n",
            "Epoch 191/300\n",
            "4/4 [==============================] - 0s 12ms/step - loss: 0.3713 - accuracy: 0.9242 - val_loss: 1.0493 - val_accuracy: 0.5455\n",
            "Epoch 192/300\n",
            "4/4 [==============================] - 0s 14ms/step - loss: 0.3725 - accuracy: 0.9242 - val_loss: 1.0381 - val_accuracy: 0.5909\n",
            "Epoch 193/300\n",
            "4/4 [==============================] - 0s 13ms/step - loss: 0.3685 - accuracy: 0.8788 - val_loss: 1.0353 - val_accuracy: 0.5909\n",
            "Epoch 194/300\n",
            "4/4 [==============================] - 0s 13ms/step - loss: 0.3645 - accuracy: 0.9242 - val_loss: 1.0443 - val_accuracy: 0.5909\n",
            "Epoch 195/300\n",
            "4/4 [==============================] - 0s 12ms/step - loss: 0.3625 - accuracy: 0.9242 - val_loss: 1.0372 - val_accuracy: 0.5909\n",
            "Epoch 196/300\n",
            "4/4 [==============================] - 0s 13ms/step - loss: 0.3601 - accuracy: 0.9242 - val_loss: 1.0495 - val_accuracy: 0.5909\n",
            "Epoch 197/300\n",
            "4/4 [==============================] - 0s 18ms/step - loss: 0.3593 - accuracy: 0.9242 - val_loss: 1.0435 - val_accuracy: 0.5909\n",
            "Epoch 198/300\n",
            "4/4 [==============================] - 0s 13ms/step - loss: 0.3542 - accuracy: 0.9242 - val_loss: 1.0487 - val_accuracy: 0.5909\n",
            "Epoch 199/300\n",
            "4/4 [==============================] - 0s 15ms/step - loss: 0.3537 - accuracy: 0.8788 - val_loss: 1.0376 - val_accuracy: 0.5909\n",
            "Epoch 200/300\n",
            "4/4 [==============================] - 0s 12ms/step - loss: 0.3471 - accuracy: 0.9242 - val_loss: 1.0485 - val_accuracy: 0.5909\n",
            "Epoch 201/300\n",
            "4/4 [==============================] - 0s 13ms/step - loss: 0.3462 - accuracy: 0.9091 - val_loss: 1.0499 - val_accuracy: 0.5909\n",
            "Epoch 202/300\n",
            "4/4 [==============================] - 0s 13ms/step - loss: 0.3443 - accuracy: 0.9091 - val_loss: 1.0473 - val_accuracy: 0.5909\n",
            "Epoch 203/300\n",
            "4/4 [==============================] - 0s 12ms/step - loss: 0.3401 - accuracy: 0.8939 - val_loss: 1.0517 - val_accuracy: 0.5909\n",
            "Epoch 204/300\n",
            "4/4 [==============================] - 0s 18ms/step - loss: 0.3375 - accuracy: 0.9242 - val_loss: 1.0600 - val_accuracy: 0.5909\n",
            "Epoch 205/300\n",
            "4/4 [==============================] - 0s 14ms/step - loss: 0.3342 - accuracy: 0.9394 - val_loss: 1.0345 - val_accuracy: 0.5909\n",
            "Epoch 206/300\n",
            "4/4 [==============================] - 0s 15ms/step - loss: 0.3351 - accuracy: 0.9091 - val_loss: 1.0541 - val_accuracy: 0.5909\n",
            "Epoch 207/300\n",
            "4/4 [==============================] - 0s 13ms/step - loss: 0.3285 - accuracy: 0.9242 - val_loss: 1.0346 - val_accuracy: 0.6364\n",
            "Epoch 208/300\n",
            "4/4 [==============================] - 0s 12ms/step - loss: 0.3299 - accuracy: 0.8939 - val_loss: 1.0375 - val_accuracy: 0.5909\n",
            "Epoch 209/300\n",
            "4/4 [==============================] - 0s 15ms/step - loss: 0.3262 - accuracy: 0.8788 - val_loss: 1.0586 - val_accuracy: 0.5909\n",
            "Epoch 210/300\n",
            "4/4 [==============================] - 0s 14ms/step - loss: 0.3212 - accuracy: 0.8939 - val_loss: 1.0559 - val_accuracy: 0.5909\n",
            "Epoch 211/300\n",
            "4/4 [==============================] - 0s 14ms/step - loss: 0.3226 - accuracy: 0.9242 - val_loss: 1.0645 - val_accuracy: 0.5909\n",
            "Epoch 212/300\n",
            "4/4 [==============================] - 0s 12ms/step - loss: 0.3200 - accuracy: 0.9242 - val_loss: 1.0402 - val_accuracy: 0.6364\n",
            "Epoch 213/300\n",
            "4/4 [==============================] - 0s 13ms/step - loss: 0.3212 - accuracy: 0.9242 - val_loss: 1.0579 - val_accuracy: 0.6364\n",
            "Epoch 214/300\n",
            "4/4 [==============================] - 0s 15ms/step - loss: 0.3149 - accuracy: 0.9242 - val_loss: 1.0743 - val_accuracy: 0.5909\n",
            "Epoch 215/300\n",
            "4/4 [==============================] - 0s 12ms/step - loss: 0.3169 - accuracy: 0.9242 - val_loss: 1.0798 - val_accuracy: 0.5909\n",
            "Epoch 216/300\n",
            "4/4 [==============================] - 0s 12ms/step - loss: 0.3083 - accuracy: 0.9242 - val_loss: 1.0759 - val_accuracy: 0.5909\n",
            "Epoch 217/300\n",
            "4/4 [==============================] - 0s 14ms/step - loss: 0.3067 - accuracy: 0.9394 - val_loss: 1.0825 - val_accuracy: 0.5909\n",
            "Epoch 218/300\n",
            "4/4 [==============================] - 0s 13ms/step - loss: 0.3054 - accuracy: 0.9242 - val_loss: 1.0890 - val_accuracy: 0.5909\n",
            "Epoch 219/300\n",
            "4/4 [==============================] - 0s 12ms/step - loss: 0.3044 - accuracy: 0.9242 - val_loss: 1.0863 - val_accuracy: 0.5909\n",
            "Epoch 220/300\n",
            "4/4 [==============================] - 0s 15ms/step - loss: 0.2994 - accuracy: 0.9242 - val_loss: 1.0927 - val_accuracy: 0.5909\n",
            "Epoch 221/300\n",
            "4/4 [==============================] - 0s 16ms/step - loss: 0.2981 - accuracy: 0.9091 - val_loss: 1.0836 - val_accuracy: 0.5909\n",
            "Epoch 222/300\n",
            "4/4 [==============================] - 0s 18ms/step - loss: 0.3002 - accuracy: 0.9091 - val_loss: 1.0821 - val_accuracy: 0.5909\n",
            "Epoch 223/300\n",
            "4/4 [==============================] - 0s 17ms/step - loss: 0.2958 - accuracy: 0.9091 - val_loss: 1.1026 - val_accuracy: 0.5909\n",
            "Epoch 224/300\n",
            "4/4 [==============================] - 0s 13ms/step - loss: 0.2924 - accuracy: 0.9091 - val_loss: 1.1033 - val_accuracy: 0.5909\n",
            "Epoch 225/300\n",
            "4/4 [==============================] - 0s 13ms/step - loss: 0.2921 - accuracy: 0.9091 - val_loss: 1.1117 - val_accuracy: 0.5909\n",
            "Epoch 226/300\n",
            "4/4 [==============================] - 0s 14ms/step - loss: 0.2911 - accuracy: 0.9242 - val_loss: 1.0980 - val_accuracy: 0.5909\n",
            "Epoch 227/300\n",
            "4/4 [==============================] - 0s 12ms/step - loss: 0.2886 - accuracy: 0.9242 - val_loss: 1.1029 - val_accuracy: 0.5909\n",
            "Epoch 228/300\n",
            "4/4 [==============================] - 0s 12ms/step - loss: 0.2822 - accuracy: 0.9242 - val_loss: 1.1143 - val_accuracy: 0.5909\n",
            "Epoch 229/300\n",
            "4/4 [==============================] - 0s 15ms/step - loss: 0.2826 - accuracy: 0.9394 - val_loss: 1.1057 - val_accuracy: 0.5909\n",
            "Epoch 230/300\n",
            "4/4 [==============================] - 0s 18ms/step - loss: 0.2799 - accuracy: 0.9242 - val_loss: 1.1099 - val_accuracy: 0.5909\n",
            "Epoch 231/300\n",
            "4/4 [==============================] - 0s 15ms/step - loss: 0.2807 - accuracy: 0.9394 - val_loss: 1.1009 - val_accuracy: 0.5909\n",
            "Epoch 232/300\n",
            "4/4 [==============================] - 0s 13ms/step - loss: 0.2749 - accuracy: 0.9242 - val_loss: 1.1084 - val_accuracy: 0.5909\n",
            "Epoch 233/300\n",
            "4/4 [==============================] - 0s 15ms/step - loss: 0.2768 - accuracy: 0.9394 - val_loss: 1.1240 - val_accuracy: 0.5909\n",
            "Epoch 234/300\n",
            "4/4 [==============================] - 0s 14ms/step - loss: 0.2720 - accuracy: 0.9394 - val_loss: 1.1437 - val_accuracy: 0.5909\n",
            "Epoch 235/300\n",
            "4/4 [==============================] - 0s 12ms/step - loss: 0.2706 - accuracy: 0.9242 - val_loss: 1.1356 - val_accuracy: 0.5909\n",
            "Epoch 236/300\n",
            "4/4 [==============================] - 0s 13ms/step - loss: 0.2676 - accuracy: 0.9394 - val_loss: 1.1476 - val_accuracy: 0.5909\n",
            "Epoch 237/300\n",
            "4/4 [==============================] - 0s 13ms/step - loss: 0.2696 - accuracy: 0.9394 - val_loss: 1.1129 - val_accuracy: 0.6364\n",
            "Epoch 238/300\n",
            "4/4 [==============================] - 0s 13ms/step - loss: 0.2649 - accuracy: 0.9394 - val_loss: 1.1391 - val_accuracy: 0.5909\n",
            "Epoch 239/300\n",
            "4/4 [==============================] - 0s 13ms/step - loss: 0.2633 - accuracy: 0.9545 - val_loss: 1.1487 - val_accuracy: 0.6364\n",
            "Epoch 240/300\n",
            "4/4 [==============================] - 0s 13ms/step - loss: 0.2622 - accuracy: 0.9242 - val_loss: 1.1795 - val_accuracy: 0.5909\n",
            "Epoch 241/300\n",
            "4/4 [==============================] - 0s 13ms/step - loss: 0.2624 - accuracy: 0.9545 - val_loss: 1.1587 - val_accuracy: 0.5909\n",
            "Epoch 242/300\n",
            "4/4 [==============================] - 0s 19ms/step - loss: 0.2598 - accuracy: 0.9545 - val_loss: 1.1507 - val_accuracy: 0.5909\n",
            "Epoch 243/300\n",
            "4/4 [==============================] - 0s 19ms/step - loss: 0.2577 - accuracy: 0.9697 - val_loss: 1.1361 - val_accuracy: 0.5909\n",
            "Epoch 244/300\n",
            "4/4 [==============================] - 0s 13ms/step - loss: 0.2554 - accuracy: 0.9545 - val_loss: 1.1299 - val_accuracy: 0.6364\n",
            "Epoch 245/300\n",
            "4/4 [==============================] - 0s 15ms/step - loss: 0.2529 - accuracy: 0.9545 - val_loss: 1.1284 - val_accuracy: 0.5909\n",
            "Epoch 246/300\n",
            "4/4 [==============================] - 0s 14ms/step - loss: 0.2491 - accuracy: 0.9697 - val_loss: 1.1369 - val_accuracy: 0.5909\n",
            "Epoch 247/300\n",
            "4/4 [==============================] - 0s 13ms/step - loss: 0.2485 - accuracy: 0.9697 - val_loss: 1.1476 - val_accuracy: 0.5909\n",
            "Epoch 248/300\n",
            "4/4 [==============================] - 0s 14ms/step - loss: 0.2456 - accuracy: 0.9697 - val_loss: 1.1475 - val_accuracy: 0.5909\n",
            "Epoch 249/300\n",
            "4/4 [==============================] - 0s 13ms/step - loss: 0.2447 - accuracy: 0.9545 - val_loss: 1.1560 - val_accuracy: 0.5909\n",
            "Epoch 250/300\n",
            "4/4 [==============================] - 0s 16ms/step - loss: 0.2425 - accuracy: 0.9697 - val_loss: 1.1581 - val_accuracy: 0.5909\n",
            "Epoch 251/300\n",
            "4/4 [==============================] - 0s 18ms/step - loss: 0.2379 - accuracy: 0.9697 - val_loss: 1.1663 - val_accuracy: 0.5909\n",
            "Epoch 252/300\n",
            "4/4 [==============================] - 0s 16ms/step - loss: 0.2381 - accuracy: 0.9697 - val_loss: 1.1656 - val_accuracy: 0.5909\n",
            "Epoch 253/300\n",
            "4/4 [==============================] - 0s 15ms/step - loss: 0.2364 - accuracy: 0.9697 - val_loss: 1.1794 - val_accuracy: 0.5909\n",
            "Epoch 254/300\n",
            "4/4 [==============================] - 0s 14ms/step - loss: 0.2356 - accuracy: 0.9697 - val_loss: 1.1532 - val_accuracy: 0.6364\n",
            "Epoch 255/300\n",
            "4/4 [==============================] - 0s 13ms/step - loss: 0.2374 - accuracy: 0.9545 - val_loss: 1.1349 - val_accuracy: 0.6364\n",
            "Epoch 256/300\n",
            "4/4 [==============================] - 0s 16ms/step - loss: 0.2349 - accuracy: 0.9394 - val_loss: 1.1625 - val_accuracy: 0.6364\n",
            "Epoch 257/300\n",
            "4/4 [==============================] - 0s 14ms/step - loss: 0.2360 - accuracy: 0.9545 - val_loss: 1.1592 - val_accuracy: 0.6364\n",
            "Epoch 258/300\n",
            "4/4 [==============================] - 0s 20ms/step - loss: 0.2276 - accuracy: 0.9697 - val_loss: 1.1782 - val_accuracy: 0.5909\n",
            "Epoch 259/300\n",
            "4/4 [==============================] - 0s 20ms/step - loss: 0.2280 - accuracy: 0.9697 - val_loss: 1.1806 - val_accuracy: 0.6364\n",
            "Epoch 260/300\n",
            "4/4 [==============================] - 0s 13ms/step - loss: 0.2254 - accuracy: 0.9545 - val_loss: 1.1756 - val_accuracy: 0.6364\n",
            "Epoch 261/300\n",
            "4/4 [==============================] - 0s 20ms/step - loss: 0.2242 - accuracy: 0.9545 - val_loss: 1.2202 - val_accuracy: 0.5909\n",
            "Epoch 262/300\n",
            "4/4 [==============================] - 0s 14ms/step - loss: 0.2284 - accuracy: 0.9697 - val_loss: 1.2135 - val_accuracy: 0.5909\n",
            "Epoch 263/300\n",
            "4/4 [==============================] - 0s 18ms/step - loss: 0.2208 - accuracy: 0.9697 - val_loss: 1.2088 - val_accuracy: 0.5909\n",
            "Epoch 264/300\n",
            "4/4 [==============================] - 0s 13ms/step - loss: 0.2185 - accuracy: 0.9697 - val_loss: 1.1916 - val_accuracy: 0.5909\n",
            "Epoch 265/300\n",
            "4/4 [==============================] - 0s 14ms/step - loss: 0.2192 - accuracy: 0.9697 - val_loss: 1.1586 - val_accuracy: 0.6364\n",
            "Epoch 266/300\n",
            "4/4 [==============================] - 0s 15ms/step - loss: 0.2175 - accuracy: 0.9394 - val_loss: 1.1648 - val_accuracy: 0.6364\n",
            "Epoch 267/300\n",
            "4/4 [==============================] - 0s 18ms/step - loss: 0.2167 - accuracy: 0.9697 - val_loss: 1.1716 - val_accuracy: 0.6364\n",
            "Epoch 268/300\n",
            "4/4 [==============================] - 0s 15ms/step - loss: 0.2121 - accuracy: 0.9697 - val_loss: 1.1993 - val_accuracy: 0.5909\n",
            "Epoch 269/300\n",
            "4/4 [==============================] - 0s 14ms/step - loss: 0.2139 - accuracy: 0.9545 - val_loss: 1.2142 - val_accuracy: 0.5909\n",
            "Epoch 270/300\n",
            "4/4 [==============================] - 0s 16ms/step - loss: 0.2152 - accuracy: 0.9545 - val_loss: 1.2199 - val_accuracy: 0.5909\n",
            "Epoch 271/300\n",
            "4/4 [==============================] - 0s 16ms/step - loss: 0.2088 - accuracy: 0.9697 - val_loss: 1.2281 - val_accuracy: 0.5909\n",
            "Epoch 272/300\n",
            "4/4 [==============================] - 0s 15ms/step - loss: 0.2094 - accuracy: 0.9697 - val_loss: 1.1798 - val_accuracy: 0.6364\n",
            "Epoch 273/300\n",
            "4/4 [==============================] - 0s 20ms/step - loss: 0.2066 - accuracy: 0.9545 - val_loss: 1.1968 - val_accuracy: 0.6364\n",
            "Epoch 274/300\n",
            "4/4 [==============================] - 0s 17ms/step - loss: 0.2056 - accuracy: 0.9697 - val_loss: 1.2056 - val_accuracy: 0.5909\n",
            "Epoch 275/300\n",
            "4/4 [==============================] - 0s 13ms/step - loss: 0.2050 - accuracy: 0.9697 - val_loss: 1.2186 - val_accuracy: 0.5909\n",
            "Epoch 276/300\n",
            "4/4 [==============================] - 0s 17ms/step - loss: 0.2078 - accuracy: 0.9697 - val_loss: 1.2237 - val_accuracy: 0.5909\n",
            "Epoch 277/300\n",
            "4/4 [==============================] - 0s 16ms/step - loss: 0.1987 - accuracy: 0.9697 - val_loss: 1.2316 - val_accuracy: 0.5909\n",
            "Epoch 278/300\n",
            "4/4 [==============================] - 0s 14ms/step - loss: 0.1987 - accuracy: 0.9697 - val_loss: 1.1891 - val_accuracy: 0.6364\n",
            "Epoch 279/300\n",
            "4/4 [==============================] - 0s 17ms/step - loss: 0.1998 - accuracy: 0.9545 - val_loss: 1.2026 - val_accuracy: 0.6364\n",
            "Epoch 280/300\n",
            "4/4 [==============================] - 0s 17ms/step - loss: 0.1984 - accuracy: 0.9697 - val_loss: 1.2287 - val_accuracy: 0.5909\n",
            "Epoch 281/300\n",
            "4/4 [==============================] - 0s 15ms/step - loss: 0.1972 - accuracy: 0.9697 - val_loss: 1.1923 - val_accuracy: 0.6364\n",
            "Epoch 282/300\n",
            "4/4 [==============================] - 0s 16ms/step - loss: 0.1985 - accuracy: 0.9545 - val_loss: 1.2055 - val_accuracy: 0.6818\n",
            "Epoch 283/300\n",
            "4/4 [==============================] - 0s 14ms/step - loss: 0.1969 - accuracy: 0.9545 - val_loss: 1.2100 - val_accuracy: 0.6364\n",
            "Epoch 284/300\n",
            "4/4 [==============================] - 0s 15ms/step - loss: 0.1882 - accuracy: 0.9545 - val_loss: 1.2262 - val_accuracy: 0.5909\n",
            "Epoch 285/300\n",
            "4/4 [==============================] - 0s 13ms/step - loss: 0.1892 - accuracy: 0.9697 - val_loss: 1.2571 - val_accuracy: 0.5909\n",
            "Epoch 286/300\n",
            "4/4 [==============================] - 0s 14ms/step - loss: 0.1903 - accuracy: 0.9697 - val_loss: 1.2487 - val_accuracy: 0.5909\n",
            "Epoch 287/300\n",
            "4/4 [==============================] - 0s 16ms/step - loss: 0.1878 - accuracy: 0.9697 - val_loss: 1.2519 - val_accuracy: 0.5909\n",
            "Epoch 288/300\n",
            "4/4 [==============================] - 0s 15ms/step - loss: 0.1820 - accuracy: 0.9697 - val_loss: 1.2586 - val_accuracy: 0.5909\n",
            "Epoch 289/300\n",
            "4/4 [==============================] - 0s 22ms/step - loss: 0.1842 - accuracy: 0.9697 - val_loss: 1.2792 - val_accuracy: 0.5909\n",
            "Epoch 290/300\n",
            "4/4 [==============================] - 0s 13ms/step - loss: 0.1858 - accuracy: 0.9697 - val_loss: 1.2795 - val_accuracy: 0.5909\n",
            "Epoch 291/300\n",
            "4/4 [==============================] - 0s 14ms/step - loss: 0.1828 - accuracy: 0.9697 - val_loss: 1.2335 - val_accuracy: 0.6364\n",
            "Epoch 292/300\n",
            "4/4 [==============================] - 0s 13ms/step - loss: 0.1820 - accuracy: 0.9545 - val_loss: 1.2564 - val_accuracy: 0.5909\n",
            "Epoch 293/300\n",
            "4/4 [==============================] - 0s 16ms/step - loss: 0.1805 - accuracy: 0.9545 - val_loss: 1.2903 - val_accuracy: 0.5909\n",
            "Epoch 294/300\n",
            "4/4 [==============================] - 0s 14ms/step - loss: 0.1802 - accuracy: 0.9697 - val_loss: 1.2984 - val_accuracy: 0.5909\n",
            "Epoch 295/300\n",
            "4/4 [==============================] - 0s 13ms/step - loss: 0.1743 - accuracy: 0.9697 - val_loss: 1.3006 - val_accuracy: 0.5909\n",
            "Epoch 296/300\n",
            "4/4 [==============================] - 0s 15ms/step - loss: 0.1760 - accuracy: 0.9697 - val_loss: 1.3010 - val_accuracy: 0.5909\n",
            "Epoch 297/300\n",
            "4/4 [==============================] - 0s 14ms/step - loss: 0.1752 - accuracy: 0.9697 - val_loss: 1.2974 - val_accuracy: 0.5909\n",
            "Epoch 298/300\n",
            "4/4 [==============================] - 0s 15ms/step - loss: 0.1732 - accuracy: 0.9697 - val_loss: 1.3052 - val_accuracy: 0.5909\n",
            "Epoch 299/300\n",
            "4/4 [==============================] - 0s 13ms/step - loss: 0.1725 - accuracy: 0.9697 - val_loss: 1.3081 - val_accuracy: 0.5909\n",
            "Epoch 300/300\n",
            "4/4 [==============================] - 0s 15ms/step - loss: 0.1723 - accuracy: 0.9697 - val_loss: 1.2546 - val_accuracy: 0.6364\n"
          ]
        },
        {
          "output_type": "execute_result",
          "data": {
            "text/plain": [
              "<keras.callbacks.History at 0x7f1e15c5f8b0>"
            ]
          },
          "metadata": {},
          "execution_count": 111
        }
      ]
    },
    {
      "cell_type": "code",
      "source": [
        "# Save keras model to ONNX file \n",
        "\n",
        "from aimodelshare.aimsonnx import model_to_onnx\n",
        "\n",
        "onnx_model = model_to_onnx(keras_model, framework='keras',\n",
        "                          transfer_learning=False,\n",
        "                          deep_learning=True)\n",
        "\n",
        "with open(\"model.onnx\", \"wb\") as f:\n",
        "    f.write(onnx_model.SerializeToString())"
      ],
      "metadata": {
        "id": "HCPW0ErZRKSj"
      },
      "id": "HCPW0ErZRKSj",
      "execution_count": null,
      "outputs": []
    },
    {
      "cell_type": "code",
      "source": [
        "# Submit keras model: \n",
        "\n",
        "#-- Generate predicted y values\n",
        "#Note: Keras predict returns the predicted column index location for classification models\n",
        "prediction_column_index=keras_model.predict(preprocessor(X_test)).argmax(axis=1)\n",
        "\n",
        "# extract correct prediction labels \n",
        "prediction_labels = [y_train.columns[i] for i in prediction_column_index]\n",
        "\n",
        "# Submit Model 1 to Competition Leaderboard\n",
        "mycompetition.submit_model(model_filepath = \"model.onnx\",\n",
        "                                 preprocessor_filepath=\"preprocessor.zip\",\n",
        "                                 prediction_submission=prediction_labels, custom_metadata={\"team\":\"1\"})\n"
      ],
      "metadata": {
        "colab": {
          "base_uri": "https://localhost:8080/"
        },
        "id": "U_D3r-r9RZHw",
        "outputId": "c396dbc6-6809-45b4-8a42-b7cf3c3eba06"
      },
      "id": "U_D3r-r9RZHw",
      "execution_count": null,
      "outputs": [
        {
          "output_type": "stream",
          "name": "stdout",
          "text": [
            "3/3 [==============================] - 0s 4ms/step\n",
            "Insert search tags to help users find your model (optional): \n",
            "Provide any useful notes about your model (optional): \n",
            "\n",
            "Your model has been submitted as model version 819\n",
            "\n",
            "To submit code used to create this model or to view current leaderboard navigate to Model Playground: \n",
            "\n",
            " https://www.modelshare.org/detail/model:3164\n"
          ]
        }
      ]
    },
    {
      "cell_type": "markdown",
      "source": [
        "## After Discussion"
      ],
      "metadata": {
        "id": "xTmk5e3pRvtE"
      },
      "id": "xTmk5e3pRvtE"
    },
    {
      "cell_type": "markdown",
      "source": [
        "### Model 4"
      ],
      "metadata": {
        "id": "qgkn5DGQUEO8"
      },
      "id": "qgkn5DGQUEO8"
    },
    {
      "cell_type": "code",
      "source": [
        "model_4 = RandomForestClassifier(n_estimators=200, max_depth=5)\n",
        "model_4.fit(preprocessor(X_train), y_train_labels) # Fitting to the training set.\n",
        "model_4.score(preprocessor(X_train), y_train_labels)"
      ],
      "metadata": {
        "colab": {
          "base_uri": "https://localhost:8080/"
        },
        "id": "kHmdvtkLUH3F",
        "outputId": "7a105404-6b2f-42d2-e6e0-46f9a8c78696"
      },
      "id": "kHmdvtkLUH3F",
      "execution_count": null,
      "outputs": [
        {
          "output_type": "execute_result",
          "data": {
            "text/plain": [
              "0.9545454545454546"
            ]
          },
          "metadata": {},
          "execution_count": 127
        }
      ]
    },
    {
      "cell_type": "code",
      "source": [
        "#-- Generate predicted values (Model 4)\n",
        "prediction_labels = model_4.predict(preprocessor(X_test))\n",
        "\n",
        "# Submit Model 4 to Competition Leaderboard\n",
        "mycompetition.submit_model(model_filepath = \"model.onnx\",\n",
        "                                 preprocessor_filepath=\"preprocessor.zip\",\n",
        "                                 prediction_submission=prediction_labels,custom_metadata={\"team\":\"1\"})"
      ],
      "metadata": {
        "colab": {
          "base_uri": "https://localhost:8080/"
        },
        "id": "j0ngArVmUpub",
        "outputId": "e6759c63-51f8-4389-b20e-c9135254c3c3"
      },
      "id": "j0ngArVmUpub",
      "execution_count": null,
      "outputs": [
        {
          "output_type": "stream",
          "name": "stdout",
          "text": [
            "Insert search tags to help users find your model (optional): \n",
            "Provide any useful notes about your model (optional): \n",
            "\n",
            "Your model has been submitted as model version 836\n",
            "\n",
            "To submit code used to create this model or to view current leaderboard navigate to Model Playground: \n",
            "\n",
            " https://www.modelshare.org/detail/model:3164\n"
          ]
        }
      ]
    },
    {
      "cell_type": "markdown",
      "source": [
        "### Model 5"
      ],
      "metadata": {
        "id": "FnunOP9YWU29"
      },
      "id": "FnunOP9YWU29"
    },
    {
      "cell_type": "code",
      "source": [
        "model_5 = GradientBoostingClassifier(n_estimators=9, learning_rate=1.0,\n",
        "    max_depth=1, random_state=0).fit(preprocessor(X_train), y_train_labels)\n",
        "model_5.score(preprocessor(X_train), y_train_labels)"
      ],
      "metadata": {
        "colab": {
          "base_uri": "https://localhost:8080/"
        },
        "id": "gA0s3Au4WXGJ",
        "outputId": "253259c6-3714-40dc-99e0-e0d8c3f87fc9"
      },
      "id": "gA0s3Au4WXGJ",
      "execution_count": null,
      "outputs": [
        {
          "output_type": "execute_result",
          "data": {
            "text/plain": [
              "0.9659090909090909"
            ]
          },
          "metadata": {},
          "execution_count": 121
        }
      ]
    },
    {
      "cell_type": "code",
      "source": [
        "#-- Generate predicted values \n",
        "prediction_labels = model_5.predict(preprocessor(X_test))"
      ],
      "metadata": {
        "id": "Fddr-XncXBkZ"
      },
      "id": "Fddr-XncXBkZ",
      "execution_count": null,
      "outputs": []
    },
    {
      "cell_type": "code",
      "source": [
        "# Submit model to Competition Leaderboard\n",
        "mycompetition.submit_model(model_filepath = \"model.onnx\",\n",
        "                                 preprocessor_filepath=\"preprocessor.zip\",\n",
        "                                 prediction_submission=prediction_labels, custom_metadata={\"team\":\"1\"})"
      ],
      "metadata": {
        "colab": {
          "base_uri": "https://localhost:8080/"
        },
        "id": "rEGujwN6W8xX",
        "outputId": "6faff4b6-d2ea-4558-fbfb-d1bc838694ae"
      },
      "id": "rEGujwN6W8xX",
      "execution_count": null,
      "outputs": [
        {
          "output_type": "stream",
          "name": "stdout",
          "text": [
            "Insert search tags to help users find your model (optional): \n",
            "Provide any useful notes about your model (optional): \n",
            "\n",
            "Your model has been submitted as model version 827\n",
            "\n",
            "To submit code used to create this model or to view current leaderboard navigate to Model Playground: \n",
            "\n",
            " https://www.modelshare.org/detail/model:3164\n"
          ]
        }
      ]
    },
    {
      "cell_type": "markdown",
      "source": [
        "### Model 6"
      ],
      "metadata": {
        "id": "FrKXYNrHXb8M"
      },
      "id": "FrKXYNrHXb8M"
    },
    {
      "cell_type": "code",
      "source": [
        "feature_count=preprocessor(X_train).shape[1] #count features in input data\n",
        "\n",
        "keras_model = Sequential()\n",
        "keras_model.add(Dense(128, input_dim=feature_count, activation='relu'))\n",
        "keras_model.add(Dense(64, activation='relu'))\n",
        "keras_model.add(Dense(64, activation='relu'))\n",
        "keras_model.add(Dense(64, activation='relu'))\n",
        "\n",
        "keras_model.add(Dense(5, activation='softmax')) \n",
        "                                            \n",
        "# Compile model\n",
        "keras_model.compile(loss='categorical_crossentropy', optimizer='sgd', metrics=['accuracy'])\n",
        "\n",
        "# Fitting the NN to the Training set\n",
        "keras_model.fit(preprocessor(X_train), y_train, ## Note that keras models require a one-hot-encoded y_train object\n",
        "               batch_size = 20, \n",
        "               epochs = 300, validation_split=0.25)  "
      ],
      "metadata": {
        "colab": {
          "base_uri": "https://localhost:8080/"
        },
        "id": "XH_9ihbsXbXd",
        "outputId": "9aa4831f-53a7-4083-c1f9-72a2f9782fc7"
      },
      "id": "XH_9ihbsXbXd",
      "execution_count": null,
      "outputs": [
        {
          "output_type": "stream",
          "name": "stdout",
          "text": [
            "Epoch 1/300\n",
            "4/4 [==============================] - 1s 67ms/step - loss: 1.6024 - accuracy: 0.1818 - val_loss: 1.6003 - val_accuracy: 0.2727\n",
            "Epoch 2/300\n",
            "4/4 [==============================] - 0s 12ms/step - loss: 1.5910 - accuracy: 0.1970 - val_loss: 1.5949 - val_accuracy: 0.2727\n",
            "Epoch 3/300\n",
            "4/4 [==============================] - 0s 12ms/step - loss: 1.5808 - accuracy: 0.2576 - val_loss: 1.5909 - val_accuracy: 0.1364\n",
            "Epoch 4/300\n",
            "4/4 [==============================] - 0s 20ms/step - loss: 1.5703 - accuracy: 0.2576 - val_loss: 1.5871 - val_accuracy: 0.2273\n",
            "Epoch 5/300\n",
            "4/4 [==============================] - 0s 12ms/step - loss: 1.5615 - accuracy: 0.3333 - val_loss: 1.5834 - val_accuracy: 0.2273\n",
            "Epoch 6/300\n",
            "4/4 [==============================] - 0s 14ms/step - loss: 1.5529 - accuracy: 0.3636 - val_loss: 1.5792 - val_accuracy: 0.1364\n",
            "Epoch 7/300\n",
            "4/4 [==============================] - 0s 11ms/step - loss: 1.5430 - accuracy: 0.3788 - val_loss: 1.5745 - val_accuracy: 0.1364\n",
            "Epoch 8/300\n",
            "4/4 [==============================] - 0s 14ms/step - loss: 1.5341 - accuracy: 0.3939 - val_loss: 1.5715 - val_accuracy: 0.1818\n",
            "Epoch 9/300\n",
            "4/4 [==============================] - 0s 13ms/step - loss: 1.5247 - accuracy: 0.3939 - val_loss: 1.5674 - val_accuracy: 0.2727\n",
            "Epoch 10/300\n",
            "4/4 [==============================] - 0s 12ms/step - loss: 1.5164 - accuracy: 0.4394 - val_loss: 1.5635 - val_accuracy: 0.2727\n",
            "Epoch 11/300\n",
            "4/4 [==============================] - 0s 20ms/step - loss: 1.5089 - accuracy: 0.4848 - val_loss: 1.5596 - val_accuracy: 0.3182\n",
            "Epoch 12/300\n",
            "4/4 [==============================] - 0s 12ms/step - loss: 1.5003 - accuracy: 0.5455 - val_loss: 1.5553 - val_accuracy: 0.3182\n",
            "Epoch 13/300\n",
            "4/4 [==============================] - 0s 14ms/step - loss: 1.4919 - accuracy: 0.5606 - val_loss: 1.5509 - val_accuracy: 0.2727\n",
            "Epoch 14/300\n",
            "4/4 [==============================] - 0s 13ms/step - loss: 1.4837 - accuracy: 0.5758 - val_loss: 1.5464 - val_accuracy: 0.3182\n",
            "Epoch 15/300\n",
            "4/4 [==============================] - 0s 13ms/step - loss: 1.4748 - accuracy: 0.5758 - val_loss: 1.5419 - val_accuracy: 0.3182\n",
            "Epoch 16/300\n",
            "4/4 [==============================] - 0s 13ms/step - loss: 1.4665 - accuracy: 0.5758 - val_loss: 1.5356 - val_accuracy: 0.3182\n",
            "Epoch 17/300\n",
            "4/4 [==============================] - 0s 12ms/step - loss: 1.4574 - accuracy: 0.5758 - val_loss: 1.5327 - val_accuracy: 0.3636\n",
            "Epoch 18/300\n",
            "4/4 [==============================] - 0s 13ms/step - loss: 1.4492 - accuracy: 0.5909 - val_loss: 1.5274 - val_accuracy: 0.3636\n",
            "Epoch 19/300\n",
            "4/4 [==============================] - 0s 12ms/step - loss: 1.4403 - accuracy: 0.6061 - val_loss: 1.5198 - val_accuracy: 0.3636\n",
            "Epoch 20/300\n",
            "4/4 [==============================] - 0s 14ms/step - loss: 1.4303 - accuracy: 0.6212 - val_loss: 1.5153 - val_accuracy: 0.3636\n",
            "Epoch 21/300\n",
            "4/4 [==============================] - 0s 14ms/step - loss: 1.4226 - accuracy: 0.6364 - val_loss: 1.5100 - val_accuracy: 0.3182\n",
            "Epoch 22/300\n",
            "4/4 [==============================] - 0s 13ms/step - loss: 1.4129 - accuracy: 0.6364 - val_loss: 1.5018 - val_accuracy: 0.3636\n",
            "Epoch 23/300\n",
            "4/4 [==============================] - 0s 20ms/step - loss: 1.4026 - accuracy: 0.6212 - val_loss: 1.4969 - val_accuracy: 0.3636\n",
            "Epoch 24/300\n",
            "4/4 [==============================] - 0s 12ms/step - loss: 1.3926 - accuracy: 0.6212 - val_loss: 1.4913 - val_accuracy: 0.3636\n",
            "Epoch 25/300\n",
            "4/4 [==============================] - 0s 12ms/step - loss: 1.3821 - accuracy: 0.6212 - val_loss: 1.4870 - val_accuracy: 0.3182\n",
            "Epoch 26/300\n",
            "4/4 [==============================] - 0s 12ms/step - loss: 1.3714 - accuracy: 0.6212 - val_loss: 1.4804 - val_accuracy: 0.3182\n",
            "Epoch 27/300\n",
            "4/4 [==============================] - 0s 12ms/step - loss: 1.3617 - accuracy: 0.6212 - val_loss: 1.4733 - val_accuracy: 0.3182\n",
            "Epoch 28/300\n",
            "4/4 [==============================] - 0s 23ms/step - loss: 1.3525 - accuracy: 0.6212 - val_loss: 1.4664 - val_accuracy: 0.4091\n",
            "Epoch 29/300\n",
            "4/4 [==============================] - 0s 12ms/step - loss: 1.3420 - accuracy: 0.6212 - val_loss: 1.4597 - val_accuracy: 0.3636\n",
            "Epoch 30/300\n",
            "4/4 [==============================] - 0s 12ms/step - loss: 1.3306 - accuracy: 0.6212 - val_loss: 1.4498 - val_accuracy: 0.4091\n",
            "Epoch 31/300\n",
            "4/4 [==============================] - 0s 15ms/step - loss: 1.3204 - accuracy: 0.6212 - val_loss: 1.4423 - val_accuracy: 0.3636\n",
            "Epoch 32/300\n",
            "4/4 [==============================] - 0s 12ms/step - loss: 1.3096 - accuracy: 0.6212 - val_loss: 1.4336 - val_accuracy: 0.4091\n",
            "Epoch 33/300\n",
            "4/4 [==============================] - 0s 12ms/step - loss: 1.2993 - accuracy: 0.6212 - val_loss: 1.4224 - val_accuracy: 0.4091\n",
            "Epoch 34/300\n",
            "4/4 [==============================] - 0s 15ms/step - loss: 1.2880 - accuracy: 0.6212 - val_loss: 1.4143 - val_accuracy: 0.4091\n",
            "Epoch 35/300\n",
            "4/4 [==============================] - 0s 13ms/step - loss: 1.2773 - accuracy: 0.6364 - val_loss: 1.4062 - val_accuracy: 0.4091\n",
            "Epoch 36/300\n",
            "4/4 [==============================] - 0s 12ms/step - loss: 1.2666 - accuracy: 0.6364 - val_loss: 1.4006 - val_accuracy: 0.4091\n",
            "Epoch 37/300\n",
            "4/4 [==============================] - 0s 14ms/step - loss: 1.2551 - accuracy: 0.6061 - val_loss: 1.3890 - val_accuracy: 0.4091\n",
            "Epoch 38/300\n",
            "4/4 [==============================] - 0s 12ms/step - loss: 1.2426 - accuracy: 0.6212 - val_loss: 1.3831 - val_accuracy: 0.4091\n",
            "Epoch 39/300\n",
            "4/4 [==============================] - 0s 18ms/step - loss: 1.2314 - accuracy: 0.5909 - val_loss: 1.3760 - val_accuracy: 0.4091\n",
            "Epoch 40/300\n",
            "4/4 [==============================] - 0s 11ms/step - loss: 1.2193 - accuracy: 0.6212 - val_loss: 1.3682 - val_accuracy: 0.4091\n",
            "Epoch 41/300\n",
            "4/4 [==============================] - 0s 12ms/step - loss: 1.2089 - accuracy: 0.6364 - val_loss: 1.3610 - val_accuracy: 0.4091\n",
            "Epoch 42/300\n",
            "4/4 [==============================] - 0s 20ms/step - loss: 1.1977 - accuracy: 0.6212 - val_loss: 1.3554 - val_accuracy: 0.4091\n",
            "Epoch 43/300\n",
            "4/4 [==============================] - 0s 12ms/step - loss: 1.1864 - accuracy: 0.6364 - val_loss: 1.3461 - val_accuracy: 0.4091\n",
            "Epoch 44/300\n",
            "4/4 [==============================] - 0s 11ms/step - loss: 1.1765 - accuracy: 0.6364 - val_loss: 1.3410 - val_accuracy: 0.4091\n",
            "Epoch 45/300\n",
            "4/4 [==============================] - 0s 13ms/step - loss: 1.1648 - accuracy: 0.6364 - val_loss: 1.3321 - val_accuracy: 0.4091\n",
            "Epoch 46/300\n",
            "4/4 [==============================] - 0s 13ms/step - loss: 1.1534 - accuracy: 0.6212 - val_loss: 1.3238 - val_accuracy: 0.4091\n",
            "Epoch 47/300\n",
            "4/4 [==============================] - 0s 12ms/step - loss: 1.1418 - accuracy: 0.6364 - val_loss: 1.3142 - val_accuracy: 0.4091\n",
            "Epoch 48/300\n",
            "4/4 [==============================] - 0s 19ms/step - loss: 1.1299 - accuracy: 0.6364 - val_loss: 1.3009 - val_accuracy: 0.4545\n",
            "Epoch 49/300\n",
            "4/4 [==============================] - 0s 12ms/step - loss: 1.1182 - accuracy: 0.6364 - val_loss: 1.2932 - val_accuracy: 0.4545\n",
            "Epoch 50/300\n",
            "4/4 [==============================] - 0s 14ms/step - loss: 1.1074 - accuracy: 0.6364 - val_loss: 1.2862 - val_accuracy: 0.4545\n",
            "Epoch 51/300\n",
            "4/4 [==============================] - 0s 12ms/step - loss: 1.0965 - accuracy: 0.6515 - val_loss: 1.2757 - val_accuracy: 0.4545\n",
            "Epoch 52/300\n",
            "4/4 [==============================] - 0s 12ms/step - loss: 1.0854 - accuracy: 0.6364 - val_loss: 1.2675 - val_accuracy: 0.4545\n",
            "Epoch 53/300\n",
            "4/4 [==============================] - 0s 15ms/step - loss: 1.0743 - accuracy: 0.6515 - val_loss: 1.2646 - val_accuracy: 0.4545\n",
            "Epoch 54/300\n",
            "4/4 [==============================] - 0s 12ms/step - loss: 1.0631 - accuracy: 0.6515 - val_loss: 1.2595 - val_accuracy: 0.4545\n",
            "Epoch 55/300\n",
            "4/4 [==============================] - 0s 12ms/step - loss: 1.0529 - accuracy: 0.6364 - val_loss: 1.2521 - val_accuracy: 0.4545\n",
            "Epoch 56/300\n",
            "4/4 [==============================] - 0s 12ms/step - loss: 1.0413 - accuracy: 0.6364 - val_loss: 1.2442 - val_accuracy: 0.4545\n",
            "Epoch 57/300\n",
            "4/4 [==============================] - 0s 15ms/step - loss: 1.0313 - accuracy: 0.6515 - val_loss: 1.2350 - val_accuracy: 0.4545\n",
            "Epoch 58/300\n",
            "4/4 [==============================] - 0s 13ms/step - loss: 1.0206 - accuracy: 0.6515 - val_loss: 1.2282 - val_accuracy: 0.4545\n",
            "Epoch 59/300\n",
            "4/4 [==============================] - 0s 19ms/step - loss: 1.0090 - accuracy: 0.6515 - val_loss: 1.2254 - val_accuracy: 0.4545\n",
            "Epoch 60/300\n",
            "4/4 [==============================] - 0s 13ms/step - loss: 0.9994 - accuracy: 0.6364 - val_loss: 1.2164 - val_accuracy: 0.4545\n",
            "Epoch 61/300\n",
            "4/4 [==============================] - 0s 15ms/step - loss: 0.9905 - accuracy: 0.6364 - val_loss: 1.2110 - val_accuracy: 0.4545\n",
            "Epoch 62/300\n",
            "4/4 [==============================] - 0s 13ms/step - loss: 0.9800 - accuracy: 0.6515 - val_loss: 1.2061 - val_accuracy: 0.4545\n",
            "Epoch 63/300\n",
            "4/4 [==============================] - 0s 12ms/step - loss: 0.9698 - accuracy: 0.6667 - val_loss: 1.2072 - val_accuracy: 0.4545\n",
            "Epoch 64/300\n",
            "4/4 [==============================] - 0s 13ms/step - loss: 0.9607 - accuracy: 0.6515 - val_loss: 1.2003 - val_accuracy: 0.4545\n",
            "Epoch 65/300\n",
            "4/4 [==============================] - 0s 13ms/step - loss: 0.9523 - accuracy: 0.6515 - val_loss: 1.1913 - val_accuracy: 0.4545\n",
            "Epoch 66/300\n",
            "4/4 [==============================] - 0s 12ms/step - loss: 0.9412 - accuracy: 0.6515 - val_loss: 1.1886 - val_accuracy: 0.4545\n",
            "Epoch 67/300\n",
            "4/4 [==============================] - 0s 15ms/step - loss: 0.9325 - accuracy: 0.6515 - val_loss: 1.1814 - val_accuracy: 0.4545\n",
            "Epoch 68/300\n",
            "4/4 [==============================] - 0s 14ms/step - loss: 0.9251 - accuracy: 0.6364 - val_loss: 1.1686 - val_accuracy: 0.4545\n",
            "Epoch 69/300\n",
            "4/4 [==============================] - 0s 13ms/step - loss: 0.9150 - accuracy: 0.6364 - val_loss: 1.1590 - val_accuracy: 0.4545\n",
            "Epoch 70/300\n",
            "4/4 [==============================] - 0s 15ms/step - loss: 0.9079 - accuracy: 0.6667 - val_loss: 1.1490 - val_accuracy: 0.4545\n",
            "Epoch 71/300\n",
            "4/4 [==============================] - 0s 13ms/step - loss: 0.8984 - accuracy: 0.6818 - val_loss: 1.1347 - val_accuracy: 0.4545\n",
            "Epoch 72/300\n",
            "4/4 [==============================] - 0s 15ms/step - loss: 0.8912 - accuracy: 0.6667 - val_loss: 1.1334 - val_accuracy: 0.4545\n",
            "Epoch 73/300\n",
            "4/4 [==============================] - 0s 13ms/step - loss: 0.8812 - accuracy: 0.6818 - val_loss: 1.1250 - val_accuracy: 0.4545\n",
            "Epoch 74/300\n",
            "4/4 [==============================] - 0s 14ms/step - loss: 0.8734 - accuracy: 0.6818 - val_loss: 1.1237 - val_accuracy: 0.4545\n",
            "Epoch 75/300\n",
            "4/4 [==============================] - 0s 14ms/step - loss: 0.8661 - accuracy: 0.6970 - val_loss: 1.1190 - val_accuracy: 0.4545\n",
            "Epoch 76/300\n",
            "4/4 [==============================] - 0s 13ms/step - loss: 0.8577 - accuracy: 0.6970 - val_loss: 1.1170 - val_accuracy: 0.4545\n",
            "Epoch 77/300\n",
            "4/4 [==============================] - 0s 13ms/step - loss: 0.8488 - accuracy: 0.6970 - val_loss: 1.1049 - val_accuracy: 0.4545\n",
            "Epoch 78/300\n",
            "4/4 [==============================] - 0s 14ms/step - loss: 0.8413 - accuracy: 0.6970 - val_loss: 1.0998 - val_accuracy: 0.4545\n",
            "Epoch 79/300\n",
            "4/4 [==============================] - 0s 13ms/step - loss: 0.8347 - accuracy: 0.6970 - val_loss: 1.1020 - val_accuracy: 0.4545\n",
            "Epoch 80/300\n",
            "4/4 [==============================] - 0s 18ms/step - loss: 0.8267 - accuracy: 0.6970 - val_loss: 1.0926 - val_accuracy: 0.4545\n",
            "Epoch 81/300\n",
            "4/4 [==============================] - 0s 12ms/step - loss: 0.8195 - accuracy: 0.7121 - val_loss: 1.0785 - val_accuracy: 0.5000\n",
            "Epoch 82/300\n",
            "4/4 [==============================] - 0s 12ms/step - loss: 0.8113 - accuracy: 0.7121 - val_loss: 1.0776 - val_accuracy: 0.4545\n",
            "Epoch 83/300\n",
            "4/4 [==============================] - 0s 14ms/step - loss: 0.8049 - accuracy: 0.7273 - val_loss: 1.0655 - val_accuracy: 0.5000\n",
            "Epoch 84/300\n",
            "4/4 [==============================] - 0s 14ms/step - loss: 0.7974 - accuracy: 0.7273 - val_loss: 1.0488 - val_accuracy: 0.5000\n",
            "Epoch 85/300\n",
            "4/4 [==============================] - 0s 12ms/step - loss: 0.7921 - accuracy: 0.7273 - val_loss: 1.0450 - val_accuracy: 0.5455\n",
            "Epoch 86/300\n",
            "4/4 [==============================] - 0s 19ms/step - loss: 0.7870 - accuracy: 0.7424 - val_loss: 1.0397 - val_accuracy: 0.5000\n",
            "Epoch 87/300\n",
            "4/4 [==============================] - 0s 14ms/step - loss: 0.7806 - accuracy: 0.7273 - val_loss: 1.0392 - val_accuracy: 0.5455\n",
            "Epoch 88/300\n",
            "4/4 [==============================] - 0s 14ms/step - loss: 0.7718 - accuracy: 0.7273 - val_loss: 1.0401 - val_accuracy: 0.5000\n",
            "Epoch 89/300\n",
            "4/4 [==============================] - 0s 13ms/step - loss: 0.7669 - accuracy: 0.7576 - val_loss: 1.0342 - val_accuracy: 0.5455\n",
            "Epoch 90/300\n",
            "4/4 [==============================] - 0s 14ms/step - loss: 0.7579 - accuracy: 0.7576 - val_loss: 1.0316 - val_accuracy: 0.5000\n",
            "Epoch 91/300\n",
            "4/4 [==============================] - 0s 14ms/step - loss: 0.7506 - accuracy: 0.7576 - val_loss: 1.0357 - val_accuracy: 0.5455\n",
            "Epoch 92/300\n",
            "4/4 [==============================] - 0s 12ms/step - loss: 0.7447 - accuracy: 0.7576 - val_loss: 1.0359 - val_accuracy: 0.5455\n",
            "Epoch 93/300\n",
            "4/4 [==============================] - 0s 11ms/step - loss: 0.7381 - accuracy: 0.7576 - val_loss: 1.0282 - val_accuracy: 0.4545\n",
            "Epoch 94/300\n",
            "4/4 [==============================] - 0s 13ms/step - loss: 0.7336 - accuracy: 0.7727 - val_loss: 1.0259 - val_accuracy: 0.4545\n",
            "Epoch 95/300\n",
            "4/4 [==============================] - 0s 12ms/step - loss: 0.7277 - accuracy: 0.7576 - val_loss: 1.0261 - val_accuracy: 0.5455\n",
            "Epoch 96/300\n",
            "4/4 [==============================] - 0s 12ms/step - loss: 0.7200 - accuracy: 0.7727 - val_loss: 1.0227 - val_accuracy: 0.5000\n",
            "Epoch 97/300\n",
            "4/4 [==============================] - 0s 12ms/step - loss: 0.7156 - accuracy: 0.7727 - val_loss: 1.0342 - val_accuracy: 0.5000\n",
            "Epoch 98/300\n",
            "4/4 [==============================] - 0s 11ms/step - loss: 0.7110 - accuracy: 0.7727 - val_loss: 1.0417 - val_accuracy: 0.5000\n",
            "Epoch 99/300\n",
            "4/4 [==============================] - 0s 15ms/step - loss: 0.7037 - accuracy: 0.7727 - val_loss: 1.0287 - val_accuracy: 0.4545\n",
            "Epoch 100/300\n",
            "4/4 [==============================] - 0s 18ms/step - loss: 0.6988 - accuracy: 0.7727 - val_loss: 1.0088 - val_accuracy: 0.5000\n",
            "Epoch 101/300\n",
            "4/4 [==============================] - 0s 13ms/step - loss: 0.6934 - accuracy: 0.7727 - val_loss: 1.0221 - val_accuracy: 0.5000\n",
            "Epoch 102/300\n",
            "4/4 [==============================] - 0s 12ms/step - loss: 0.6895 - accuracy: 0.7727 - val_loss: 0.9933 - val_accuracy: 0.5000\n",
            "Epoch 103/300\n",
            "4/4 [==============================] - 0s 18ms/step - loss: 0.6832 - accuracy: 0.7576 - val_loss: 0.9929 - val_accuracy: 0.5000\n",
            "Epoch 104/300\n",
            "4/4 [==============================] - 0s 21ms/step - loss: 0.6775 - accuracy: 0.7576 - val_loss: 0.9882 - val_accuracy: 0.5000\n",
            "Epoch 105/300\n",
            "4/4 [==============================] - 0s 23ms/step - loss: 0.6696 - accuracy: 0.7879 - val_loss: 0.9890 - val_accuracy: 0.5000\n",
            "Epoch 106/300\n",
            "4/4 [==============================] - 0s 25ms/step - loss: 0.6675 - accuracy: 0.7727 - val_loss: 0.9846 - val_accuracy: 0.5455\n",
            "Epoch 107/300\n",
            "4/4 [==============================] - 0s 26ms/step - loss: 0.6599 - accuracy: 0.7879 - val_loss: 0.9901 - val_accuracy: 0.5455\n",
            "Epoch 108/300\n",
            "4/4 [==============================] - 0s 24ms/step - loss: 0.6537 - accuracy: 0.8030 - val_loss: 0.9893 - val_accuracy: 0.5455\n",
            "Epoch 109/300\n",
            "4/4 [==============================] - 0s 18ms/step - loss: 0.6506 - accuracy: 0.7879 - val_loss: 0.9698 - val_accuracy: 0.5455\n",
            "Epoch 110/300\n",
            "4/4 [==============================] - 0s 18ms/step - loss: 0.6430 - accuracy: 0.8030 - val_loss: 0.9652 - val_accuracy: 0.5455\n",
            "Epoch 111/300\n",
            "4/4 [==============================] - 0s 23ms/step - loss: 0.6387 - accuracy: 0.8030 - val_loss: 0.9690 - val_accuracy: 0.5455\n",
            "Epoch 112/300\n",
            "4/4 [==============================] - 0s 17ms/step - loss: 0.6331 - accuracy: 0.8182 - val_loss: 0.9597 - val_accuracy: 0.5455\n",
            "Epoch 113/300\n",
            "4/4 [==============================] - 0s 22ms/step - loss: 0.6272 - accuracy: 0.8182 - val_loss: 0.9726 - val_accuracy: 0.5455\n",
            "Epoch 114/300\n",
            "4/4 [==============================] - 0s 19ms/step - loss: 0.6240 - accuracy: 0.8182 - val_loss: 0.9694 - val_accuracy: 0.5455\n",
            "Epoch 115/300\n",
            "4/4 [==============================] - 0s 19ms/step - loss: 0.6228 - accuracy: 0.8030 - val_loss: 0.9759 - val_accuracy: 0.5455\n",
            "Epoch 116/300\n",
            "4/4 [==============================] - 0s 18ms/step - loss: 0.6152 - accuracy: 0.8182 - val_loss: 0.9881 - val_accuracy: 0.5455\n",
            "Epoch 117/300\n",
            "4/4 [==============================] - 0s 30ms/step - loss: 0.6129 - accuracy: 0.8030 - val_loss: 0.9824 - val_accuracy: 0.5455\n",
            "Epoch 118/300\n",
            "4/4 [==============================] - 0s 17ms/step - loss: 0.6043 - accuracy: 0.8182 - val_loss: 0.9752 - val_accuracy: 0.5455\n",
            "Epoch 119/300\n",
            "4/4 [==============================] - 0s 22ms/step - loss: 0.6008 - accuracy: 0.8182 - val_loss: 0.9569 - val_accuracy: 0.5455\n",
            "Epoch 120/300\n",
            "4/4 [==============================] - 0s 20ms/step - loss: 0.5943 - accuracy: 0.8182 - val_loss: 0.9427 - val_accuracy: 0.5000\n",
            "Epoch 121/300\n",
            "4/4 [==============================] - 0s 25ms/step - loss: 0.5910 - accuracy: 0.8182 - val_loss: 0.9446 - val_accuracy: 0.5000\n",
            "Epoch 122/300\n",
            "4/4 [==============================] - 0s 24ms/step - loss: 0.5865 - accuracy: 0.8182 - val_loss: 0.9394 - val_accuracy: 0.5455\n",
            "Epoch 123/300\n",
            "4/4 [==============================] - 0s 17ms/step - loss: 0.5851 - accuracy: 0.8485 - val_loss: 0.9663 - val_accuracy: 0.5000\n",
            "Epoch 124/300\n",
            "4/4 [==============================] - 0s 28ms/step - loss: 0.5794 - accuracy: 0.8182 - val_loss: 0.9693 - val_accuracy: 0.5455\n",
            "Epoch 125/300\n",
            "4/4 [==============================] - 0s 22ms/step - loss: 0.5757 - accuracy: 0.8182 - val_loss: 0.9678 - val_accuracy: 0.5000\n",
            "Epoch 126/300\n",
            "4/4 [==============================] - 0s 18ms/step - loss: 0.5736 - accuracy: 0.8182 - val_loss: 0.9720 - val_accuracy: 0.5909\n",
            "Epoch 127/300\n",
            "4/4 [==============================] - 0s 21ms/step - loss: 0.5649 - accuracy: 0.8182 - val_loss: 0.9691 - val_accuracy: 0.5455\n",
            "Epoch 128/300\n",
            "4/4 [==============================] - 0s 18ms/step - loss: 0.5586 - accuracy: 0.8333 - val_loss: 0.9503 - val_accuracy: 0.5455\n",
            "Epoch 129/300\n",
            "4/4 [==============================] - 0s 22ms/step - loss: 0.5527 - accuracy: 0.8485 - val_loss: 0.9584 - val_accuracy: 0.5455\n",
            "Epoch 130/300\n",
            "4/4 [==============================] - 0s 18ms/step - loss: 0.5501 - accuracy: 0.8485 - val_loss: 0.9516 - val_accuracy: 0.5000\n",
            "Epoch 131/300\n",
            "4/4 [==============================] - 0s 16ms/step - loss: 0.5474 - accuracy: 0.8485 - val_loss: 0.9682 - val_accuracy: 0.5455\n",
            "Epoch 132/300\n",
            "4/4 [==============================] - 0s 16ms/step - loss: 0.5440 - accuracy: 0.8485 - val_loss: 0.9553 - val_accuracy: 0.5455\n",
            "Epoch 133/300\n",
            "4/4 [==============================] - 0s 16ms/step - loss: 0.5408 - accuracy: 0.8788 - val_loss: 0.9533 - val_accuracy: 0.5455\n",
            "Epoch 134/300\n",
            "4/4 [==============================] - 0s 24ms/step - loss: 0.5353 - accuracy: 0.8485 - val_loss: 0.9508 - val_accuracy: 0.5455\n",
            "Epoch 135/300\n",
            "4/4 [==============================] - 0s 18ms/step - loss: 0.5300 - accuracy: 0.8788 - val_loss: 0.9119 - val_accuracy: 0.5909\n",
            "Epoch 136/300\n",
            "4/4 [==============================] - 0s 23ms/step - loss: 0.5296 - accuracy: 0.8182 - val_loss: 0.8962 - val_accuracy: 0.6364\n",
            "Epoch 137/300\n",
            "4/4 [==============================] - 0s 17ms/step - loss: 0.5292 - accuracy: 0.8182 - val_loss: 0.8911 - val_accuracy: 0.6364\n",
            "Epoch 138/300\n",
            "4/4 [==============================] - 0s 23ms/step - loss: 0.5203 - accuracy: 0.8333 - val_loss: 0.9177 - val_accuracy: 0.6364\n",
            "Epoch 139/300\n",
            "4/4 [==============================] - 0s 23ms/step - loss: 0.5185 - accuracy: 0.8485 - val_loss: 0.9131 - val_accuracy: 0.6364\n",
            "Epoch 140/300\n",
            "4/4 [==============================] - 0s 23ms/step - loss: 0.5104 - accuracy: 0.8485 - val_loss: 0.9116 - val_accuracy: 0.5909\n",
            "Epoch 141/300\n",
            "4/4 [==============================] - 0s 23ms/step - loss: 0.5083 - accuracy: 0.8182 - val_loss: 0.9169 - val_accuracy: 0.5909\n",
            "Epoch 142/300\n",
            "4/4 [==============================] - 0s 24ms/step - loss: 0.4998 - accuracy: 0.8333 - val_loss: 0.9280 - val_accuracy: 0.5909\n",
            "Epoch 143/300\n",
            "4/4 [==============================] - 0s 25ms/step - loss: 0.5010 - accuracy: 0.8182 - val_loss: 0.9323 - val_accuracy: 0.5455\n",
            "Epoch 144/300\n",
            "4/4 [==============================] - 0s 18ms/step - loss: 0.4943 - accuracy: 0.8485 - val_loss: 0.9358 - val_accuracy: 0.5455\n",
            "Epoch 145/300\n",
            "4/4 [==============================] - 0s 21ms/step - loss: 0.4913 - accuracy: 0.8485 - val_loss: 0.9308 - val_accuracy: 0.5455\n",
            "Epoch 146/300\n",
            "4/4 [==============================] - 0s 24ms/step - loss: 0.4854 - accuracy: 0.8636 - val_loss: 0.9106 - val_accuracy: 0.5909\n",
            "Epoch 147/300\n",
            "4/4 [==============================] - 0s 17ms/step - loss: 0.4827 - accuracy: 0.8333 - val_loss: 0.9188 - val_accuracy: 0.5455\n",
            "Epoch 148/300\n",
            "4/4 [==============================] - 0s 24ms/step - loss: 0.4821 - accuracy: 0.8182 - val_loss: 0.9178 - val_accuracy: 0.5909\n",
            "Epoch 149/300\n",
            "4/4 [==============================] - 0s 18ms/step - loss: 0.4783 - accuracy: 0.8182 - val_loss: 0.9270 - val_accuracy: 0.5455\n",
            "Epoch 150/300\n",
            "4/4 [==============================] - 0s 19ms/step - loss: 0.4727 - accuracy: 0.8333 - val_loss: 0.9506 - val_accuracy: 0.5000\n",
            "Epoch 151/300\n",
            "4/4 [==============================] - 0s 20ms/step - loss: 0.4704 - accuracy: 0.8636 - val_loss: 0.9306 - val_accuracy: 0.5455\n",
            "Epoch 152/300\n",
            "4/4 [==============================] - 0s 23ms/step - loss: 0.4660 - accuracy: 0.8485 - val_loss: 0.9301 - val_accuracy: 0.5909\n",
            "Epoch 153/300\n",
            "4/4 [==============================] - 0s 23ms/step - loss: 0.4654 - accuracy: 0.8333 - val_loss: 0.9321 - val_accuracy: 0.5909\n",
            "Epoch 154/300\n",
            "4/4 [==============================] - 0s 24ms/step - loss: 0.4586 - accuracy: 0.8485 - val_loss: 0.9566 - val_accuracy: 0.5455\n",
            "Epoch 155/300\n",
            "4/4 [==============================] - 0s 28ms/step - loss: 0.4583 - accuracy: 0.8636 - val_loss: 0.9483 - val_accuracy: 0.5455\n",
            "Epoch 156/300\n",
            "4/4 [==============================] - 0s 19ms/step - loss: 0.4539 - accuracy: 0.8636 - val_loss: 0.9331 - val_accuracy: 0.5909\n",
            "Epoch 157/300\n",
            "4/4 [==============================] - 0s 25ms/step - loss: 0.4498 - accuracy: 0.8636 - val_loss: 0.9611 - val_accuracy: 0.5455\n",
            "Epoch 158/300\n",
            "4/4 [==============================] - 0s 25ms/step - loss: 0.4496 - accuracy: 0.8485 - val_loss: 0.9448 - val_accuracy: 0.5455\n",
            "Epoch 159/300\n",
            "4/4 [==============================] - 0s 24ms/step - loss: 0.4473 - accuracy: 0.8485 - val_loss: 0.9391 - val_accuracy: 0.5909\n",
            "Epoch 160/300\n",
            "4/4 [==============================] - 0s 20ms/step - loss: 0.4403 - accuracy: 0.8636 - val_loss: 0.9296 - val_accuracy: 0.6364\n",
            "Epoch 161/300\n",
            "4/4 [==============================] - 0s 23ms/step - loss: 0.4385 - accuracy: 0.8788 - val_loss: 0.9409 - val_accuracy: 0.6364\n",
            "Epoch 162/300\n",
            "4/4 [==============================] - 0s 20ms/step - loss: 0.4315 - accuracy: 0.8939 - val_loss: 0.9326 - val_accuracy: 0.5455\n",
            "Epoch 163/300\n",
            "4/4 [==============================] - 0s 24ms/step - loss: 0.4360 - accuracy: 0.8485 - val_loss: 0.9398 - val_accuracy: 0.5455\n",
            "Epoch 164/300\n",
            "4/4 [==============================] - 0s 18ms/step - loss: 0.4301 - accuracy: 0.8636 - val_loss: 0.9495 - val_accuracy: 0.5909\n",
            "Epoch 165/300\n",
            "4/4 [==============================] - 0s 20ms/step - loss: 0.4253 - accuracy: 0.8788 - val_loss: 0.9372 - val_accuracy: 0.5455\n",
            "Epoch 166/300\n",
            "4/4 [==============================] - 0s 19ms/step - loss: 0.4181 - accuracy: 0.8788 - val_loss: 0.9311 - val_accuracy: 0.6364\n",
            "Epoch 167/300\n",
            "4/4 [==============================] - 0s 18ms/step - loss: 0.4183 - accuracy: 0.8788 - val_loss: 0.9392 - val_accuracy: 0.5909\n",
            "Epoch 168/300\n",
            "4/4 [==============================] - 0s 22ms/step - loss: 0.4125 - accuracy: 0.8788 - val_loss: 0.9471 - val_accuracy: 0.5455\n",
            "Epoch 169/300\n",
            "4/4 [==============================] - 0s 18ms/step - loss: 0.4142 - accuracy: 0.8485 - val_loss: 0.9451 - val_accuracy: 0.6364\n",
            "Epoch 170/300\n",
            "4/4 [==============================] - 0s 27ms/step - loss: 0.4086 - accuracy: 0.8939 - val_loss: 0.9445 - val_accuracy: 0.6364\n",
            "Epoch 171/300\n",
            "4/4 [==============================] - 0s 18ms/step - loss: 0.4046 - accuracy: 0.9091 - val_loss: 0.9370 - val_accuracy: 0.6364\n",
            "Epoch 172/300\n",
            "4/4 [==============================] - 0s 20ms/step - loss: 0.4026 - accuracy: 0.8788 - val_loss: 0.9273 - val_accuracy: 0.6364\n",
            "Epoch 173/300\n",
            "4/4 [==============================] - 0s 26ms/step - loss: 0.4035 - accuracy: 0.8636 - val_loss: 0.9479 - val_accuracy: 0.6364\n",
            "Epoch 174/300\n",
            "4/4 [==============================] - 0s 16ms/step - loss: 0.3940 - accuracy: 0.9091 - val_loss: 0.9505 - val_accuracy: 0.5909\n",
            "Epoch 175/300\n",
            "4/4 [==============================] - 0s 21ms/step - loss: 0.3917 - accuracy: 0.9091 - val_loss: 0.9674 - val_accuracy: 0.5909\n",
            "Epoch 176/300\n",
            "4/4 [==============================] - 0s 18ms/step - loss: 0.3907 - accuracy: 0.8939 - val_loss: 0.9802 - val_accuracy: 0.6364\n",
            "Epoch 177/300\n",
            "4/4 [==============================] - 0s 23ms/step - loss: 0.3857 - accuracy: 0.9091 - val_loss: 0.9511 - val_accuracy: 0.6364\n",
            "Epoch 178/300\n",
            "4/4 [==============================] - 0s 16ms/step - loss: 0.3847 - accuracy: 0.8939 - val_loss: 0.9389 - val_accuracy: 0.5909\n",
            "Epoch 179/300\n",
            "4/4 [==============================] - 0s 13ms/step - loss: 0.3815 - accuracy: 0.8939 - val_loss: 0.9467 - val_accuracy: 0.6364\n",
            "Epoch 180/300\n",
            "4/4 [==============================] - 0s 13ms/step - loss: 0.3784 - accuracy: 0.8939 - val_loss: 0.9667 - val_accuracy: 0.5909\n",
            "Epoch 181/300\n",
            "4/4 [==============================] - 0s 12ms/step - loss: 0.3748 - accuracy: 0.8939 - val_loss: 0.9677 - val_accuracy: 0.5909\n",
            "Epoch 182/300\n",
            "4/4 [==============================] - 0s 14ms/step - loss: 0.3754 - accuracy: 0.8939 - val_loss: 0.9398 - val_accuracy: 0.6364\n",
            "Epoch 183/300\n",
            "4/4 [==============================] - 0s 18ms/step - loss: 0.3727 - accuracy: 0.8788 - val_loss: 0.9448 - val_accuracy: 0.6364\n",
            "Epoch 184/300\n",
            "4/4 [==============================] - 0s 17ms/step - loss: 0.3679 - accuracy: 0.8788 - val_loss: 0.9543 - val_accuracy: 0.5909\n",
            "Epoch 185/300\n",
            "4/4 [==============================] - 0s 14ms/step - loss: 0.3635 - accuracy: 0.8939 - val_loss: 0.9614 - val_accuracy: 0.5909\n",
            "Epoch 186/300\n",
            "4/4 [==============================] - 0s 12ms/step - loss: 0.3608 - accuracy: 0.9091 - val_loss: 0.9435 - val_accuracy: 0.5909\n",
            "Epoch 187/300\n",
            "4/4 [==============================] - 0s 13ms/step - loss: 0.3600 - accuracy: 0.8939 - val_loss: 0.9411 - val_accuracy: 0.5909\n",
            "Epoch 188/300\n",
            "4/4 [==============================] - 0s 13ms/step - loss: 0.3583 - accuracy: 0.8788 - val_loss: 0.9540 - val_accuracy: 0.6364\n",
            "Epoch 189/300\n",
            "4/4 [==============================] - 0s 14ms/step - loss: 0.3508 - accuracy: 0.9091 - val_loss: 0.9300 - val_accuracy: 0.6364\n",
            "Epoch 190/300\n",
            "4/4 [==============================] - 0s 13ms/step - loss: 0.3541 - accuracy: 0.8788 - val_loss: 0.9592 - val_accuracy: 0.6364\n",
            "Epoch 191/300\n",
            "4/4 [==============================] - 0s 13ms/step - loss: 0.3490 - accuracy: 0.9091 - val_loss: 0.9642 - val_accuracy: 0.6364\n",
            "Epoch 192/300\n",
            "4/4 [==============================] - 0s 13ms/step - loss: 0.3469 - accuracy: 0.8939 - val_loss: 0.9982 - val_accuracy: 0.6364\n",
            "Epoch 193/300\n",
            "4/4 [==============================] - 0s 13ms/step - loss: 0.3451 - accuracy: 0.9242 - val_loss: 0.9936 - val_accuracy: 0.6364\n",
            "Epoch 194/300\n",
            "4/4 [==============================] - 0s 14ms/step - loss: 0.3443 - accuracy: 0.9242 - val_loss: 1.0240 - val_accuracy: 0.6364\n",
            "Epoch 195/300\n",
            "4/4 [==============================] - 0s 13ms/step - loss: 0.3427 - accuracy: 0.9091 - val_loss: 1.0259 - val_accuracy: 0.6364\n",
            "Epoch 196/300\n",
            "4/4 [==============================] - 0s 16ms/step - loss: 0.3389 - accuracy: 0.9242 - val_loss: 0.9960 - val_accuracy: 0.5909\n",
            "Epoch 197/300\n",
            "4/4 [==============================] - 0s 16ms/step - loss: 0.3363 - accuracy: 0.9242 - val_loss: 1.0014 - val_accuracy: 0.5909\n",
            "Epoch 198/300\n",
            "4/4 [==============================] - 0s 13ms/step - loss: 0.3308 - accuracy: 0.9242 - val_loss: 1.0077 - val_accuracy: 0.5909\n",
            "Epoch 199/300\n",
            "4/4 [==============================] - 0s 13ms/step - loss: 0.3296 - accuracy: 0.9242 - val_loss: 0.9826 - val_accuracy: 0.6364\n",
            "Epoch 200/300\n",
            "4/4 [==============================] - 0s 16ms/step - loss: 0.3275 - accuracy: 0.9242 - val_loss: 1.0211 - val_accuracy: 0.6364\n",
            "Epoch 201/300\n",
            "4/4 [==============================] - 0s 12ms/step - loss: 0.3240 - accuracy: 0.9242 - val_loss: 1.0138 - val_accuracy: 0.6364\n",
            "Epoch 202/300\n",
            "4/4 [==============================] - 0s 18ms/step - loss: 0.3259 - accuracy: 0.9242 - val_loss: 0.9943 - val_accuracy: 0.6364\n",
            "Epoch 203/300\n",
            "4/4 [==============================] - 0s 13ms/step - loss: 0.3171 - accuracy: 0.9242 - val_loss: 0.9889 - val_accuracy: 0.6364\n",
            "Epoch 204/300\n",
            "4/4 [==============================] - 0s 13ms/step - loss: 0.3218 - accuracy: 0.9091 - val_loss: 0.9373 - val_accuracy: 0.6364\n",
            "Epoch 205/300\n",
            "4/4 [==============================] - 0s 14ms/step - loss: 0.3210 - accuracy: 0.8788 - val_loss: 0.9524 - val_accuracy: 0.5909\n",
            "Epoch 206/300\n",
            "4/4 [==============================] - 0s 13ms/step - loss: 0.3145 - accuracy: 0.8788 - val_loss: 0.9787 - val_accuracy: 0.6364\n",
            "Epoch 207/300\n",
            "4/4 [==============================] - 0s 14ms/step - loss: 0.3131 - accuracy: 0.9242 - val_loss: 0.9502 - val_accuracy: 0.6364\n",
            "Epoch 208/300\n",
            "4/4 [==============================] - 0s 13ms/step - loss: 0.3218 - accuracy: 0.8788 - val_loss: 0.9685 - val_accuracy: 0.6818\n",
            "Epoch 209/300\n",
            "4/4 [==============================] - 0s 14ms/step - loss: 0.3127 - accuracy: 0.8788 - val_loss: 0.9945 - val_accuracy: 0.5909\n",
            "Epoch 210/300\n",
            "4/4 [==============================] - 0s 16ms/step - loss: 0.3032 - accuracy: 0.9091 - val_loss: 1.0374 - val_accuracy: 0.5909\n",
            "Epoch 211/300\n",
            "4/4 [==============================] - 0s 17ms/step - loss: 0.3046 - accuracy: 0.9242 - val_loss: 1.0109 - val_accuracy: 0.6364\n",
            "Epoch 212/300\n",
            "4/4 [==============================] - 0s 15ms/step - loss: 0.3015 - accuracy: 0.8939 - val_loss: 1.0194 - val_accuracy: 0.6364\n",
            "Epoch 213/300\n",
            "4/4 [==============================] - 0s 13ms/step - loss: 0.3036 - accuracy: 0.9091 - val_loss: 1.0114 - val_accuracy: 0.5455\n",
            "Epoch 214/300\n",
            "4/4 [==============================] - 0s 16ms/step - loss: 0.2965 - accuracy: 0.9242 - val_loss: 0.9399 - val_accuracy: 0.6818\n",
            "Epoch 215/300\n",
            "4/4 [==============================] - 0s 13ms/step - loss: 0.2972 - accuracy: 0.8788 - val_loss: 0.9774 - val_accuracy: 0.6364\n",
            "Epoch 216/300\n",
            "4/4 [==============================] - 0s 14ms/step - loss: 0.2904 - accuracy: 0.9091 - val_loss: 1.0016 - val_accuracy: 0.6364\n",
            "Epoch 217/300\n",
            "4/4 [==============================] - 0s 20ms/step - loss: 0.2871 - accuracy: 0.9091 - val_loss: 1.0106 - val_accuracy: 0.6364\n",
            "Epoch 218/300\n",
            "4/4 [==============================] - 0s 14ms/step - loss: 0.2879 - accuracy: 0.9242 - val_loss: 1.0091 - val_accuracy: 0.6364\n",
            "Epoch 219/300\n",
            "4/4 [==============================] - 0s 15ms/step - loss: 0.2839 - accuracy: 0.9091 - val_loss: 1.0163 - val_accuracy: 0.6364\n",
            "Epoch 220/300\n",
            "4/4 [==============================] - 0s 16ms/step - loss: 0.2801 - accuracy: 0.9242 - val_loss: 1.0441 - val_accuracy: 0.6364\n",
            "Epoch 221/300\n",
            "4/4 [==============================] - 0s 13ms/step - loss: 0.2792 - accuracy: 0.9242 - val_loss: 1.0326 - val_accuracy: 0.6364\n",
            "Epoch 222/300\n",
            "4/4 [==============================] - 0s 13ms/step - loss: 0.2773 - accuracy: 0.9091 - val_loss: 1.0590 - val_accuracy: 0.5909\n",
            "Epoch 223/300\n",
            "4/4 [==============================] - 0s 17ms/step - loss: 0.2781 - accuracy: 0.9394 - val_loss: 1.0803 - val_accuracy: 0.5909\n",
            "Epoch 224/300\n",
            "4/4 [==============================] - 0s 13ms/step - loss: 0.2785 - accuracy: 0.9242 - val_loss: 1.0557 - val_accuracy: 0.5909\n",
            "Epoch 225/300\n",
            "4/4 [==============================] - 0s 13ms/step - loss: 0.2722 - accuracy: 0.9242 - val_loss: 1.0460 - val_accuracy: 0.6364\n",
            "Epoch 226/300\n",
            "4/4 [==============================] - 0s 13ms/step - loss: 0.2682 - accuracy: 0.9242 - val_loss: 1.0401 - val_accuracy: 0.6364\n",
            "Epoch 227/300\n",
            "4/4 [==============================] - 0s 12ms/step - loss: 0.2694 - accuracy: 0.9242 - val_loss: 1.0549 - val_accuracy: 0.5909\n",
            "Epoch 228/300\n",
            "4/4 [==============================] - 0s 18ms/step - loss: 0.2650 - accuracy: 0.9242 - val_loss: 0.9889 - val_accuracy: 0.6364\n",
            "Epoch 229/300\n",
            "4/4 [==============================] - 0s 14ms/step - loss: 0.2723 - accuracy: 0.8939 - val_loss: 0.9720 - val_accuracy: 0.6364\n",
            "Epoch 230/300\n",
            "4/4 [==============================] - 0s 13ms/step - loss: 0.2721 - accuracy: 0.8939 - val_loss: 1.0146 - val_accuracy: 0.6364\n",
            "Epoch 231/300\n",
            "4/4 [==============================] - 0s 14ms/step - loss: 0.2636 - accuracy: 0.9091 - val_loss: 1.0230 - val_accuracy: 0.5909\n",
            "Epoch 232/300\n",
            "4/4 [==============================] - 0s 13ms/step - loss: 0.2634 - accuracy: 0.9394 - val_loss: 0.9698 - val_accuracy: 0.6818\n",
            "Epoch 233/300\n",
            "4/4 [==============================] - 0s 12ms/step - loss: 0.2656 - accuracy: 0.9242 - val_loss: 1.0116 - val_accuracy: 0.5909\n",
            "Epoch 234/300\n",
            "4/4 [==============================] - 0s 15ms/step - loss: 0.2583 - accuracy: 0.9242 - val_loss: 0.9995 - val_accuracy: 0.6818\n",
            "Epoch 235/300\n",
            "4/4 [==============================] - 0s 13ms/step - loss: 0.2670 - accuracy: 0.9091 - val_loss: 1.0269 - val_accuracy: 0.6818\n",
            "Epoch 236/300\n",
            "4/4 [==============================] - 0s 14ms/step - loss: 0.2525 - accuracy: 0.9091 - val_loss: 1.0842 - val_accuracy: 0.6364\n",
            "Epoch 237/300\n",
            "4/4 [==============================] - 0s 14ms/step - loss: 0.2489 - accuracy: 0.9242 - val_loss: 1.0899 - val_accuracy: 0.6364\n",
            "Epoch 238/300\n",
            "4/4 [==============================] - 0s 21ms/step - loss: 0.2490 - accuracy: 0.9394 - val_loss: 1.0683 - val_accuracy: 0.6364\n",
            "Epoch 239/300\n",
            "4/4 [==============================] - 0s 14ms/step - loss: 0.2457 - accuracy: 0.9545 - val_loss: 1.0886 - val_accuracy: 0.6364\n",
            "Epoch 240/300\n",
            "4/4 [==============================] - 0s 18ms/step - loss: 0.2428 - accuracy: 0.9242 - val_loss: 1.0749 - val_accuracy: 0.6364\n",
            "Epoch 241/300\n",
            "4/4 [==============================] - 0s 15ms/step - loss: 0.2397 - accuracy: 0.9242 - val_loss: 1.0702 - val_accuracy: 0.6364\n",
            "Epoch 242/300\n",
            "4/4 [==============================] - 0s 13ms/step - loss: 0.2442 - accuracy: 0.9545 - val_loss: 1.0644 - val_accuracy: 0.6364\n",
            "Epoch 243/300\n",
            "4/4 [==============================] - 0s 13ms/step - loss: 0.2396 - accuracy: 0.9394 - val_loss: 1.0945 - val_accuracy: 0.5909\n",
            "Epoch 244/300\n",
            "4/4 [==============================] - 0s 14ms/step - loss: 0.2385 - accuracy: 0.9545 - val_loss: 1.0931 - val_accuracy: 0.5909\n",
            "Epoch 245/300\n",
            "4/4 [==============================] - 0s 12ms/step - loss: 0.2363 - accuracy: 0.9394 - val_loss: 1.0881 - val_accuracy: 0.6364\n",
            "Epoch 246/300\n",
            "4/4 [==============================] - 0s 13ms/step - loss: 0.2333 - accuracy: 0.9091 - val_loss: 1.0840 - val_accuracy: 0.5455\n",
            "Epoch 247/300\n",
            "4/4 [==============================] - 0s 14ms/step - loss: 0.2324 - accuracy: 0.9091 - val_loss: 1.1218 - val_accuracy: 0.5909\n",
            "Epoch 248/300\n",
            "4/4 [==============================] - 0s 20ms/step - loss: 0.2353 - accuracy: 0.9545 - val_loss: 1.0944 - val_accuracy: 0.5455\n",
            "Epoch 249/300\n",
            "4/4 [==============================] - 0s 12ms/step - loss: 0.2296 - accuracy: 0.9545 - val_loss: 1.1189 - val_accuracy: 0.5909\n",
            "Epoch 250/300\n",
            "4/4 [==============================] - 0s 15ms/step - loss: 0.2261 - accuracy: 0.9545 - val_loss: 1.0957 - val_accuracy: 0.5455\n",
            "Epoch 251/300\n",
            "4/4 [==============================] - 0s 15ms/step - loss: 0.2290 - accuracy: 0.9545 - val_loss: 1.0228 - val_accuracy: 0.5909\n",
            "Epoch 252/300\n",
            "4/4 [==============================] - 0s 19ms/step - loss: 0.2355 - accuracy: 0.9394 - val_loss: 1.0998 - val_accuracy: 0.5909\n",
            "Epoch 253/300\n",
            "4/4 [==============================] - 0s 22ms/step - loss: 0.2237 - accuracy: 0.9394 - val_loss: 1.1093 - val_accuracy: 0.5909\n",
            "Epoch 254/300\n",
            "4/4 [==============================] - 0s 12ms/step - loss: 0.2203 - accuracy: 0.9545 - val_loss: 1.0965 - val_accuracy: 0.5909\n",
            "Epoch 255/300\n",
            "4/4 [==============================] - 0s 16ms/step - loss: 0.2219 - accuracy: 0.9545 - val_loss: 1.0909 - val_accuracy: 0.5455\n",
            "Epoch 256/300\n",
            "4/4 [==============================] - 0s 13ms/step - loss: 0.2234 - accuracy: 0.9242 - val_loss: 1.0987 - val_accuracy: 0.5909\n",
            "Epoch 257/300\n",
            "4/4 [==============================] - 0s 12ms/step - loss: 0.2165 - accuracy: 0.9545 - val_loss: 1.1154 - val_accuracy: 0.5909\n",
            "Epoch 258/300\n",
            "4/4 [==============================] - 0s 13ms/step - loss: 0.2149 - accuracy: 0.9394 - val_loss: 1.1153 - val_accuracy: 0.5909\n",
            "Epoch 259/300\n",
            "4/4 [==============================] - 0s 16ms/step - loss: 0.2148 - accuracy: 0.9545 - val_loss: 1.1252 - val_accuracy: 0.5909\n",
            "Epoch 260/300\n",
            "4/4 [==============================] - 0s 14ms/step - loss: 0.2121 - accuracy: 0.9545 - val_loss: 1.1135 - val_accuracy: 0.5909\n",
            "Epoch 261/300\n",
            "4/4 [==============================] - 0s 14ms/step - loss: 0.2104 - accuracy: 0.9545 - val_loss: 1.1262 - val_accuracy: 0.5455\n",
            "Epoch 262/300\n",
            "4/4 [==============================] - 0s 14ms/step - loss: 0.2120 - accuracy: 0.9394 - val_loss: 1.1384 - val_accuracy: 0.5455\n",
            "Epoch 263/300\n",
            "4/4 [==============================] - 0s 13ms/step - loss: 0.2062 - accuracy: 0.9545 - val_loss: 1.1545 - val_accuracy: 0.5455\n",
            "Epoch 264/300\n",
            "4/4 [==============================] - 0s 14ms/step - loss: 0.2130 - accuracy: 0.9545 - val_loss: 1.0673 - val_accuracy: 0.5909\n",
            "Epoch 265/300\n",
            "4/4 [==============================] - 0s 14ms/step - loss: 0.2141 - accuracy: 0.9545 - val_loss: 1.1421 - val_accuracy: 0.5455\n",
            "Epoch 266/300\n",
            "4/4 [==============================] - 0s 14ms/step - loss: 0.2054 - accuracy: 0.9545 - val_loss: 1.1374 - val_accuracy: 0.5909\n",
            "Epoch 267/300\n",
            "4/4 [==============================] - 0s 14ms/step - loss: 0.2032 - accuracy: 0.9545 - val_loss: 1.1486 - val_accuracy: 0.5455\n",
            "Epoch 268/300\n",
            "4/4 [==============================] - 0s 15ms/step - loss: 0.2035 - accuracy: 0.9394 - val_loss: 1.2121 - val_accuracy: 0.5455\n",
            "Epoch 269/300\n",
            "4/4 [==============================] - 0s 14ms/step - loss: 0.2026 - accuracy: 0.9545 - val_loss: 1.1750 - val_accuracy: 0.5909\n",
            "Epoch 270/300\n",
            "4/4 [==============================] - 0s 12ms/step - loss: 0.2021 - accuracy: 0.9545 - val_loss: 1.2011 - val_accuracy: 0.5909\n",
            "Epoch 271/300\n",
            "4/4 [==============================] - 0s 15ms/step - loss: 0.2030 - accuracy: 0.9545 - val_loss: 1.1704 - val_accuracy: 0.5909\n",
            "Epoch 272/300\n",
            "4/4 [==============================] - 0s 16ms/step - loss: 0.1997 - accuracy: 0.9545 - val_loss: 1.0924 - val_accuracy: 0.6364\n",
            "Epoch 273/300\n",
            "4/4 [==============================] - 0s 14ms/step - loss: 0.2021 - accuracy: 0.9545 - val_loss: 1.2176 - val_accuracy: 0.5909\n",
            "Epoch 274/300\n",
            "4/4 [==============================] - 0s 18ms/step - loss: 0.1972 - accuracy: 0.9545 - val_loss: 1.2005 - val_accuracy: 0.5909\n",
            "Epoch 275/300\n",
            "4/4 [==============================] - 0s 14ms/step - loss: 0.1956 - accuracy: 0.9545 - val_loss: 1.1746 - val_accuracy: 0.5909\n",
            "Epoch 276/300\n",
            "4/4 [==============================] - 0s 15ms/step - loss: 0.1879 - accuracy: 0.9545 - val_loss: 1.1667 - val_accuracy: 0.5455\n",
            "Epoch 277/300\n",
            "4/4 [==============================] - 0s 15ms/step - loss: 0.1901 - accuracy: 0.9545 - val_loss: 1.1809 - val_accuracy: 0.5909\n",
            "Epoch 278/300\n",
            "4/4 [==============================] - 0s 16ms/step - loss: 0.1895 - accuracy: 0.9545 - val_loss: 1.2052 - val_accuracy: 0.5455\n",
            "Epoch 279/300\n",
            "4/4 [==============================] - 0s 14ms/step - loss: 0.1916 - accuracy: 0.9394 - val_loss: 1.2259 - val_accuracy: 0.5909\n",
            "Epoch 280/300\n",
            "4/4 [==============================] - 0s 14ms/step - loss: 0.1857 - accuracy: 0.9545 - val_loss: 1.2031 - val_accuracy: 0.5455\n",
            "Epoch 281/300\n",
            "4/4 [==============================] - 0s 15ms/step - loss: 0.1834 - accuracy: 0.9545 - val_loss: 1.1872 - val_accuracy: 0.5909\n",
            "Epoch 282/300\n",
            "4/4 [==============================] - 0s 15ms/step - loss: 0.1884 - accuracy: 0.9545 - val_loss: 1.2034 - val_accuracy: 0.5909\n",
            "Epoch 283/300\n",
            "4/4 [==============================] - 0s 13ms/step - loss: 0.1836 - accuracy: 0.9697 - val_loss: 1.2026 - val_accuracy: 0.5909\n",
            "Epoch 284/300\n",
            "4/4 [==============================] - 0s 14ms/step - loss: 0.1844 - accuracy: 0.9697 - val_loss: 1.1118 - val_accuracy: 0.6364\n",
            "Epoch 285/300\n",
            "4/4 [==============================] - 0s 13ms/step - loss: 0.1917 - accuracy: 0.9545 - val_loss: 1.1750 - val_accuracy: 0.5909\n",
            "Epoch 286/300\n",
            "4/4 [==============================] - 0s 20ms/step - loss: 0.1772 - accuracy: 0.9545 - val_loss: 1.2117 - val_accuracy: 0.5909\n",
            "Epoch 287/300\n",
            "4/4 [==============================] - 0s 14ms/step - loss: 0.1807 - accuracy: 0.9394 - val_loss: 1.2588 - val_accuracy: 0.5909\n",
            "Epoch 288/300\n",
            "4/4 [==============================] - 0s 14ms/step - loss: 0.1822 - accuracy: 0.9545 - val_loss: 1.2505 - val_accuracy: 0.5909\n",
            "Epoch 289/300\n",
            "4/4 [==============================] - 0s 21ms/step - loss: 0.1757 - accuracy: 0.9545 - val_loss: 1.2337 - val_accuracy: 0.5455\n",
            "Epoch 290/300\n",
            "4/4 [==============================] - 0s 17ms/step - loss: 0.1793 - accuracy: 0.9545 - val_loss: 1.2121 - val_accuracy: 0.5455\n",
            "Epoch 291/300\n",
            "4/4 [==============================] - 0s 18ms/step - loss: 0.1732 - accuracy: 0.9545 - val_loss: 1.2253 - val_accuracy: 0.5909\n",
            "Epoch 292/300\n",
            "4/4 [==============================] - 0s 15ms/step - loss: 0.1707 - accuracy: 0.9545 - val_loss: 1.2062 - val_accuracy: 0.5909\n",
            "Epoch 293/300\n",
            "4/4 [==============================] - 0s 20ms/step - loss: 0.1709 - accuracy: 0.9545 - val_loss: 1.2484 - val_accuracy: 0.5455\n",
            "Epoch 294/300\n",
            "4/4 [==============================] - 0s 13ms/step - loss: 0.1774 - accuracy: 0.9545 - val_loss: 1.2178 - val_accuracy: 0.5455\n",
            "Epoch 295/300\n",
            "4/4 [==============================] - 0s 14ms/step - loss: 0.1682 - accuracy: 0.9545 - val_loss: 1.2224 - val_accuracy: 0.5455\n",
            "Epoch 296/300\n",
            "4/4 [==============================] - 0s 14ms/step - loss: 0.1744 - accuracy: 0.9242 - val_loss: 1.2684 - val_accuracy: 0.5455\n",
            "Epoch 297/300\n",
            "4/4 [==============================] - 0s 14ms/step - loss: 0.1669 - accuracy: 0.9545 - val_loss: 1.2434 - val_accuracy: 0.5455\n",
            "Epoch 298/300\n",
            "4/4 [==============================] - 0s 13ms/step - loss: 0.1723 - accuracy: 0.9394 - val_loss: 1.2655 - val_accuracy: 0.5455\n",
            "Epoch 299/300\n",
            "4/4 [==============================] - 0s 14ms/step - loss: 0.1685 - accuracy: 0.9394 - val_loss: 1.2573 - val_accuracy: 0.5455\n",
            "Epoch 300/300\n",
            "4/4 [==============================] - 0s 13ms/step - loss: 0.1671 - accuracy: 0.9545 - val_loss: 1.1620 - val_accuracy: 0.5909\n"
          ]
        },
        {
          "output_type": "execute_result",
          "data": {
            "text/plain": [
              "<keras.callbacks.History at 0x7f1e0c24dc70>"
            ]
          },
          "metadata": {},
          "execution_count": 124
        }
      ]
    },
    {
      "cell_type": "code",
      "source": [
        "# Save keras model to ONNX file \n",
        "\n",
        "from aimodelshare.aimsonnx import model_to_onnx\n",
        "\n",
        "onnx_model = model_to_onnx(keras_model, framework='keras',\n",
        "                          transfer_learning=False,\n",
        "                          deep_learning=True)\n",
        "\n",
        "with open(\"model.onnx\", \"wb\") as f:\n",
        "    f.write(onnx_model.SerializeToString())"
      ],
      "metadata": {
        "id": "HoAqfpOaYXdR"
      },
      "id": "HoAqfpOaYXdR",
      "execution_count": null,
      "outputs": []
    },
    {
      "cell_type": "code",
      "source": [
        "# Submit keras model: \n",
        "\n",
        "#-- Generate predicted y values\n",
        "#Note: Keras predict returns the predicted column index location for classification models\n",
        "prediction_column_index=keras_model.predict(preprocessor(X_test)).argmax(axis=1)\n",
        "\n",
        "# extract correct prediction labels \n",
        "prediction_labels = [y_train.columns[i] for i in prediction_column_index]\n",
        "\n",
        "# Submit Model 1 to Competition Leaderboard\n",
        "mycompetition.submit_model(model_filepath = \"model.onnx\",\n",
        "                                 preprocessor_filepath=\"preprocessor.zip\",\n",
        "                                 prediction_submission=prediction_labels, custom_metadata={\"team\":\"1\"})"
      ],
      "metadata": {
        "colab": {
          "base_uri": "https://localhost:8080/"
        },
        "id": "-d4oTEvbYYx7",
        "outputId": "bbc90a69-6dd4-4676-e649-c4a68b3330e6"
      },
      "id": "-d4oTEvbYYx7",
      "execution_count": null,
      "outputs": [
        {
          "output_type": "stream",
          "name": "stdout",
          "text": [
            "3/3 [==============================] - 0s 4ms/step\n",
            "Insert search tags to help users find your model (optional): \n",
            "Provide any useful notes about your model (optional): \n",
            "\n",
            "Your model has been submitted as model version 832\n",
            "\n",
            "To submit code used to create this model or to view current leaderboard navigate to Model Playground: \n",
            "\n",
            " https://www.modelshare.org/detail/model:3164\n"
          ]
        }
      ]
    },
    {
      "cell_type": "markdown",
      "source": [
        "Gradient Boosting Classifier Model perform the best, the relevant hyper parameters are max_depth=1 and n_estimators=100"
      ],
      "metadata": {
        "id": "T_tpah45Y4Ky"
      },
      "id": "T_tpah45Y4Ky"
    },
    {
      "cell_type": "markdown",
      "source": [
        "Link to GitHub Repo: https://github.com/Estelleccc/ml-project-steps/tree/main/Homework"
      ],
      "metadata": {
        "id": "uF-MYoiwh2_T"
      },
      "id": "uF-MYoiwh2_T"
    }
  ],
  "metadata": {
    "kernelspec": {
      "display_name": "Python 3 (ipykernel)",
      "language": "python",
      "name": "python3"
    },
    "language_info": {
      "codemirror_mode": {
        "name": "ipython",
        "version": 3
      },
      "file_extension": ".py",
      "mimetype": "text/x-python",
      "name": "python",
      "nbconvert_exporter": "python",
      "pygments_lexer": "ipython3",
      "version": "3.9.12"
    },
    "colab": {
      "provenance": []
    }
  },
  "nbformat": 4,
  "nbformat_minor": 5
}
